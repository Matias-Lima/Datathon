{
 "cells": [
  {
   "cell_type": "code",
   "execution_count": 3,
   "id": "68e4bf36-d4c2-4b7f-9aa6-fa94b6d4e9cb",
   "metadata": {
    "tags": []
   },
   "outputs": [
    {
     "name": "stdout",
     "output_type": "stream",
     "text": [
      "Note: you may need to restart the kernel to use updated packages.\n",
      "Collecting pandas-ta\n",
      "  Using cached pandas_ta-0.3.14b.tar.gz (115 kB)\n",
      "  Preparing metadata (setup.py): started\n",
      "  Preparing metadata (setup.py): finished with status 'error'\n"
     ]
    },
    {
     "name": "stderr",
     "output_type": "stream",
     "text": [
      "  ERROR: Error [WinError 225] Não foi possível concluir a operação com êxito porque o arquivo contém um vírus ou software possivelmente indesejado while executing command python setup.py egg_info\n",
      "ERROR: Could not install packages due to an OSError: [WinError 225] Não foi possível concluir a operação com êxito porque o arquivo contém um vírus ou software possivelmente indesejado\n",
      "\n"
     ]
    }
   ],
   "source": [
    "pip install pandas-ta"
   ]
  },
  {
   "cell_type": "code",
   "execution_count": 7,
   "id": "53f55d37-f056-4be9-a0dd-d011d623b666",
   "metadata": {
    "tags": []
   },
   "outputs": [
    {
     "name": "stdout",
     "output_type": "stream",
     "text": [
      "Requirement already satisfied: pip in c:\\users\\limam\\anaconda3\\lib\\site-packages (23.2.1)Note: you may need to restart the kernel to use updated packages.\n",
      "\n",
      "Collecting pip\n",
      "  Obtaining dependency information for pip from https://files.pythonhosted.org/packages/47/6a/453160888fab7c6a432a6e25f8afe6256d0d9f2cbd25971021da6491d899/pip-23.3.1-py3-none-any.whl.metadata\n",
      "  Downloading pip-23.3.1-py3-none-any.whl.metadata (3.5 kB)\n",
      "Downloading pip-23.3.1-py3-none-any.whl (2.1 MB)\n",
      "   ---------------------------------------- 0.0/2.1 MB ? eta -:--:--\n",
      "   ---------------------------------------- 0.0/2.1 MB ? eta -:--:--\n",
      "   ---------------------------------------- 0.0/2.1 MB ? eta -:--:--\n",
      "   - -------------------------------------- 0.1/2.1 MB 656.4 kB/s eta 0:00:04\n",
      "   --- ------------------------------------ 0.2/2.1 MB 1.3 MB/s eta 0:00:02\n",
      "   ----- ---------------------------------- 0.3/2.1 MB 1.6 MB/s eta 0:00:02\n",
      "   -------- ------------------------------- 0.4/2.1 MB 2.0 MB/s eta 0:00:01\n",
      "   ---------- ----------------------------- 0.5/2.1 MB 2.0 MB/s eta 0:00:01\n",
      "   ------------ --------------------------- 0.7/2.1 MB 2.1 MB/s eta 0:00:01\n",
      "   -------------- ------------------------- 0.8/2.1 MB 2.2 MB/s eta 0:00:01\n",
      "   ----------------- ---------------------- 0.9/2.1 MB 2.2 MB/s eta 0:00:01\n",
      "   ------------------ --------------------- 1.0/2.1 MB 2.2 MB/s eta 0:00:01\n",
      "   --------------------- ------------------ 1.1/2.1 MB 2.3 MB/s eta 0:00:01\n",
      "   ---------------------- ----------------- 1.2/2.1 MB 2.3 MB/s eta 0:00:01\n",
      "   ------------------------- -------------- 1.4/2.1 MB 2.3 MB/s eta 0:00:01\n",
      "   --------------------------- ------------ 1.5/2.1 MB 2.3 MB/s eta 0:00:01\n",
      "   ------------------------------ --------- 1.6/2.1 MB 2.3 MB/s eta 0:00:01\n",
      "   -------------------------------- ------- 1.7/2.1 MB 2.3 MB/s eta 0:00:01\n",
      "   ---------------------------------- ----- 1.8/2.1 MB 2.4 MB/s eta 0:00:01\n",
      "   ----------------------------------- ---- 1.9/2.1 MB 2.3 MB/s eta 0:00:01\n",
      "   -------------------------------------- - 2.0/2.1 MB 2.4 MB/s eta 0:00:01\n",
      "   ---------------------------------------- 2.1/2.1 MB 2.3 MB/s eta 0:00:00\n",
      "Installing collected packages: pip\n",
      "  Attempting uninstall: pip\n",
      "    Found existing installation: pip 23.2.1\n",
      "    Uninstalling pip-23.2.1:\n",
      "      Successfully uninstalled pip-23.2.1\n",
      "Successfully installed pip-23.3.1\n"
     ]
    }
   ],
   "source": [
    "pip install --upgrade pip\n"
   ]
  },
  {
   "cell_type": "code",
   "execution_count": 2,
   "id": "4ee71102-b7b0-4dbe-9915-87e5319073b3",
   "metadata": {
    "tags": []
   },
   "outputs": [
    {
     "ename": "ModuleNotFoundError",
     "evalue": "No module named 'pandas_ta'",
     "output_type": "error",
     "traceback": [
      "\u001b[1;31m---------------------------------------------------------------------------\u001b[0m",
      "\u001b[1;31mModuleNotFoundError\u001b[0m                       Traceback (most recent call last)",
      "Cell \u001b[1;32mIn[2], line 1\u001b[0m\n\u001b[1;32m----> 1\u001b[0m \u001b[38;5;28;01mimport\u001b[39;00m \u001b[38;5;21;01mpandas_ta\u001b[39;00m \u001b[38;5;28;01mas\u001b[39;00m \u001b[38;5;21;01mta\u001b[39;00m\n\u001b[0;32m      2\u001b[0m \u001b[38;5;28;01mimport\u001b[39;00m \u001b[38;5;21;01mpandas\u001b[39;00m \u001b[38;5;28;01mas\u001b[39;00m \u001b[38;5;21;01mpd\u001b[39;00m\n\u001b[0;32m      3\u001b[0m \u001b[38;5;28;01mimport\u001b[39;00m \u001b[38;5;21;01mnumpy\u001b[39;00m \u001b[38;5;28;01mas\u001b[39;00m \u001b[38;5;21;01mnp\u001b[39;00m\n",
      "\u001b[1;31mModuleNotFoundError\u001b[0m: No module named 'pandas_ta'"
     ]
    }
   ],
   "source": [
    "import pandas_ta as ta\n",
    "import pandas as pd\n",
    "import numpy as np\n",
    "import matplotlib.pyplot as plt\n",
    "from matplotlib import style\n",
    "import talib as tl\n",
    "from sklearn.decomposition import PCA\n",
    "from arch import arch_model\n",
    "\n",
    "plt.style.use('dark_background')\n",
    "\n"
   ]
  },
  {
   "cell_type": "code",
   "execution_count": null,
   "id": "610ef6c1-4bcd-4747-bd4f-2f66d0d30dbe",
   "metadata": {},
   "outputs": [],
   "source": []
  },
  {
   "cell_type": "code",
   "execution_count": null,
   "id": "834718fe-c06d-45a2-b0f6-8ac400a25c3b",
   "metadata": {},
   "outputs": [],
   "source": []
  },
  {
   "cell_type": "code",
   "execution_count": null,
   "id": "a175b9c6-dde7-449d-9320-19f66e2d9430",
   "metadata": {},
   "outputs": [],
   "source": []
  }
 ],
 "metadata": {
  "kernelspec": {
   "display_name": "Python 3 (ipykernel)",
   "language": "python",
   "name": "python3"
  },
  "language_info": {
   "codemirror_mode": {
    "name": "ipython",
    "version": 3
   },
   "file_extension": ".py",
   "mimetype": "text/x-python",
   "name": "python",
   "nbconvert_exporter": "python",
   "pygments_lexer": "ipython3",
   "version": "3.11.5"
  }
 },
 "nbformat": 4,
 "nbformat_minor": 5
}
