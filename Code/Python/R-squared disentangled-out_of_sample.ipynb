{
 "cells": [
  {
   "cell_type": "markdown",
   "metadata": {},
   "source": [
    "# **R-Squared Disentangled out-of-sample**"
   ]
  },
  {
   "cell_type": "markdown",
   "metadata": {},
   "source": [
    "### Import Libraries"
   ]
  },
  {
   "cell_type": "code",
   "execution_count": 86,
   "metadata": {
    "tags": []
   },
   "outputs": [],
   "source": [
    "import numpy as np\n",
    "import pandas as pd\n",
    "import statsmodels.api as sm\n",
    "\n",
    "from datetime import datetime, timedelta\n",
    "\n",
    "pd.set_option('display.max_columns', 500)"
   ]
  },
  {
   "cell_type": "markdown",
   "metadata": {},
   "source": [
    "### Import Data"
   ]
  },
  {
   "cell_type": "code",
   "execution_count": 87,
   "metadata": {
    "tags": []
   },
   "outputs": [
    {
     "data": {
      "text/html": [
       "<div>\n",
       "<style scoped>\n",
       "    .dataframe tbody tr th:only-of-type {\n",
       "        vertical-align: middle;\n",
       "    }\n",
       "\n",
       "    .dataframe tbody tr th {\n",
       "        vertical-align: top;\n",
       "    }\n",
       "\n",
       "    .dataframe thead th {\n",
       "        text-align: right;\n",
       "    }\n",
       "</style>\n",
       "<table border=\"1\" class=\"dataframe\">\n",
       "  <thead>\n",
       "    <tr style=\"text-align: right;\">\n",
       "      <th></th>\n",
       "      <th>date</th>\n",
       "      <th>daily_index</th>\n",
       "      <th>sentiment</th>\n",
       "      <th>weekly_mean</th>\n",
       "      <th>montly_mean</th>\n",
       "    </tr>\n",
       "  </thead>\n",
       "  <tbody>\n",
       "    <tr>\n",
       "      <th>0</th>\n",
       "      <td>2023-10-23</td>\n",
       "      <td>53</td>\n",
       "      <td>Neutral</td>\n",
       "      <td>NaN</td>\n",
       "      <td>NaN</td>\n",
       "    </tr>\n",
       "    <tr>\n",
       "      <th>1</th>\n",
       "      <td>2023-10-22</td>\n",
       "      <td>53</td>\n",
       "      <td>Neutral</td>\n",
       "      <td>52.857143</td>\n",
       "      <td>NaN</td>\n",
       "    </tr>\n",
       "    <tr>\n",
       "      <th>2</th>\n",
       "      <td>2023-10-21</td>\n",
       "      <td>63</td>\n",
       "      <td>Greed</td>\n",
       "      <td>NaN</td>\n",
       "      <td>NaN</td>\n",
       "    </tr>\n",
       "    <tr>\n",
       "      <th>3</th>\n",
       "      <td>2023-10-20</td>\n",
       "      <td>53</td>\n",
       "      <td>Neutral</td>\n",
       "      <td>NaN</td>\n",
       "      <td>NaN</td>\n",
       "    </tr>\n",
       "    <tr>\n",
       "      <th>4</th>\n",
       "      <td>2023-10-19</td>\n",
       "      <td>52</td>\n",
       "      <td>Neutral</td>\n",
       "      <td>NaN</td>\n",
       "      <td>NaN</td>\n",
       "    </tr>\n",
       "    <tr>\n",
       "      <th>...</th>\n",
       "      <td>...</td>\n",
       "      <td>...</td>\n",
       "      <td>...</td>\n",
       "      <td>...</td>\n",
       "      <td>...</td>\n",
       "    </tr>\n",
       "    <tr>\n",
       "      <th>2083</th>\n",
       "      <td>2018-02-05</td>\n",
       "      <td>11</td>\n",
       "      <td>Extreme Fear</td>\n",
       "      <td>NaN</td>\n",
       "      <td>NaN</td>\n",
       "    </tr>\n",
       "    <tr>\n",
       "      <th>2084</th>\n",
       "      <td>2018-02-04</td>\n",
       "      <td>24</td>\n",
       "      <td>Extreme Fear</td>\n",
       "      <td>27.250000</td>\n",
       "      <td>NaN</td>\n",
       "    </tr>\n",
       "    <tr>\n",
       "      <th>2085</th>\n",
       "      <td>2018-02-03</td>\n",
       "      <td>40</td>\n",
       "      <td>Fear</td>\n",
       "      <td>NaN</td>\n",
       "      <td>NaN</td>\n",
       "    </tr>\n",
       "    <tr>\n",
       "      <th>2086</th>\n",
       "      <td>2018-02-02</td>\n",
       "      <td>15</td>\n",
       "      <td>Extreme Fear</td>\n",
       "      <td>NaN</td>\n",
       "      <td>NaN</td>\n",
       "    </tr>\n",
       "    <tr>\n",
       "      <th>2087</th>\n",
       "      <td>2018-02-01</td>\n",
       "      <td>30</td>\n",
       "      <td>Fear</td>\n",
       "      <td>NaN</td>\n",
       "      <td>NaN</td>\n",
       "    </tr>\n",
       "  </tbody>\n",
       "</table>\n",
       "<p>2088 rows × 5 columns</p>\n",
       "</div>"
      ],
      "text/plain": [
       "           date  daily_index     sentiment  weekly_mean  montly_mean\n",
       "0    2023-10-23           53       Neutral          NaN          NaN\n",
       "1    2023-10-22           53       Neutral    52.857143          NaN\n",
       "2    2023-10-21           63         Greed          NaN          NaN\n",
       "3    2023-10-20           53       Neutral          NaN          NaN\n",
       "4    2023-10-19           52       Neutral          NaN          NaN\n",
       "...         ...          ...           ...          ...          ...\n",
       "2083 2018-02-05           11  Extreme Fear          NaN          NaN\n",
       "2084 2018-02-04           24  Extreme Fear    27.250000          NaN\n",
       "2085 2018-02-03           40          Fear          NaN          NaN\n",
       "2086 2018-02-02           15  Extreme Fear          NaN          NaN\n",
       "2087 2018-02-01           30          Fear          NaN          NaN\n",
       "\n",
       "[2088 rows x 5 columns]"
      ]
     },
     "execution_count": 87,
     "metadata": {},
     "output_type": "execute_result"
    }
   ],
   "source": [
    "dummy = pd.read_excel(\"../../Dados/crypto_fear_greed_data.xlsx\")\n",
    "dummy"
   ]
  },
  {
   "cell_type": "markdown",
   "metadata": {},
   "source": [
    "## *R-Squared*"
   ]
  },
  {
   "cell_type": "code",
   "execution_count": 88,
   "metadata": {
    "tags": []
   },
   "outputs": [
    {
     "data": {
      "text/html": [
       "<div>\n",
       "<style scoped>\n",
       "    .dataframe tbody tr th:only-of-type {\n",
       "        vertical-align: middle;\n",
       "    }\n",
       "\n",
       "    .dataframe tbody tr th {\n",
       "        vertical-align: top;\n",
       "    }\n",
       "\n",
       "    .dataframe thead th {\n",
       "        text-align: right;\n",
       "    }\n",
       "</style>\n",
       "<table border=\"1\" class=\"dataframe\">\n",
       "  <thead>\n",
       "    <tr style=\"text-align: right;\">\n",
       "      <th></th>\n",
       "      <th>daily_index</th>\n",
       "      <th>weekly_mean</th>\n",
       "      <th>sentiment</th>\n",
       "    </tr>\n",
       "    <tr>\n",
       "      <th>date</th>\n",
       "      <th></th>\n",
       "      <th></th>\n",
       "      <th></th>\n",
       "    </tr>\n",
       "  </thead>\n",
       "  <tbody>\n",
       "    <tr>\n",
       "      <th>2018-02-01</th>\n",
       "      <td>30</td>\n",
       "      <td>NaN</td>\n",
       "      <td>0</td>\n",
       "    </tr>\n",
       "    <tr>\n",
       "      <th>2018-02-02</th>\n",
       "      <td>15</td>\n",
       "      <td>NaN</td>\n",
       "      <td>0</td>\n",
       "    </tr>\n",
       "    <tr>\n",
       "      <th>2018-02-03</th>\n",
       "      <td>40</td>\n",
       "      <td>NaN</td>\n",
       "      <td>0</td>\n",
       "    </tr>\n",
       "    <tr>\n",
       "      <th>2018-02-04</th>\n",
       "      <td>24</td>\n",
       "      <td>NaN</td>\n",
       "      <td>0</td>\n",
       "    </tr>\n",
       "    <tr>\n",
       "      <th>2018-02-05</th>\n",
       "      <td>11</td>\n",
       "      <td>NaN</td>\n",
       "      <td>0</td>\n",
       "    </tr>\n",
       "    <tr>\n",
       "      <th>...</th>\n",
       "      <td>...</td>\n",
       "      <td>...</td>\n",
       "      <td>...</td>\n",
       "    </tr>\n",
       "    <tr>\n",
       "      <th>2023-10-19</th>\n",
       "      <td>52</td>\n",
       "      <td>48.142857</td>\n",
       "      <td>Neutral</td>\n",
       "    </tr>\n",
       "    <tr>\n",
       "      <th>2023-10-20</th>\n",
       "      <td>53</td>\n",
       "      <td>49.428571</td>\n",
       "      <td>Neutral</td>\n",
       "    </tr>\n",
       "    <tr>\n",
       "      <th>2023-10-21</th>\n",
       "      <td>63</td>\n",
       "      <td>51.714286</td>\n",
       "      <td>Neutral</td>\n",
       "    </tr>\n",
       "    <tr>\n",
       "      <th>2023-10-22</th>\n",
       "      <td>53</td>\n",
       "      <td>52.857143</td>\n",
       "      <td>Neutral</td>\n",
       "    </tr>\n",
       "    <tr>\n",
       "      <th>2023-10-23</th>\n",
       "      <td>53</td>\n",
       "      <td>53.714286</td>\n",
       "      <td>Neutral</td>\n",
       "    </tr>\n",
       "  </tbody>\n",
       "</table>\n",
       "<p>2088 rows × 3 columns</p>\n",
       "</div>"
      ],
      "text/plain": [
       "            daily_index  weekly_mean sentiment\n",
       "date                                          \n",
       "2018-02-01           30          NaN         0\n",
       "2018-02-02           15          NaN         0\n",
       "2018-02-03           40          NaN         0\n",
       "2018-02-04           24          NaN         0\n",
       "2018-02-05           11          NaN         0\n",
       "...                 ...          ...       ...\n",
       "2023-10-19           52    48.142857   Neutral\n",
       "2023-10-20           53    49.428571   Neutral\n",
       "2023-10-21           63    51.714286   Neutral\n",
       "2023-10-22           53    52.857143   Neutral\n",
       "2023-10-23           53    53.714286   Neutral\n",
       "\n",
       "[2088 rows x 3 columns]"
      ]
     },
     "execution_count": 88,
     "metadata": {},
     "output_type": "execute_result"
    }
   ],
   "source": [
    "fg = dummy.drop(['sentiment', 'weekly_mean', 'montly_mean'], axis=1).set_index('date').sort_values(by='date', ascending=True)\n",
    "fg['weekly_mean'] = fg['daily_index'].rolling(7).mean()\n",
    "fg['sentiment'] = 0\n",
    "\n",
    "# fg.loc[(fg['weekly_mean'] <= 24), 'sentiment'] = 'Extreme Fear'\n",
    "# fg.loc[(fg['weekly_mean'] >24) & (fg['weekly_mean'] <= 44), 'sentiment'] = 'Fear'\n",
    "# fg.loc[(fg['weekly_mean'] > 44) & (fg['weekly_mean'] <= 55), 'sentiment'] = 'Neutral'\n",
    "# fg.loc[(fg['weekly_mean'] > 55) & (fg['weekly_mean'] <= 75), 'sentiment'] = 'Greed'\n",
    "# fg.loc[(fg['weekly_mean'] > 75), 'sentiment'] = 'Extreme Greed'\n",
    "\n",
    "fg.loc[(fg['weekly_mean'] <= 44), 'sentiment'] = 'Fear'\n",
    "fg.loc[(fg['weekly_mean'] > 44) & (fg['weekly_mean'] <= 55), 'sentiment'] = 'Neutral'\n",
    "fg.loc[fg['weekly_mean'] > 55, 'sentiment'] = 'Greed'\n",
    "\n",
    "# fg.loc[(fg['weekly_mean'] <= 50), 'sentiment'] = 'Fear'\n",
    "# fg.loc[(fg['weekly_mean'] > 50), 'sentiment'] = 'Greed'\n",
    "\n",
    "# fg.loc[(fg['weekly_mean'] > 24) & (fg['weekly_mean'] <= 75), 'sentiment'] = 'Neutral'\n",
    "# fg.loc[(fg['weekly_mean'] <= 24) | (fg['weekly_mean'] > 75), 'sentiment'] = 'Extreme'\n",
    "\n",
    "fg"
   ]
  },
  {
   "cell_type": "code",
   "execution_count": 89,
   "metadata": {
    "tags": []
   },
   "outputs": [
    {
     "data": {
      "text/html": [
       "<div>\n",
       "<style scoped>\n",
       "    .dataframe tbody tr th:only-of-type {\n",
       "        vertical-align: middle;\n",
       "    }\n",
       "\n",
       "    .dataframe tbody tr th {\n",
       "        vertical-align: top;\n",
       "    }\n",
       "\n",
       "    .dataframe thead th {\n",
       "        text-align: right;\n",
       "    }\n",
       "</style>\n",
       "<table border=\"1\" class=\"dataframe\">\n",
       "  <thead>\n",
       "    <tr style=\"text-align: right;\">\n",
       "      <th></th>\n",
       "      <th>Date</th>\n",
       "      <th>Adj Close</th>\n",
       "      <th>Volume</th>\n",
       "      <th>MA_1_9</th>\n",
       "      <th>MA_1_12</th>\n",
       "      <th>MA_2_9</th>\n",
       "      <th>MA_2_12</th>\n",
       "      <th>MA_3_9</th>\n",
       "      <th>MA_3_12</th>\n",
       "      <th>MOM_9</th>\n",
       "      <th>MOM_12</th>\n",
       "      <th>VOL_1_9</th>\n",
       "      <th>VOL_1_12</th>\n",
       "      <th>VOL_2_9</th>\n",
       "      <th>VOL_2_12</th>\n",
       "      <th>VOL_3_9</th>\n",
       "      <th>VOL_3_12</th>\n",
       "    </tr>\n",
       "  </thead>\n",
       "  <tbody>\n",
       "    <tr>\n",
       "      <th>0</th>\n",
       "      <td>2015-03-02</td>\n",
       "      <td>274.354004</td>\n",
       "      <td>242425100</td>\n",
       "      <td>1</td>\n",
       "      <td>1</td>\n",
       "      <td>1</td>\n",
       "      <td>1</td>\n",
       "      <td>1</td>\n",
       "      <td>0</td>\n",
       "      <td>1</td>\n",
       "      <td>0</td>\n",
       "      <td>1</td>\n",
       "      <td>1</td>\n",
       "      <td>1</td>\n",
       "      <td>1</td>\n",
       "      <td>1</td>\n",
       "      <td>1</td>\n",
       "    </tr>\n",
       "    <tr>\n",
       "      <th>1</th>\n",
       "      <td>2015-03-09</td>\n",
       "      <td>286.393005</td>\n",
       "      <td>259502000</td>\n",
       "      <td>1</td>\n",
       "      <td>1</td>\n",
       "      <td>1</td>\n",
       "      <td>1</td>\n",
       "      <td>1</td>\n",
       "      <td>1</td>\n",
       "      <td>1</td>\n",
       "      <td>0</td>\n",
       "      <td>1</td>\n",
       "      <td>1</td>\n",
       "      <td>1</td>\n",
       "      <td>1</td>\n",
       "      <td>1</td>\n",
       "      <td>1</td>\n",
       "    </tr>\n",
       "    <tr>\n",
       "      <th>2</th>\n",
       "      <td>2015-03-16</td>\n",
       "      <td>267.959991</td>\n",
       "      <td>206778200</td>\n",
       "      <td>1</td>\n",
       "      <td>1</td>\n",
       "      <td>1</td>\n",
       "      <td>1</td>\n",
       "      <td>1</td>\n",
       "      <td>1</td>\n",
       "      <td>1</td>\n",
       "      <td>1</td>\n",
       "      <td>1</td>\n",
       "      <td>1</td>\n",
       "      <td>1</td>\n",
       "      <td>1</td>\n",
       "      <td>1</td>\n",
       "      <td>1</td>\n",
       "    </tr>\n",
       "    <tr>\n",
       "      <th>3</th>\n",
       "      <td>2015-03-23</td>\n",
       "      <td>242.712997</td>\n",
       "      <td>179497700</td>\n",
       "      <td>0</td>\n",
       "      <td>0</td>\n",
       "      <td>1</td>\n",
       "      <td>1</td>\n",
       "      <td>1</td>\n",
       "      <td>1</td>\n",
       "      <td>1</td>\n",
       "      <td>0</td>\n",
       "      <td>1</td>\n",
       "      <td>1</td>\n",
       "      <td>1</td>\n",
       "      <td>1</td>\n",
       "      <td>1</td>\n",
       "      <td>1</td>\n",
       "    </tr>\n",
       "    <tr>\n",
       "      <th>4</th>\n",
       "      <td>2015-03-30</td>\n",
       "      <td>260.597992</td>\n",
       "      <td>150120700</td>\n",
       "      <td>1</td>\n",
       "      <td>1</td>\n",
       "      <td>0</td>\n",
       "      <td>1</td>\n",
       "      <td>1</td>\n",
       "      <td>1</td>\n",
       "      <td>1</td>\n",
       "      <td>1</td>\n",
       "      <td>1</td>\n",
       "      <td>1</td>\n",
       "      <td>1</td>\n",
       "      <td>1</td>\n",
       "      <td>1</td>\n",
       "      <td>1</td>\n",
       "    </tr>\n",
       "    <tr>\n",
       "      <th>...</th>\n",
       "      <td>...</td>\n",
       "      <td>...</td>\n",
       "      <td>...</td>\n",
       "      <td>...</td>\n",
       "      <td>...</td>\n",
       "      <td>...</td>\n",
       "      <td>...</td>\n",
       "      <td>...</td>\n",
       "      <td>...</td>\n",
       "      <td>...</td>\n",
       "      <td>...</td>\n",
       "      <td>...</td>\n",
       "      <td>...</td>\n",
       "      <td>...</td>\n",
       "      <td>...</td>\n",
       "      <td>...</td>\n",
       "      <td>...</td>\n",
       "    </tr>\n",
       "    <tr>\n",
       "      <th>448</th>\n",
       "      <td>2023-10-02</td>\n",
       "      <td>27935.089844</td>\n",
       "      <td>82183775698</td>\n",
       "      <td>1</td>\n",
       "      <td>1</td>\n",
       "      <td>1</td>\n",
       "      <td>1</td>\n",
       "      <td>1</td>\n",
       "      <td>0</td>\n",
       "      <td>0</td>\n",
       "      <td>0</td>\n",
       "      <td>0</td>\n",
       "      <td>0</td>\n",
       "      <td>0</td>\n",
       "      <td>0</td>\n",
       "      <td>0</td>\n",
       "      <td>0</td>\n",
       "    </tr>\n",
       "    <tr>\n",
       "      <th>449</th>\n",
       "      <td>2023-10-09</td>\n",
       "      <td>27159.652344</td>\n",
       "      <td>72673654487</td>\n",
       "      <td>1</td>\n",
       "      <td>0</td>\n",
       "      <td>1</td>\n",
       "      <td>1</td>\n",
       "      <td>1</td>\n",
       "      <td>1</td>\n",
       "      <td>1</td>\n",
       "      <td>0</td>\n",
       "      <td>0</td>\n",
       "      <td>0</td>\n",
       "      <td>0</td>\n",
       "      <td>0</td>\n",
       "      <td>0</td>\n",
       "      <td>0</td>\n",
       "    </tr>\n",
       "    <tr>\n",
       "      <th>450</th>\n",
       "      <td>2023-10-16</td>\n",
       "      <td>29993.896484</td>\n",
       "      <td>113402383094</td>\n",
       "      <td>1</td>\n",
       "      <td>1</td>\n",
       "      <td>1</td>\n",
       "      <td>1</td>\n",
       "      <td>1</td>\n",
       "      <td>1</td>\n",
       "      <td>1</td>\n",
       "      <td>1</td>\n",
       "      <td>0</td>\n",
       "      <td>0</td>\n",
       "      <td>0</td>\n",
       "      <td>0</td>\n",
       "      <td>0</td>\n",
       "      <td>0</td>\n",
       "    </tr>\n",
       "    <tr>\n",
       "      <th>451</th>\n",
       "      <td>2023-10-23</td>\n",
       "      <td>33086.234375</td>\n",
       "      <td>38363572311</td>\n",
       "      <td>1</td>\n",
       "      <td>1</td>\n",
       "      <td>1</td>\n",
       "      <td>1</td>\n",
       "      <td>1</td>\n",
       "      <td>1</td>\n",
       "      <td>1</td>\n",
       "      <td>1</td>\n",
       "      <td>1</td>\n",
       "      <td>0</td>\n",
       "      <td>1</td>\n",
       "      <td>0</td>\n",
       "      <td>0</td>\n",
       "      <td>0</td>\n",
       "    </tr>\n",
       "    <tr>\n",
       "      <th>452</th>\n",
       "      <td>2023-10-24</td>\n",
       "      <td>33559.125000</td>\n",
       "      <td>53066547200</td>\n",
       "      <td>1</td>\n",
       "      <td>1</td>\n",
       "      <td>1</td>\n",
       "      <td>1</td>\n",
       "      <td>1</td>\n",
       "      <td>1</td>\n",
       "      <td>1</td>\n",
       "      <td>1</td>\n",
       "      <td>1</td>\n",
       "      <td>1</td>\n",
       "      <td>1</td>\n",
       "      <td>1</td>\n",
       "      <td>1</td>\n",
       "      <td>1</td>\n",
       "    </tr>\n",
       "  </tbody>\n",
       "</table>\n",
       "<p>453 rows × 17 columns</p>\n",
       "</div>"
      ],
      "text/plain": [
       "          Date     Adj Close        Volume  MA_1_9  MA_1_12  MA_2_9  MA_2_12   \n",
       "0   2015-03-02    274.354004     242425100       1        1       1        1  \\\n",
       "1   2015-03-09    286.393005     259502000       1        1       1        1   \n",
       "2   2015-03-16    267.959991     206778200       1        1       1        1   \n",
       "3   2015-03-23    242.712997     179497700       0        0       1        1   \n",
       "4   2015-03-30    260.597992     150120700       1        1       0        1   \n",
       "..         ...           ...           ...     ...      ...     ...      ...   \n",
       "448 2023-10-02  27935.089844   82183775698       1        1       1        1   \n",
       "449 2023-10-09  27159.652344   72673654487       1        0       1        1   \n",
       "450 2023-10-16  29993.896484  113402383094       1        1       1        1   \n",
       "451 2023-10-23  33086.234375   38363572311       1        1       1        1   \n",
       "452 2023-10-24  33559.125000   53066547200       1        1       1        1   \n",
       "\n",
       "     MA_3_9  MA_3_12  MOM_9  MOM_12  VOL_1_9  VOL_1_12  VOL_2_9  VOL_2_12   \n",
       "0         1        0      1       0        1         1        1         1  \\\n",
       "1         1        1      1       0        1         1        1         1   \n",
       "2         1        1      1       1        1         1        1         1   \n",
       "3         1        1      1       0        1         1        1         1   \n",
       "4         1        1      1       1        1         1        1         1   \n",
       "..      ...      ...    ...     ...      ...       ...      ...       ...   \n",
       "448       1        0      0       0        0         0        0         0   \n",
       "449       1        1      1       0        0         0        0         0   \n",
       "450       1        1      1       1        0         0        0         0   \n",
       "451       1        1      1       1        1         0        1         0   \n",
       "452       1        1      1       1        1         1        1         1   \n",
       "\n",
       "     VOL_3_9  VOL_3_12  \n",
       "0          1         1  \n",
       "1          1         1  \n",
       "2          1         1  \n",
       "3          1         1  \n",
       "4          1         1  \n",
       "..       ...       ...  \n",
       "448        0         0  \n",
       "449        0         0  \n",
       "450        0         0  \n",
       "451        0         0  \n",
       "452        1         1  \n",
       "\n",
       "[453 rows x 17 columns]"
      ]
     },
     "execution_count": 89,
     "metadata": {},
     "output_type": "execute_result"
    }
   ],
   "source": [
    "tech = pd.read_excel(\"../../Dados/tech_signals_w.xlsx\")\n",
    "tech['Date'] = pd.to_datetime(tech['Date'])\n",
    "tech"
   ]
  },
  {
   "cell_type": "code",
   "execution_count": 90,
   "metadata": {
    "tags": []
   },
   "outputs": [
    {
     "data": {
      "text/html": [
       "<div>\n",
       "<style scoped>\n",
       "    .dataframe tbody tr th:only-of-type {\n",
       "        vertical-align: middle;\n",
       "    }\n",
       "\n",
       "    .dataframe tbody tr th {\n",
       "        vertical-align: top;\n",
       "    }\n",
       "\n",
       "    .dataframe thead th {\n",
       "        text-align: right;\n",
       "    }\n",
       "</style>\n",
       "<table border=\"1\" class=\"dataframe\">\n",
       "  <thead>\n",
       "    <tr style=\"text-align: right;\">\n",
       "      <th></th>\n",
       "      <th>Date</th>\n",
       "      <th>Adj Close</th>\n",
       "      <th>Volume</th>\n",
       "      <th>MA_1_9</th>\n",
       "      <th>MA_1_12</th>\n",
       "      <th>MA_2_9</th>\n",
       "      <th>MA_2_12</th>\n",
       "      <th>MA_3_9</th>\n",
       "      <th>MA_3_12</th>\n",
       "      <th>MOM_9</th>\n",
       "      <th>MOM_12</th>\n",
       "      <th>VOL_1_9</th>\n",
       "      <th>VOL_1_12</th>\n",
       "      <th>VOL_2_9</th>\n",
       "      <th>VOL_2_12</th>\n",
       "      <th>VOL_3_9</th>\n",
       "      <th>VOL_3_12</th>\n",
       "      <th>weekly_mean</th>\n",
       "      <th>sentiment</th>\n",
       "    </tr>\n",
       "  </thead>\n",
       "  <tbody>\n",
       "    <tr>\n",
       "      <th>154</th>\n",
       "      <td>2018-02-09</td>\n",
       "      <td>10551.799805</td>\n",
       "      <td>53626569728</td>\n",
       "      <td>0</td>\n",
       "      <td>0</td>\n",
       "      <td>0</td>\n",
       "      <td>0</td>\n",
       "      <td>0</td>\n",
       "      <td>0</td>\n",
       "      <td>0</td>\n",
       "      <td>0</td>\n",
       "      <td>0</td>\n",
       "      <td>0</td>\n",
       "      <td>0</td>\n",
       "      <td>0</td>\n",
       "      <td>0</td>\n",
       "      <td>0</td>\n",
       "      <td>35.000000</td>\n",
       "      <td>Fear</td>\n",
       "    </tr>\n",
       "    <tr>\n",
       "      <th>155</th>\n",
       "      <td>2018-02-16</td>\n",
       "      <td>9664.730469</td>\n",
       "      <td>55388419584</td>\n",
       "      <td>0</td>\n",
       "      <td>0</td>\n",
       "      <td>0</td>\n",
       "      <td>0</td>\n",
       "      <td>0</td>\n",
       "      <td>0</td>\n",
       "      <td>0</td>\n",
       "      <td>0</td>\n",
       "      <td>0</td>\n",
       "      <td>0</td>\n",
       "      <td>0</td>\n",
       "      <td>0</td>\n",
       "      <td>0</td>\n",
       "      <td>0</td>\n",
       "      <td>61.714286</td>\n",
       "      <td>Greed</td>\n",
       "    </tr>\n",
       "    <tr>\n",
       "      <th>156</th>\n",
       "      <td>2018-02-23</td>\n",
       "      <td>11512.599609</td>\n",
       "      <td>48902649856</td>\n",
       "      <td>1</td>\n",
       "      <td>0</td>\n",
       "      <td>0</td>\n",
       "      <td>0</td>\n",
       "      <td>0</td>\n",
       "      <td>0</td>\n",
       "      <td>0</td>\n",
       "      <td>0</td>\n",
       "      <td>0</td>\n",
       "      <td>0</td>\n",
       "      <td>0</td>\n",
       "      <td>0</td>\n",
       "      <td>0</td>\n",
       "      <td>0</td>\n",
       "      <td>44.571429</td>\n",
       "      <td>Neutral</td>\n",
       "    </tr>\n",
       "    <tr>\n",
       "      <th>157</th>\n",
       "      <td>2018-03-02</td>\n",
       "      <td>9578.629883</td>\n",
       "      <td>49671590400</td>\n",
       "      <td>0</td>\n",
       "      <td>0</td>\n",
       "      <td>1</td>\n",
       "      <td>0</td>\n",
       "      <td>0</td>\n",
       "      <td>0</td>\n",
       "      <td>0</td>\n",
       "      <td>0</td>\n",
       "      <td>0</td>\n",
       "      <td>0</td>\n",
       "      <td>0</td>\n",
       "      <td>0</td>\n",
       "      <td>0</td>\n",
       "      <td>0</td>\n",
       "      <td>46.428571</td>\n",
       "      <td>Neutral</td>\n",
       "    </tr>\n",
       "    <tr>\n",
       "      <th>158</th>\n",
       "      <td>2018-03-09</td>\n",
       "      <td>8223.679688</td>\n",
       "      <td>42075919360</td>\n",
       "      <td>0</td>\n",
       "      <td>0</td>\n",
       "      <td>0</td>\n",
       "      <td>0</td>\n",
       "      <td>0</td>\n",
       "      <td>0</td>\n",
       "      <td>0</td>\n",
       "      <td>0</td>\n",
       "      <td>0</td>\n",
       "      <td>0</td>\n",
       "      <td>0</td>\n",
       "      <td>0</td>\n",
       "      <td>0</td>\n",
       "      <td>0</td>\n",
       "      <td>41.714286</td>\n",
       "      <td>Fear</td>\n",
       "    </tr>\n",
       "    <tr>\n",
       "      <th>...</th>\n",
       "      <td>...</td>\n",
       "      <td>...</td>\n",
       "      <td>...</td>\n",
       "      <td>...</td>\n",
       "      <td>...</td>\n",
       "      <td>...</td>\n",
       "      <td>...</td>\n",
       "      <td>...</td>\n",
       "      <td>...</td>\n",
       "      <td>...</td>\n",
       "      <td>...</td>\n",
       "      <td>...</td>\n",
       "      <td>...</td>\n",
       "      <td>...</td>\n",
       "      <td>...</td>\n",
       "      <td>...</td>\n",
       "      <td>...</td>\n",
       "      <td>...</td>\n",
       "      <td>...</td>\n",
       "    </tr>\n",
       "    <tr>\n",
       "      <th>447</th>\n",
       "      <td>2023-09-22</td>\n",
       "      <td>27983.750000</td>\n",
       "      <td>73012240734</td>\n",
       "      <td>1</td>\n",
       "      <td>1</td>\n",
       "      <td>1</td>\n",
       "      <td>0</td>\n",
       "      <td>0</td>\n",
       "      <td>0</td>\n",
       "      <td>0</td>\n",
       "      <td>0</td>\n",
       "      <td>0</td>\n",
       "      <td>0</td>\n",
       "      <td>0</td>\n",
       "      <td>0</td>\n",
       "      <td>0</td>\n",
       "      <td>0</td>\n",
       "      <td>45.857143</td>\n",
       "      <td>Neutral</td>\n",
       "    </tr>\n",
       "    <tr>\n",
       "      <th>448</th>\n",
       "      <td>2023-09-29</td>\n",
       "      <td>27935.089844</td>\n",
       "      <td>82183775698</td>\n",
       "      <td>1</td>\n",
       "      <td>1</td>\n",
       "      <td>1</td>\n",
       "      <td>1</td>\n",
       "      <td>1</td>\n",
       "      <td>0</td>\n",
       "      <td>0</td>\n",
       "      <td>0</td>\n",
       "      <td>0</td>\n",
       "      <td>0</td>\n",
       "      <td>0</td>\n",
       "      <td>0</td>\n",
       "      <td>0</td>\n",
       "      <td>0</td>\n",
       "      <td>47.000000</td>\n",
       "      <td>Neutral</td>\n",
       "    </tr>\n",
       "    <tr>\n",
       "      <th>449</th>\n",
       "      <td>2023-10-06</td>\n",
       "      <td>27159.652344</td>\n",
       "      <td>72673654487</td>\n",
       "      <td>1</td>\n",
       "      <td>0</td>\n",
       "      <td>1</td>\n",
       "      <td>1</td>\n",
       "      <td>1</td>\n",
       "      <td>1</td>\n",
       "      <td>1</td>\n",
       "      <td>0</td>\n",
       "      <td>0</td>\n",
       "      <td>0</td>\n",
       "      <td>0</td>\n",
       "      <td>0</td>\n",
       "      <td>0</td>\n",
       "      <td>0</td>\n",
       "      <td>49.428571</td>\n",
       "      <td>Neutral</td>\n",
       "    </tr>\n",
       "    <tr>\n",
       "      <th>450</th>\n",
       "      <td>2023-10-13</td>\n",
       "      <td>29993.896484</td>\n",
       "      <td>113402383094</td>\n",
       "      <td>1</td>\n",
       "      <td>1</td>\n",
       "      <td>1</td>\n",
       "      <td>1</td>\n",
       "      <td>1</td>\n",
       "      <td>1</td>\n",
       "      <td>1</td>\n",
       "      <td>1</td>\n",
       "      <td>0</td>\n",
       "      <td>0</td>\n",
       "      <td>0</td>\n",
       "      <td>0</td>\n",
       "      <td>0</td>\n",
       "      <td>0</td>\n",
       "      <td>46.428571</td>\n",
       "      <td>Neutral</td>\n",
       "    </tr>\n",
       "    <tr>\n",
       "      <th>451</th>\n",
       "      <td>2023-10-20</td>\n",
       "      <td>33086.234375</td>\n",
       "      <td>38363572311</td>\n",
       "      <td>1</td>\n",
       "      <td>1</td>\n",
       "      <td>1</td>\n",
       "      <td>1</td>\n",
       "      <td>1</td>\n",
       "      <td>1</td>\n",
       "      <td>1</td>\n",
       "      <td>1</td>\n",
       "      <td>1</td>\n",
       "      <td>0</td>\n",
       "      <td>1</td>\n",
       "      <td>0</td>\n",
       "      <td>0</td>\n",
       "      <td>0</td>\n",
       "      <td>53.714286</td>\n",
       "      <td>Neutral</td>\n",
       "    </tr>\n",
       "  </tbody>\n",
       "</table>\n",
       "<p>297 rows × 19 columns</p>\n",
       "</div>"
      ],
      "text/plain": [
       "          Date     Adj Close        Volume  MA_1_9  MA_1_12  MA_2_9  MA_2_12   \n",
       "154 2018-02-09  10551.799805   53626569728       0        0       0        0  \\\n",
       "155 2018-02-16   9664.730469   55388419584       0        0       0        0   \n",
       "156 2018-02-23  11512.599609   48902649856       1        0       0        0   \n",
       "157 2018-03-02   9578.629883   49671590400       0        0       1        0   \n",
       "158 2018-03-09   8223.679688   42075919360       0        0       0        0   \n",
       "..         ...           ...           ...     ...      ...     ...      ...   \n",
       "447 2023-09-22  27983.750000   73012240734       1        1       1        0   \n",
       "448 2023-09-29  27935.089844   82183775698       1        1       1        1   \n",
       "449 2023-10-06  27159.652344   72673654487       1        0       1        1   \n",
       "450 2023-10-13  29993.896484  113402383094       1        1       1        1   \n",
       "451 2023-10-20  33086.234375   38363572311       1        1       1        1   \n",
       "\n",
       "     MA_3_9  MA_3_12  MOM_9  MOM_12  VOL_1_9  VOL_1_12  VOL_2_9  VOL_2_12   \n",
       "154       0        0      0       0        0         0        0         0  \\\n",
       "155       0        0      0       0        0         0        0         0   \n",
       "156       0        0      0       0        0         0        0         0   \n",
       "157       0        0      0       0        0         0        0         0   \n",
       "158       0        0      0       0        0         0        0         0   \n",
       "..      ...      ...    ...     ...      ...       ...      ...       ...   \n",
       "447       0        0      0       0        0         0        0         0   \n",
       "448       1        0      0       0        0         0        0         0   \n",
       "449       1        1      1       0        0         0        0         0   \n",
       "450       1        1      1       1        0         0        0         0   \n",
       "451       1        1      1       1        1         0        1         0   \n",
       "\n",
       "     VOL_3_9  VOL_3_12  weekly_mean sentiment  \n",
       "154        0         0    35.000000      Fear  \n",
       "155        0         0    61.714286     Greed  \n",
       "156        0         0    44.571429   Neutral  \n",
       "157        0         0    46.428571   Neutral  \n",
       "158        0         0    41.714286      Fear  \n",
       "..       ...       ...          ...       ...  \n",
       "447        0         0    45.857143   Neutral  \n",
       "448        0         0    47.000000   Neutral  \n",
       "449        0         0    49.428571   Neutral  \n",
       "450        0         0    46.428571   Neutral  \n",
       "451        0         0    53.714286   Neutral  \n",
       "\n",
       "[297 rows x 19 columns]"
      ]
     },
     "execution_count": 90,
     "metadata": {},
     "output_type": "execute_result"
    }
   ],
   "source": [
    "df = tech.merge(fg, how='left', left_on='Date', right_on='date')\n",
    "df.dropna(inplace=True)\n",
    "df.drop('daily_index', axis=1, inplace=True)\n",
    "df['Date'] = df['Date'] - timedelta(3)\n",
    "df"
   ]
  },
  {
   "cell_type": "code",
   "execution_count": 91,
   "metadata": {
    "tags": []
   },
   "outputs": [
    {
     "data": {
      "text/html": [
       "<div>\n",
       "<style scoped>\n",
       "    .dataframe tbody tr th:only-of-type {\n",
       "        vertical-align: middle;\n",
       "    }\n",
       "\n",
       "    .dataframe tbody tr th {\n",
       "        vertical-align: top;\n",
       "    }\n",
       "\n",
       "    .dataframe thead th {\n",
       "        text-align: right;\n",
       "    }\n",
       "</style>\n",
       "<table border=\"1\" class=\"dataframe\">\n",
       "  <thead>\n",
       "    <tr style=\"text-align: right;\">\n",
       "      <th></th>\n",
       "      <th>observation_date</th>\n",
       "      <th>r_free_w</th>\n",
       "    </tr>\n",
       "  </thead>\n",
       "  <tbody>\n",
       "    <tr>\n",
       "      <th>0</th>\n",
       "      <td>2018-11-06</td>\n",
       "      <td>NaN</td>\n",
       "    </tr>\n",
       "    <tr>\n",
       "      <th>1</th>\n",
       "      <td>2018-11-07</td>\n",
       "      <td>NaN</td>\n",
       "    </tr>\n",
       "    <tr>\n",
       "      <th>2</th>\n",
       "      <td>2018-11-08</td>\n",
       "      <td>NaN</td>\n",
       "    </tr>\n",
       "    <tr>\n",
       "      <th>3</th>\n",
       "      <td>2018-11-09</td>\n",
       "      <td>NaN</td>\n",
       "    </tr>\n",
       "    <tr>\n",
       "      <th>4</th>\n",
       "      <td>2018-11-12</td>\n",
       "      <td>NaN</td>\n",
       "    </tr>\n",
       "    <tr>\n",
       "      <th>5</th>\n",
       "      <td>2018-11-13</td>\n",
       "      <td>NaN</td>\n",
       "    </tr>\n",
       "    <tr>\n",
       "      <th>6</th>\n",
       "      <td>2018-11-14</td>\n",
       "      <td>0.000087</td>\n",
       "    </tr>\n",
       "    <tr>\n",
       "      <th>7</th>\n",
       "      <td>2018-11-15</td>\n",
       "      <td>0.000087</td>\n",
       "    </tr>\n",
       "    <tr>\n",
       "      <th>8</th>\n",
       "      <td>2018-11-16</td>\n",
       "      <td>0.000087</td>\n",
       "    </tr>\n",
       "    <tr>\n",
       "      <th>9</th>\n",
       "      <td>2018-11-19</td>\n",
       "      <td>0.000087</td>\n",
       "    </tr>\n",
       "  </tbody>\n",
       "</table>\n",
       "</div>"
      ],
      "text/plain": [
       "  observation_date  r_free_w\n",
       "0       2018-11-06       NaN\n",
       "1       2018-11-07       NaN\n",
       "2       2018-11-08       NaN\n",
       "3       2018-11-09       NaN\n",
       "4       2018-11-12       NaN\n",
       "5       2018-11-13       NaN\n",
       "6       2018-11-14  0.000087\n",
       "7       2018-11-15  0.000087\n",
       "8       2018-11-16  0.000087\n",
       "9       2018-11-19  0.000087"
      ]
     },
     "execution_count": 91,
     "metadata": {},
     "output_type": "execute_result"
    }
   ],
   "source": [
    "rf = pd.read_excel('../../Dados/risk_free_d.xlsx')\n",
    "rf['r_free_day'] = rf['r_free_day'].ffill()\n",
    "rf['r_free_w'] = rf['r_free_day'].rolling(7).mean()\n",
    "rf = rf[['observation_date', 'r_free_w']]\n",
    "rf['observation_date'] = pd.to_datetime(rf['observation_date'])\n",
    "rf.head(10)"
   ]
  },
  {
   "cell_type": "code",
   "execution_count": 92,
   "metadata": {
    "tags": []
   },
   "outputs": [
    {
     "data": {
      "text/html": [
       "<div>\n",
       "<style scoped>\n",
       "    .dataframe tbody tr th:only-of-type {\n",
       "        vertical-align: middle;\n",
       "    }\n",
       "\n",
       "    .dataframe tbody tr th {\n",
       "        vertical-align: top;\n",
       "    }\n",
       "\n",
       "    .dataframe thead th {\n",
       "        text-align: right;\n",
       "    }\n",
       "</style>\n",
       "<table border=\"1\" class=\"dataframe\">\n",
       "  <thead>\n",
       "    <tr style=\"text-align: right;\">\n",
       "      <th></th>\n",
       "      <th>Date</th>\n",
       "      <th>Adj Close</th>\n",
       "      <th>Volume</th>\n",
       "      <th>MA_1_9</th>\n",
       "      <th>MA_1_12</th>\n",
       "      <th>MA_2_9</th>\n",
       "      <th>MA_2_12</th>\n",
       "      <th>MA_3_9</th>\n",
       "      <th>MA_3_12</th>\n",
       "      <th>MOM_9</th>\n",
       "      <th>MOM_12</th>\n",
       "      <th>VOL_1_9</th>\n",
       "      <th>VOL_1_12</th>\n",
       "      <th>VOL_2_9</th>\n",
       "      <th>VOL_2_12</th>\n",
       "      <th>VOL_3_9</th>\n",
       "      <th>VOL_3_12</th>\n",
       "      <th>weekly_mean</th>\n",
       "      <th>Fear</th>\n",
       "      <th>Greed</th>\n",
       "      <th>Neutral</th>\n",
       "      <th>Any</th>\n",
       "      <th>Returns</th>\n",
       "      <th>r_free_w</th>\n",
       "      <th>risk_premium</th>\n",
       "    </tr>\n",
       "  </thead>\n",
       "  <tbody>\n",
       "    <tr>\n",
       "      <th>39</th>\n",
       "      <td>2018-11-16</td>\n",
       "      <td>4009.969971</td>\n",
       "      <td>42533970000</td>\n",
       "      <td>0</td>\n",
       "      <td>0</td>\n",
       "      <td>0</td>\n",
       "      <td>0</td>\n",
       "      <td>0</td>\n",
       "      <td>0</td>\n",
       "      <td>0</td>\n",
       "      <td>0</td>\n",
       "      <td>0</td>\n",
       "      <td>0</td>\n",
       "      <td>0</td>\n",
       "      <td>0</td>\n",
       "      <td>0</td>\n",
       "      <td>0</td>\n",
       "      <td>33.428571</td>\n",
       "      <td>True</td>\n",
       "      <td>False</td>\n",
       "      <td>False</td>\n",
       "      <td>True</td>\n",
       "      <td>-0.286931</td>\n",
       "      <td>0.000087</td>\n",
       "      <td>-0.287018</td>\n",
       "    </tr>\n",
       "    <tr>\n",
       "      <th>40</th>\n",
       "      <td>2018-11-23</td>\n",
       "      <td>4139.877930</td>\n",
       "      <td>42945276472</td>\n",
       "      <td>0</td>\n",
       "      <td>0</td>\n",
       "      <td>0</td>\n",
       "      <td>0</td>\n",
       "      <td>0</td>\n",
       "      <td>0</td>\n",
       "      <td>0</td>\n",
       "      <td>0</td>\n",
       "      <td>0</td>\n",
       "      <td>0</td>\n",
       "      <td>0</td>\n",
       "      <td>0</td>\n",
       "      <td>0</td>\n",
       "      <td>0</td>\n",
       "      <td>14.714286</td>\n",
       "      <td>True</td>\n",
       "      <td>False</td>\n",
       "      <td>False</td>\n",
       "      <td>True</td>\n",
       "      <td>0.032396</td>\n",
       "      <td>0.000088</td>\n",
       "      <td>0.032309</td>\n",
       "    </tr>\n",
       "    <tr>\n",
       "      <th>41</th>\n",
       "      <td>2018-11-30</td>\n",
       "      <td>3614.234375</td>\n",
       "      <td>38386467708</td>\n",
       "      <td>0</td>\n",
       "      <td>0</td>\n",
       "      <td>0</td>\n",
       "      <td>0</td>\n",
       "      <td>0</td>\n",
       "      <td>0</td>\n",
       "      <td>0</td>\n",
       "      <td>0</td>\n",
       "      <td>0</td>\n",
       "      <td>0</td>\n",
       "      <td>0</td>\n",
       "      <td>0</td>\n",
       "      <td>0</td>\n",
       "      <td>0</td>\n",
       "      <td>15.285714</td>\n",
       "      <td>True</td>\n",
       "      <td>False</td>\n",
       "      <td>False</td>\n",
       "      <td>True</td>\n",
       "      <td>-0.126971</td>\n",
       "      <td>0.000090</td>\n",
       "      <td>-0.127060</td>\n",
       "    </tr>\n",
       "    <tr>\n",
       "      <th>42</th>\n",
       "      <td>2018-12-07</td>\n",
       "      <td>3252.839111</td>\n",
       "      <td>29869247431</td>\n",
       "      <td>0</td>\n",
       "      <td>0</td>\n",
       "      <td>0</td>\n",
       "      <td>0</td>\n",
       "      <td>0</td>\n",
       "      <td>0</td>\n",
       "      <td>0</td>\n",
       "      <td>0</td>\n",
       "      <td>0</td>\n",
       "      <td>0</td>\n",
       "      <td>0</td>\n",
       "      <td>0</td>\n",
       "      <td>0</td>\n",
       "      <td>0</td>\n",
       "      <td>14.142857</td>\n",
       "      <td>True</td>\n",
       "      <td>False</td>\n",
       "      <td>False</td>\n",
       "      <td>True</td>\n",
       "      <td>-0.099992</td>\n",
       "      <td>0.000092</td>\n",
       "      <td>-0.100084</td>\n",
       "    </tr>\n",
       "    <tr>\n",
       "      <th>43</th>\n",
       "      <td>2018-12-14</td>\n",
       "      <td>3998.980225</td>\n",
       "      <td>46021506218</td>\n",
       "      <td>0</td>\n",
       "      <td>0</td>\n",
       "      <td>0</td>\n",
       "      <td>0</td>\n",
       "      <td>0</td>\n",
       "      <td>0</td>\n",
       "      <td>0</td>\n",
       "      <td>0</td>\n",
       "      <td>0</td>\n",
       "      <td>0</td>\n",
       "      <td>0</td>\n",
       "      <td>0</td>\n",
       "      <td>0</td>\n",
       "      <td>0</td>\n",
       "      <td>13.428571</td>\n",
       "      <td>True</td>\n",
       "      <td>False</td>\n",
       "      <td>False</td>\n",
       "      <td>True</td>\n",
       "      <td>0.229381</td>\n",
       "      <td>0.000091</td>\n",
       "      <td>0.229290</td>\n",
       "    </tr>\n",
       "    <tr>\n",
       "      <th>44</th>\n",
       "      <td>2018-12-21</td>\n",
       "      <td>3865.952637</td>\n",
       "      <td>39249734918</td>\n",
       "      <td>0</td>\n",
       "      <td>0</td>\n",
       "      <td>0</td>\n",
       "      <td>0</td>\n",
       "      <td>0</td>\n",
       "      <td>0</td>\n",
       "      <td>0</td>\n",
       "      <td>0</td>\n",
       "      <td>0</td>\n",
       "      <td>0</td>\n",
       "      <td>0</td>\n",
       "      <td>0</td>\n",
       "      <td>0</td>\n",
       "      <td>0</td>\n",
       "      <td>27.142857</td>\n",
       "      <td>True</td>\n",
       "      <td>False</td>\n",
       "      <td>False</td>\n",
       "      <td>True</td>\n",
       "      <td>-0.033265</td>\n",
       "      <td>0.000093</td>\n",
       "      <td>-0.033358</td>\n",
       "    </tr>\n",
       "    <tr>\n",
       "      <th>45</th>\n",
       "      <td>2018-12-28</td>\n",
       "      <td>4076.632568</td>\n",
       "      <td>34343716582</td>\n",
       "      <td>0</td>\n",
       "      <td>0</td>\n",
       "      <td>0</td>\n",
       "      <td>0</td>\n",
       "      <td>0</td>\n",
       "      <td>0</td>\n",
       "      <td>0</td>\n",
       "      <td>0</td>\n",
       "      <td>0</td>\n",
       "      <td>0</td>\n",
       "      <td>0</td>\n",
       "      <td>0</td>\n",
       "      <td>0</td>\n",
       "      <td>0</td>\n",
       "      <td>26.000000</td>\n",
       "      <td>True</td>\n",
       "      <td>False</td>\n",
       "      <td>False</td>\n",
       "      <td>True</td>\n",
       "      <td>0.054496</td>\n",
       "      <td>0.000095</td>\n",
       "      <td>0.054402</td>\n",
       "    </tr>\n",
       "    <tr>\n",
       "      <th>46</th>\n",
       "      <td>2019-01-04</td>\n",
       "      <td>3552.953125</td>\n",
       "      <td>37523454177</td>\n",
       "      <td>0</td>\n",
       "      <td>0</td>\n",
       "      <td>0</td>\n",
       "      <td>0</td>\n",
       "      <td>0</td>\n",
       "      <td>0</td>\n",
       "      <td>0</td>\n",
       "      <td>0</td>\n",
       "      <td>0</td>\n",
       "      <td>0</td>\n",
       "      <td>0</td>\n",
       "      <td>0</td>\n",
       "      <td>0</td>\n",
       "      <td>0</td>\n",
       "      <td>34.428571</td>\n",
       "      <td>True</td>\n",
       "      <td>False</td>\n",
       "      <td>False</td>\n",
       "      <td>True</td>\n",
       "      <td>-0.128459</td>\n",
       "      <td>0.000095</td>\n",
       "      <td>-0.128554</td>\n",
       "    </tr>\n",
       "    <tr>\n",
       "      <th>47</th>\n",
       "      <td>2019-01-11</td>\n",
       "      <td>3601.013672</td>\n",
       "      <td>38588596987</td>\n",
       "      <td>0</td>\n",
       "      <td>0</td>\n",
       "      <td>0</td>\n",
       "      <td>0</td>\n",
       "      <td>0</td>\n",
       "      <td>0</td>\n",
       "      <td>0</td>\n",
       "      <td>0</td>\n",
       "      <td>1</td>\n",
       "      <td>0</td>\n",
       "      <td>0</td>\n",
       "      <td>0</td>\n",
       "      <td>0</td>\n",
       "      <td>0</td>\n",
       "      <td>28.000000</td>\n",
       "      <td>True</td>\n",
       "      <td>False</td>\n",
       "      <td>False</td>\n",
       "      <td>True</td>\n",
       "      <td>0.013527</td>\n",
       "      <td>0.000095</td>\n",
       "      <td>0.013432</td>\n",
       "    </tr>\n",
       "    <tr>\n",
       "      <th>48</th>\n",
       "      <td>2019-01-18</td>\n",
       "      <td>3583.965820</td>\n",
       "      <td>36949379050</td>\n",
       "      <td>0</td>\n",
       "      <td>0</td>\n",
       "      <td>0</td>\n",
       "      <td>0</td>\n",
       "      <td>0</td>\n",
       "      <td>0</td>\n",
       "      <td>0</td>\n",
       "      <td>0</td>\n",
       "      <td>0</td>\n",
       "      <td>0</td>\n",
       "      <td>0</td>\n",
       "      <td>0</td>\n",
       "      <td>0</td>\n",
       "      <td>0</td>\n",
       "      <td>29.142857</td>\n",
       "      <td>True</td>\n",
       "      <td>False</td>\n",
       "      <td>False</td>\n",
       "      <td>True</td>\n",
       "      <td>-0.004734</td>\n",
       "      <td>0.000095</td>\n",
       "      <td>-0.004829</td>\n",
       "    </tr>\n",
       "  </tbody>\n",
       "</table>\n",
       "</div>"
      ],
      "text/plain": [
       "         Date    Adj Close       Volume  MA_1_9  MA_1_12  MA_2_9  MA_2_12   \n",
       "39 2018-11-16  4009.969971  42533970000       0        0       0        0  \\\n",
       "40 2018-11-23  4139.877930  42945276472       0        0       0        0   \n",
       "41 2018-11-30  3614.234375  38386467708       0        0       0        0   \n",
       "42 2018-12-07  3252.839111  29869247431       0        0       0        0   \n",
       "43 2018-12-14  3998.980225  46021506218       0        0       0        0   \n",
       "44 2018-12-21  3865.952637  39249734918       0        0       0        0   \n",
       "45 2018-12-28  4076.632568  34343716582       0        0       0        0   \n",
       "46 2019-01-04  3552.953125  37523454177       0        0       0        0   \n",
       "47 2019-01-11  3601.013672  38588596987       0        0       0        0   \n",
       "48 2019-01-18  3583.965820  36949379050       0        0       0        0   \n",
       "\n",
       "    MA_3_9  MA_3_12  MOM_9  MOM_12  VOL_1_9  VOL_1_12  VOL_2_9  VOL_2_12   \n",
       "39       0        0      0       0        0         0        0         0  \\\n",
       "40       0        0      0       0        0         0        0         0   \n",
       "41       0        0      0       0        0         0        0         0   \n",
       "42       0        0      0       0        0         0        0         0   \n",
       "43       0        0      0       0        0         0        0         0   \n",
       "44       0        0      0       0        0         0        0         0   \n",
       "45       0        0      0       0        0         0        0         0   \n",
       "46       0        0      0       0        0         0        0         0   \n",
       "47       0        0      0       0        1         0        0         0   \n",
       "48       0        0      0       0        0         0        0         0   \n",
       "\n",
       "    VOL_3_9  VOL_3_12  weekly_mean  Fear  Greed  Neutral   Any   Returns   \n",
       "39        0         0    33.428571  True  False    False  True -0.286931  \\\n",
       "40        0         0    14.714286  True  False    False  True  0.032396   \n",
       "41        0         0    15.285714  True  False    False  True -0.126971   \n",
       "42        0         0    14.142857  True  False    False  True -0.099992   \n",
       "43        0         0    13.428571  True  False    False  True  0.229381   \n",
       "44        0         0    27.142857  True  False    False  True -0.033265   \n",
       "45        0         0    26.000000  True  False    False  True  0.054496   \n",
       "46        0         0    34.428571  True  False    False  True -0.128459   \n",
       "47        0         0    28.000000  True  False    False  True  0.013527   \n",
       "48        0         0    29.142857  True  False    False  True -0.004734   \n",
       "\n",
       "    r_free_w  risk_premium  \n",
       "39  0.000087     -0.287018  \n",
       "40  0.000088      0.032309  \n",
       "41  0.000090     -0.127060  \n",
       "42  0.000092     -0.100084  \n",
       "43  0.000091      0.229290  \n",
       "44  0.000093     -0.033358  \n",
       "45  0.000095      0.054402  \n",
       "46  0.000095     -0.128554  \n",
       "47  0.000095      0.013432  \n",
       "48  0.000095     -0.004829  "
      ]
     },
     "execution_count": 92,
     "metadata": {},
     "output_type": "execute_result"
    }
   ],
   "source": [
    "dummies = pd.get_dummies(df['sentiment'])\n",
    "df = pd.concat([df.drop('sentiment', axis=1), dummies], axis=1)\n",
    "df['Any'] = [True]*len(df)\n",
    "df['Returns'] = df['Adj Close'].pct_change()\n",
    "df = df.merge(rf, how='left', left_on='Date', right_on='observation_date').dropna()\n",
    "df.drop('observation_date', axis=1, inplace=True)\n",
    "df['risk_premium'] = df['Returns'] - df['r_free_w']\n",
    "df.head(10)"
   ]
  },
  {
   "cell_type": "code",
   "execution_count": 94,
   "metadata": {
    "tags": []
   },
   "outputs": [],
   "source": [
    "r2 = {}\n",
    "\n",
    "n = 14  # Number of technical indicators\n",
    "t = len(df)\n",
    "initial_period = 150  # Initial period for the first regression\n",
    "summaries = []  # To store summary objects for later use\n",
    "\n",
    "# Arrays to store predictions and errors\n",
    "predictions = np.zeros((t - initial_period-1, n))\n",
    "errors = np.zeros((t - initial_period-1, n))\n",
    "\n",
    "for i in range(3, 17):\n",
    "    \n",
    "    # The dependent variable (Y)\n",
    "    y = df['risk_premium'][1:df.shape[0]].values\n",
    "    \n",
    "    # Loop to perform rolling regression and predictions\n",
    "    for current_t in range(initial_period, len(y)):\n",
    "        \n",
    "        # The independent variable (X)\n",
    "        x = df.iloc[0:current_t, i].values  # Use data from the beginning up to the current time\n",
    "        x = sm.add_constant(x)  # Add the intercept\n",
    "        \n",
    "        # Perform regression\n",
    "        model = sm.OLS(y[:current_t], x).fit()\n",
    "\n",
    "        # Make prediction for the next value if we're not at the end of the dataset\n",
    "        if current_t < len(y):\n",
    "            next_x = np.array([[1, df.iloc[current_t, i]]])  # Prepare next X value as a 2D array \n",
    "            predicted_value = model.predict(next_x)[0]\n",
    "            predictions[current_t - initial_period, i-3] = predicted_value\n",
    "            \n",
    "            # Calculate and store the error of the prediction\n",
    "            actual_value = y[current_t]\n",
    "            error = actual_value - predicted_value\n",
    "            errors[current_t - initial_period, i-3] = error\n",
    "    \n",
    "    summaries.append(model.summary())   \n"
   ]
  },
  {
   "cell_type": "code",
   "execution_count": 95,
   "metadata": {
    "tags": []
   },
   "outputs": [],
   "source": [
    "# Calculate the sum of squared errors for the historical average\n",
    "actual_returns = df['risk_premium'].values[initial_period+1:]\n",
    "# Calculate the historical average of returns up to each prediction point\n",
    "j = 0\n",
    "\n",
    "historical_average = np.array([df['risk_premium'][:j].mean() for j in range(initial_period+1, len(df))])\n",
    "# Initialize a list to store the R^2_OS for each technical indicator\n",
    "r2 = {}\n",
    "\n",
    "current_t = 150\n",
    "# Loop over each of the 14 technical indicators\n",
    "for i in range(3, 17):\n",
    "    Ic = []\n",
    "    for j in range(18, 22):\n",
    "        # Calculate the sum of squared errors for the predictive model\n",
    "        sse_model = np.sum(((actual_returns - predictions[:, i-3]) ** 2)*df.iloc[151:df.shape[0], j])\n",
    "\n",
    "        # Calculate the sum of squared errors for the historical average\n",
    "        sse_historical = np.sum(((actual_returns - historical_average) ** 2)*df.iloc[151:df.shape[0], j])\n",
    "\n",
    "        # Calculate the out-of-sample R squared (R^2_OS) for this technical indicator\n",
    "        r_squared_os = 1 - (sse_model / sse_historical)\n",
    "        #print(f\"Out-of-Sample R² for technical indicator {df.columns[i]} - {df.columns[j]}: {r_squared_os}\")\n",
    "        # Store the R^2_OS value in the list\n",
    "        Ic.append(r_squared_os)\n",
    "    r2[df.columns[i]] = Ic\n",
    "\n",
    "    # Print the R^2_OS for the current technical indicator"
   ]
  },
  {
   "cell_type": "code",
   "execution_count": 100,
   "metadata": {},
   "outputs": [
    {
     "data": {
      "text/html": [
       "<div>\n",
       "<style scoped>\n",
       "    .dataframe tbody tr th:only-of-type {\n",
       "        vertical-align: middle;\n",
       "    }\n",
       "\n",
       "    .dataframe tbody tr th {\n",
       "        vertical-align: top;\n",
       "    }\n",
       "\n",
       "    .dataframe thead th {\n",
       "        text-align: right;\n",
       "    }\n",
       "</style>\n",
       "<table border=\"1\" class=\"dataframe\">\n",
       "  <thead>\n",
       "    <tr style=\"text-align: right;\">\n",
       "      <th></th>\n",
       "      <th>Fear</th>\n",
       "      <th>Greed</th>\n",
       "      <th>Neutral</th>\n",
       "      <th>Any</th>\n",
       "    </tr>\n",
       "  </thead>\n",
       "  <tbody>\n",
       "    <tr>\n",
       "      <th>MA_1_9</th>\n",
       "      <td>0.035412</td>\n",
       "      <td>-0.282923</td>\n",
       "      <td>-0.020438</td>\n",
       "      <td>-0.000668</td>\n",
       "    </tr>\n",
       "    <tr>\n",
       "      <th>MA_1_12</th>\n",
       "      <td>0.004897</td>\n",
       "      <td>-0.211301</td>\n",
       "      <td>-0.092483</td>\n",
       "      <td>-0.029805</td>\n",
       "    </tr>\n",
       "    <tr>\n",
       "      <th>MA_2_9</th>\n",
       "      <td>0.017161</td>\n",
       "      <td>-0.196471</td>\n",
       "      <td>-0.011374</td>\n",
       "      <td>-0.005517</td>\n",
       "    </tr>\n",
       "    <tr>\n",
       "      <th>MA_2_12</th>\n",
       "      <td>-0.006529</td>\n",
       "      <td>-0.187619</td>\n",
       "      <td>-0.042115</td>\n",
       "      <td>-0.027707</td>\n",
       "    </tr>\n",
       "    <tr>\n",
       "      <th>MA_3_9</th>\n",
       "      <td>0.003745</td>\n",
       "      <td>-0.207929</td>\n",
       "      <td>-0.009837</td>\n",
       "      <td>-0.016205</td>\n",
       "    </tr>\n",
       "    <tr>\n",
       "      <th>MA_3_12</th>\n",
       "      <td>-0.006142</td>\n",
       "      <td>-0.166002</td>\n",
       "      <td>-0.017175</td>\n",
       "      <td>-0.021342</td>\n",
       "    </tr>\n",
       "    <tr>\n",
       "      <th>MOM_9</th>\n",
       "      <td>0.022563</td>\n",
       "      <td>-0.290728</td>\n",
       "      <td>-0.055728</td>\n",
       "      <td>-0.016946</td>\n",
       "    </tr>\n",
       "    <tr>\n",
       "      <th>MOM_12</th>\n",
       "      <td>0.005778</td>\n",
       "      <td>-0.125701</td>\n",
       "      <td>-0.039142</td>\n",
       "      <td>-0.012872</td>\n",
       "    </tr>\n",
       "    <tr>\n",
       "      <th>VOL_1_9</th>\n",
       "      <td>-0.004608</td>\n",
       "      <td>-0.235259</td>\n",
       "      <td>0.033177</td>\n",
       "      <td>-0.017326</td>\n",
       "    </tr>\n",
       "    <tr>\n",
       "      <th>VOL_1_12</th>\n",
       "      <td>-0.042873</td>\n",
       "      <td>-0.195371</td>\n",
       "      <td>0.017217</td>\n",
       "      <td>-0.045260</td>\n",
       "    </tr>\n",
       "    <tr>\n",
       "      <th>VOL_2_9</th>\n",
       "      <td>-0.020893</td>\n",
       "      <td>-0.078795</td>\n",
       "      <td>-0.044496</td>\n",
       "      <td>-0.029762</td>\n",
       "    </tr>\n",
       "    <tr>\n",
       "      <th>VOL_2_12</th>\n",
       "      <td>-0.028759</td>\n",
       "      <td>-0.144265</td>\n",
       "      <td>-0.024087</td>\n",
       "      <td>-0.037573</td>\n",
       "    </tr>\n",
       "    <tr>\n",
       "      <th>VOL_3_9</th>\n",
       "      <td>-0.018230</td>\n",
       "      <td>-0.118472</td>\n",
       "      <td>-0.054029</td>\n",
       "      <td>-0.032716</td>\n",
       "    </tr>\n",
       "    <tr>\n",
       "      <th>VOL_3_12</th>\n",
       "      <td>-0.034762</td>\n",
       "      <td>-0.193011</td>\n",
       "      <td>-0.051087</td>\n",
       "      <td>-0.050736</td>\n",
       "    </tr>\n",
       "  </tbody>\n",
       "</table>\n",
       "</div>"
      ],
      "text/plain": [
       "              Fear     Greed   Neutral       Any\n",
       "MA_1_9    0.035412 -0.282923 -0.020438 -0.000668\n",
       "MA_1_12   0.004897 -0.211301 -0.092483 -0.029805\n",
       "MA_2_9    0.017161 -0.196471 -0.011374 -0.005517\n",
       "MA_2_12  -0.006529 -0.187619 -0.042115 -0.027707\n",
       "MA_3_9    0.003745 -0.207929 -0.009837 -0.016205\n",
       "MA_3_12  -0.006142 -0.166002 -0.017175 -0.021342\n",
       "MOM_9     0.022563 -0.290728 -0.055728 -0.016946\n",
       "MOM_12    0.005778 -0.125701 -0.039142 -0.012872\n",
       "VOL_1_9  -0.004608 -0.235259  0.033177 -0.017326\n",
       "VOL_1_12 -0.042873 -0.195371  0.017217 -0.045260\n",
       "VOL_2_9  -0.020893 -0.078795 -0.044496 -0.029762\n",
       "VOL_2_12 -0.028759 -0.144265 -0.024087 -0.037573\n",
       "VOL_3_9  -0.018230 -0.118472 -0.054029 -0.032716\n",
       "VOL_3_12 -0.034762 -0.193011 -0.051087 -0.050736"
      ]
     },
     "execution_count": 100,
     "metadata": {},
     "output_type": "execute_result"
    }
   ],
   "source": [
    "r2_df = pd.DataFrame(r2)\n",
    "r2_df = r2_df.T\n",
    "r2_df.columns = ['Fear', 'Greed', 'Neutral', 'Any']\n",
    "r2_df"
   ]
  },
  {
   "cell_type": "code",
   "execution_count": 97,
   "metadata": {},
   "outputs": [],
   "source": [
    "import plotly.express as px"
   ]
  },
  {
   "cell_type": "code",
   "execution_count": 98,
   "metadata": {},
   "outputs": [
    {
     "data": {
      "application/vnd.plotly.v1+json": {
       "config": {
        "plotlyServerURL": "https://plot.ly"
       },
       "data": [
        {
         "alignmentgroup": "True",
         "hovertemplate": "=%{x}<br>R² (%)=%{y}<extra></extra>",
         "legendgroup": "Fear",
         "marker": {
          "color": "#D62728",
          "pattern": {
           "shape": ""
          }
         },
         "name": "Fear",
         "offsetgroup": "Fear",
         "orientation": "v",
         "showlegend": true,
         "textposition": "auto",
         "type": "bar",
         "x": [
          "MA(1,9)",
          "MA(1,12)",
          "MA(2,9)",
          "MA(2,12)",
          "MA(3,9)",
          "MA(3,12)",
          "MOM(9)",
          "MOM(12)",
          "VOL(1,9)",
          "VOL(1,12)",
          "VOL(2,9)",
          "VOL(2,12)",
          "VOL(3,9)",
          "VOL(3,12)"
         ],
         "xaxis": "x",
         "y": [
          3.5411880682783448,
          0.4896581765445607,
          1.7161125513304842,
          -0.6528525433189714,
          0.37445872535162295,
          -0.61424957383307,
          2.2562729057555964,
          0.577781757043816,
          -0.460775721182638,
          -4.287301178633318,
          -2.089275799256529,
          -2.875902287504406,
          -1.8230383418181395,
          -3.4762429580879717
         ],
         "yaxis": "y"
        },
        {
         "alignmentgroup": "True",
         "hovertemplate": "=%{x}<br>R² (%)=%{y}<extra></extra>",
         "legendgroup": "Neutral",
         "marker": {
          "color": "#EECA3B",
          "pattern": {
           "shape": ""
          }
         },
         "name": "Neutral",
         "offsetgroup": "Neutral",
         "orientation": "v",
         "showlegend": true,
         "textposition": "auto",
         "type": "bar",
         "x": [
          "MA(1,9)",
          "MA(1,12)",
          "MA(2,9)",
          "MA(2,12)",
          "MA(3,9)",
          "MA(3,12)",
          "MOM(9)",
          "MOM(12)",
          "VOL(1,9)",
          "VOL(1,12)",
          "VOL(2,9)",
          "VOL(2,12)",
          "VOL(3,9)",
          "VOL(3,12)"
         ],
         "xaxis": "x",
         "y": [
          -2.043751653553816,
          -9.248316712268956,
          -1.1374463155103598,
          -4.211530687194243,
          -0.9836866709279857,
          -1.7174576417251064,
          -5.572792882944633,
          -3.9142350499105527,
          3.3176523516406986,
          1.7216697521731494,
          -4.44962328549654,
          -2.40871635433777,
          -5.402899681796525,
          -5.108688214956181
         ],
         "yaxis": "y"
        },
        {
         "alignmentgroup": "True",
         "hovertemplate": "=%{x}<br>R² (%)=%{y}<extra></extra>",
         "legendgroup": "Greed",
         "marker": {
          "color": "#66AA00",
          "pattern": {
           "shape": ""
          }
         },
         "name": "Greed",
         "offsetgroup": "Greed",
         "orientation": "v",
         "showlegend": true,
         "textposition": "auto",
         "type": "bar",
         "x": [
          "MA(1,9)",
          "MA(1,12)",
          "MA(2,9)",
          "MA(2,12)",
          "MA(3,9)",
          "MA(3,12)",
          "MOM(9)",
          "MOM(12)",
          "VOL(1,9)",
          "VOL(1,12)",
          "VOL(2,9)",
          "VOL(2,12)",
          "VOL(3,9)",
          "VOL(3,12)"
         ],
         "xaxis": "x",
         "y": [
          -28.29233781220657,
          -21.13014577548642,
          -19.64708510559554,
          -18.761896857887805,
          -20.792916082173107,
          -16.600195339114386,
          -29.072750954474948,
          -12.570052691566147,
          -23.52585298888914,
          -19.53711275237766,
          -7.879509688749664,
          -14.426491064087731,
          -11.847179323008916,
          -19.30113176199224
         ],
         "yaxis": "y"
        }
       ],
       "layout": {
        "bargap": 0.4,
        "bargroupgap": 0,
        "barmode": "group",
        "height": 400,
        "legend": {
         "title": {
          "text": ""
         },
         "tracegroupgap": 0
        },
        "template": {
         "data": {
          "bar": [
           {
            "error_x": {
             "color": "#2a3f5f"
            },
            "error_y": {
             "color": "#2a3f5f"
            },
            "marker": {
             "line": {
              "color": "#E5ECF6",
              "width": 0.5
             },
             "pattern": {
              "fillmode": "overlay",
              "size": 10,
              "solidity": 0.2
             }
            },
            "type": "bar"
           }
          ],
          "barpolar": [
           {
            "marker": {
             "line": {
              "color": "#E5ECF6",
              "width": 0.5
             },
             "pattern": {
              "fillmode": "overlay",
              "size": 10,
              "solidity": 0.2
             }
            },
            "type": "barpolar"
           }
          ],
          "carpet": [
           {
            "aaxis": {
             "endlinecolor": "#2a3f5f",
             "gridcolor": "white",
             "linecolor": "white",
             "minorgridcolor": "white",
             "startlinecolor": "#2a3f5f"
            },
            "baxis": {
             "endlinecolor": "#2a3f5f",
             "gridcolor": "white",
             "linecolor": "white",
             "minorgridcolor": "white",
             "startlinecolor": "#2a3f5f"
            },
            "type": "carpet"
           }
          ],
          "choropleth": [
           {
            "colorbar": {
             "outlinewidth": 0,
             "ticks": ""
            },
            "type": "choropleth"
           }
          ],
          "contour": [
           {
            "colorbar": {
             "outlinewidth": 0,
             "ticks": ""
            },
            "colorscale": [
             [
              0,
              "#0d0887"
             ],
             [
              0.1111111111111111,
              "#46039f"
             ],
             [
              0.2222222222222222,
              "#7201a8"
             ],
             [
              0.3333333333333333,
              "#9c179e"
             ],
             [
              0.4444444444444444,
              "#bd3786"
             ],
             [
              0.5555555555555556,
              "#d8576b"
             ],
             [
              0.6666666666666666,
              "#ed7953"
             ],
             [
              0.7777777777777778,
              "#fb9f3a"
             ],
             [
              0.8888888888888888,
              "#fdca26"
             ],
             [
              1,
              "#f0f921"
             ]
            ],
            "type": "contour"
           }
          ],
          "contourcarpet": [
           {
            "colorbar": {
             "outlinewidth": 0,
             "ticks": ""
            },
            "type": "contourcarpet"
           }
          ],
          "heatmap": [
           {
            "colorbar": {
             "outlinewidth": 0,
             "ticks": ""
            },
            "colorscale": [
             [
              0,
              "#0d0887"
             ],
             [
              0.1111111111111111,
              "#46039f"
             ],
             [
              0.2222222222222222,
              "#7201a8"
             ],
             [
              0.3333333333333333,
              "#9c179e"
             ],
             [
              0.4444444444444444,
              "#bd3786"
             ],
             [
              0.5555555555555556,
              "#d8576b"
             ],
             [
              0.6666666666666666,
              "#ed7953"
             ],
             [
              0.7777777777777778,
              "#fb9f3a"
             ],
             [
              0.8888888888888888,
              "#fdca26"
             ],
             [
              1,
              "#f0f921"
             ]
            ],
            "type": "heatmap"
           }
          ],
          "heatmapgl": [
           {
            "colorbar": {
             "outlinewidth": 0,
             "ticks": ""
            },
            "colorscale": [
             [
              0,
              "#0d0887"
             ],
             [
              0.1111111111111111,
              "#46039f"
             ],
             [
              0.2222222222222222,
              "#7201a8"
             ],
             [
              0.3333333333333333,
              "#9c179e"
             ],
             [
              0.4444444444444444,
              "#bd3786"
             ],
             [
              0.5555555555555556,
              "#d8576b"
             ],
             [
              0.6666666666666666,
              "#ed7953"
             ],
             [
              0.7777777777777778,
              "#fb9f3a"
             ],
             [
              0.8888888888888888,
              "#fdca26"
             ],
             [
              1,
              "#f0f921"
             ]
            ],
            "type": "heatmapgl"
           }
          ],
          "histogram": [
           {
            "marker": {
             "pattern": {
              "fillmode": "overlay",
              "size": 10,
              "solidity": 0.2
             }
            },
            "type": "histogram"
           }
          ],
          "histogram2d": [
           {
            "colorbar": {
             "outlinewidth": 0,
             "ticks": ""
            },
            "colorscale": [
             [
              0,
              "#0d0887"
             ],
             [
              0.1111111111111111,
              "#46039f"
             ],
             [
              0.2222222222222222,
              "#7201a8"
             ],
             [
              0.3333333333333333,
              "#9c179e"
             ],
             [
              0.4444444444444444,
              "#bd3786"
             ],
             [
              0.5555555555555556,
              "#d8576b"
             ],
             [
              0.6666666666666666,
              "#ed7953"
             ],
             [
              0.7777777777777778,
              "#fb9f3a"
             ],
             [
              0.8888888888888888,
              "#fdca26"
             ],
             [
              1,
              "#f0f921"
             ]
            ],
            "type": "histogram2d"
           }
          ],
          "histogram2dcontour": [
           {
            "colorbar": {
             "outlinewidth": 0,
             "ticks": ""
            },
            "colorscale": [
             [
              0,
              "#0d0887"
             ],
             [
              0.1111111111111111,
              "#46039f"
             ],
             [
              0.2222222222222222,
              "#7201a8"
             ],
             [
              0.3333333333333333,
              "#9c179e"
             ],
             [
              0.4444444444444444,
              "#bd3786"
             ],
             [
              0.5555555555555556,
              "#d8576b"
             ],
             [
              0.6666666666666666,
              "#ed7953"
             ],
             [
              0.7777777777777778,
              "#fb9f3a"
             ],
             [
              0.8888888888888888,
              "#fdca26"
             ],
             [
              1,
              "#f0f921"
             ]
            ],
            "type": "histogram2dcontour"
           }
          ],
          "mesh3d": [
           {
            "colorbar": {
             "outlinewidth": 0,
             "ticks": ""
            },
            "type": "mesh3d"
           }
          ],
          "parcoords": [
           {
            "line": {
             "colorbar": {
              "outlinewidth": 0,
              "ticks": ""
             }
            },
            "type": "parcoords"
           }
          ],
          "pie": [
           {
            "automargin": true,
            "type": "pie"
           }
          ],
          "scatter": [
           {
            "fillpattern": {
             "fillmode": "overlay",
             "size": 10,
             "solidity": 0.2
            },
            "type": "scatter"
           }
          ],
          "scatter3d": [
           {
            "line": {
             "colorbar": {
              "outlinewidth": 0,
              "ticks": ""
             }
            },
            "marker": {
             "colorbar": {
              "outlinewidth": 0,
              "ticks": ""
             }
            },
            "type": "scatter3d"
           }
          ],
          "scattercarpet": [
           {
            "marker": {
             "colorbar": {
              "outlinewidth": 0,
              "ticks": ""
             }
            },
            "type": "scattercarpet"
           }
          ],
          "scattergeo": [
           {
            "marker": {
             "colorbar": {
              "outlinewidth": 0,
              "ticks": ""
             }
            },
            "type": "scattergeo"
           }
          ],
          "scattergl": [
           {
            "marker": {
             "colorbar": {
              "outlinewidth": 0,
              "ticks": ""
             }
            },
            "type": "scattergl"
           }
          ],
          "scattermapbox": [
           {
            "marker": {
             "colorbar": {
              "outlinewidth": 0,
              "ticks": ""
             }
            },
            "type": "scattermapbox"
           }
          ],
          "scatterpolar": [
           {
            "marker": {
             "colorbar": {
              "outlinewidth": 0,
              "ticks": ""
             }
            },
            "type": "scatterpolar"
           }
          ],
          "scatterpolargl": [
           {
            "marker": {
             "colorbar": {
              "outlinewidth": 0,
              "ticks": ""
             }
            },
            "type": "scatterpolargl"
           }
          ],
          "scatterternary": [
           {
            "marker": {
             "colorbar": {
              "outlinewidth": 0,
              "ticks": ""
             }
            },
            "type": "scatterternary"
           }
          ],
          "surface": [
           {
            "colorbar": {
             "outlinewidth": 0,
             "ticks": ""
            },
            "colorscale": [
             [
              0,
              "#0d0887"
             ],
             [
              0.1111111111111111,
              "#46039f"
             ],
             [
              0.2222222222222222,
              "#7201a8"
             ],
             [
              0.3333333333333333,
              "#9c179e"
             ],
             [
              0.4444444444444444,
              "#bd3786"
             ],
             [
              0.5555555555555556,
              "#d8576b"
             ],
             [
              0.6666666666666666,
              "#ed7953"
             ],
             [
              0.7777777777777778,
              "#fb9f3a"
             ],
             [
              0.8888888888888888,
              "#fdca26"
             ],
             [
              1,
              "#f0f921"
             ]
            ],
            "type": "surface"
           }
          ],
          "table": [
           {
            "cells": {
             "fill": {
              "color": "#EBF0F8"
             },
             "line": {
              "color": "white"
             }
            },
            "header": {
             "fill": {
              "color": "#C8D4E3"
             },
             "line": {
              "color": "white"
             }
            },
            "type": "table"
           }
          ]
         },
         "layout": {
          "annotationdefaults": {
           "arrowcolor": "#2a3f5f",
           "arrowhead": 0,
           "arrowwidth": 1
          },
          "autotypenumbers": "strict",
          "coloraxis": {
           "colorbar": {
            "outlinewidth": 0,
            "ticks": ""
           }
          },
          "colorscale": {
           "diverging": [
            [
             0,
             "#8e0152"
            ],
            [
             0.1,
             "#c51b7d"
            ],
            [
             0.2,
             "#de77ae"
            ],
            [
             0.3,
             "#f1b6da"
            ],
            [
             0.4,
             "#fde0ef"
            ],
            [
             0.5,
             "#f7f7f7"
            ],
            [
             0.6,
             "#e6f5d0"
            ],
            [
             0.7,
             "#b8e186"
            ],
            [
             0.8,
             "#7fbc41"
            ],
            [
             0.9,
             "#4d9221"
            ],
            [
             1,
             "#276419"
            ]
           ],
           "sequential": [
            [
             0,
             "#0d0887"
            ],
            [
             0.1111111111111111,
             "#46039f"
            ],
            [
             0.2222222222222222,
             "#7201a8"
            ],
            [
             0.3333333333333333,
             "#9c179e"
            ],
            [
             0.4444444444444444,
             "#bd3786"
            ],
            [
             0.5555555555555556,
             "#d8576b"
            ],
            [
             0.6666666666666666,
             "#ed7953"
            ],
            [
             0.7777777777777778,
             "#fb9f3a"
            ],
            [
             0.8888888888888888,
             "#fdca26"
            ],
            [
             1,
             "#f0f921"
            ]
           ],
           "sequentialminus": [
            [
             0,
             "#0d0887"
            ],
            [
             0.1111111111111111,
             "#46039f"
            ],
            [
             0.2222222222222222,
             "#7201a8"
            ],
            [
             0.3333333333333333,
             "#9c179e"
            ],
            [
             0.4444444444444444,
             "#bd3786"
            ],
            [
             0.5555555555555556,
             "#d8576b"
            ],
            [
             0.6666666666666666,
             "#ed7953"
            ],
            [
             0.7777777777777778,
             "#fb9f3a"
            ],
            [
             0.8888888888888888,
             "#fdca26"
            ],
            [
             1,
             "#f0f921"
            ]
           ]
          },
          "colorway": [
           "#636efa",
           "#EF553B",
           "#00cc96",
           "#ab63fa",
           "#FFA15A",
           "#19d3f3",
           "#FF6692",
           "#B6E880",
           "#FF97FF",
           "#FECB52"
          ],
          "font": {
           "color": "#2a3f5f"
          },
          "geo": {
           "bgcolor": "white",
           "lakecolor": "white",
           "landcolor": "#E5ECF6",
           "showlakes": true,
           "showland": true,
           "subunitcolor": "white"
          },
          "hoverlabel": {
           "align": "left"
          },
          "hovermode": "closest",
          "mapbox": {
           "style": "light"
          },
          "paper_bgcolor": "white",
          "plot_bgcolor": "#E5ECF6",
          "polar": {
           "angularaxis": {
            "gridcolor": "white",
            "linecolor": "white",
            "ticks": ""
           },
           "bgcolor": "#E5ECF6",
           "radialaxis": {
            "gridcolor": "white",
            "linecolor": "white",
            "ticks": ""
           }
          },
          "scene": {
           "xaxis": {
            "backgroundcolor": "#E5ECF6",
            "gridcolor": "white",
            "gridwidth": 2,
            "linecolor": "white",
            "showbackground": true,
            "ticks": "",
            "zerolinecolor": "white"
           },
           "yaxis": {
            "backgroundcolor": "#E5ECF6",
            "gridcolor": "white",
            "gridwidth": 2,
            "linecolor": "white",
            "showbackground": true,
            "ticks": "",
            "zerolinecolor": "white"
           },
           "zaxis": {
            "backgroundcolor": "#E5ECF6",
            "gridcolor": "white",
            "gridwidth": 2,
            "linecolor": "white",
            "showbackground": true,
            "ticks": "",
            "zerolinecolor": "white"
           }
          },
          "shapedefaults": {
           "line": {
            "color": "#2a3f5f"
           }
          },
          "ternary": {
           "aaxis": {
            "gridcolor": "white",
            "linecolor": "white",
            "ticks": ""
           },
           "baxis": {
            "gridcolor": "white",
            "linecolor": "white",
            "ticks": ""
           },
           "bgcolor": "#E5ECF6",
           "caxis": {
            "gridcolor": "white",
            "linecolor": "white",
            "ticks": ""
           }
          },
          "title": {
           "x": 0.05
          },
          "xaxis": {
           "automargin": true,
           "gridcolor": "white",
           "linecolor": "white",
           "ticks": "",
           "title": {
            "standoff": 15
           },
           "zerolinecolor": "white",
           "zerolinewidth": 2
          },
          "yaxis": {
           "automargin": true,
           "gridcolor": "white",
           "linecolor": "white",
           "ticks": "",
           "title": {
            "standoff": 15
           },
           "zerolinecolor": "white",
           "zerolinewidth": 2
          }
         }
        },
        "title": {
         "text": "Figura 1. In-sample R² disentangled.",
         "x": 0.05,
         "y": 0.03
        },
        "width": 1000,
        "xaxis": {
         "anchor": "y",
         "domain": [
          0,
          1
         ],
         "tickangle": 25,
         "title": {
          "text": ""
         }
        },
        "yaxis": {
         "anchor": "x",
         "domain": [
          0,
          1
         ],
         "title": {
          "text": "R² (%)"
         }
        }
       }
      }
     },
     "metadata": {},
     "output_type": "display_data"
    }
   ],
   "source": [
    "r2_df.index = ['MA(1,9)','MA(1,12)','MA(2,9)','MA(2,12)','MA(3,9)','MA(3,12)','MOM(9)','MOM(12)','VOL(1,9)','VOL(1,12)','VOL(2,9)','VOL(2,12)','VOL(3,9)','VOL(3,12)']\n",
    "\n",
    "cores2 = [px.colors.qualitative.D3[3], px.colors.qualitative.T10[5], px.colors.qualitative.G10[7]]\n",
    "\n",
    "fig = px.bar(r2_df*100, r2_df.index, [\"Fear\", \"Neutral\", \"Greed\"], \n",
    "             title=\"Figura 1. In-sample R² disentangled.\", color_discrete_sequence=cores2,\n",
    "             labels={\"value\": \"R² (%)\", \"index\": \"\", \"variable\": \"\"})\n",
    "fig.update_layout(barmode='group',bargroupgap=0, bargap=0.4, width=1000, height=400, title_x=0.05, title_y=0.03)\n",
    "fig.update_xaxes(tickangle=25)\n",
    "fig.show()"
   ]
  },
  {
   "cell_type": "code",
   "execution_count": 99,
   "metadata": {
    "tags": []
   },
   "outputs": [
    {
     "ename": "ValueError",
     "evalue": "Length mismatch: Expected axis has 4 elements, new values have 5 elements",
     "output_type": "error",
     "traceback": [
      "\u001b[1;31m---------------------------------------------------------------------------\u001b[0m",
      "\u001b[1;31mValueError\u001b[0m                                Traceback (most recent call last)",
      "\u001b[1;32mc:\\Users\\User\\Documents\\GitHub\\Datathon_2023\\Code\\Python\\R-squared disentangled-out_of_sample.ipynb Célula 18\u001b[0m line \u001b[0;36m3\n\u001b[0;32m      <a href='vscode-notebook-cell:/c%3A/Users/User/Documents/GitHub/Datathon_2023/Code/Python/R-squared%20disentangled-out_of_sample.ipynb#X21sZmlsZQ%3D%3D?line=0'>1</a>\u001b[0m r2_df \u001b[39m=\u001b[39m pd\u001b[39m.\u001b[39mDataFrame(r2)\n\u001b[0;32m      <a href='vscode-notebook-cell:/c%3A/Users/User/Documents/GitHub/Datathon_2023/Code/Python/R-squared%20disentangled-out_of_sample.ipynb#X21sZmlsZQ%3D%3D?line=1'>2</a>\u001b[0m r2_df \u001b[39m=\u001b[39m r2_df\u001b[39m.\u001b[39mT\n\u001b[1;32m----> <a href='vscode-notebook-cell:/c%3A/Users/User/Documents/GitHub/Datathon_2023/Code/Python/R-squared%20disentangled-out_of_sample.ipynb#X21sZmlsZQ%3D%3D?line=2'>3</a>\u001b[0m r2_df\u001b[39m.\u001b[39;49mcolumns \u001b[39m=\u001b[39m [\u001b[39m'\u001b[39m\u001b[39mExtreme Fear\u001b[39m\u001b[39m'\u001b[39m, \u001b[39m'\u001b[39m\u001b[39mExtreme Greed\u001b[39m\u001b[39m'\u001b[39m, \u001b[39m'\u001b[39m\u001b[39mFear\u001b[39m\u001b[39m'\u001b[39m, \u001b[39m'\u001b[39m\u001b[39mGreed\u001b[39m\u001b[39m'\u001b[39m, \u001b[39m'\u001b[39m\u001b[39mNeutral\u001b[39m\u001b[39m'\u001b[39m]\n\u001b[0;32m      <a href='vscode-notebook-cell:/c%3A/Users/User/Documents/GitHub/Datathon_2023/Code/Python/R-squared%20disentangled-out_of_sample.ipynb#X21sZmlsZQ%3D%3D?line=3'>4</a>\u001b[0m r2_df\n",
      "File \u001b[1;32mc:\\Users\\User\\AppData\\Local\\Programs\\Python\\Python311\\Lib\\site-packages\\pandas\\core\\generic.py:6002\u001b[0m, in \u001b[0;36mNDFrame.__setattr__\u001b[1;34m(self, name, value)\u001b[0m\n\u001b[0;32m   6000\u001b[0m \u001b[39mtry\u001b[39;00m:\n\u001b[0;32m   6001\u001b[0m     \u001b[39mobject\u001b[39m\u001b[39m.\u001b[39m\u001b[39m__getattribute__\u001b[39m(\u001b[39mself\u001b[39m, name)\n\u001b[1;32m-> 6002\u001b[0m     \u001b[39mreturn\u001b[39;00m \u001b[39mobject\u001b[39;49m\u001b[39m.\u001b[39;49m\u001b[39m__setattr__\u001b[39;49m(\u001b[39mself\u001b[39;49m, name, value)\n\u001b[0;32m   6003\u001b[0m \u001b[39mexcept\u001b[39;00m \u001b[39mAttributeError\u001b[39;00m:\n\u001b[0;32m   6004\u001b[0m     \u001b[39mpass\u001b[39;00m\n",
      "File \u001b[1;32mc:\\Users\\User\\AppData\\Local\\Programs\\Python\\Python311\\Lib\\site-packages\\pandas\\_libs\\properties.pyx:69\u001b[0m, in \u001b[0;36mpandas._libs.properties.AxisProperty.__set__\u001b[1;34m()\u001b[0m\n",
      "File \u001b[1;32mc:\\Users\\User\\AppData\\Local\\Programs\\Python\\Python311\\Lib\\site-packages\\pandas\\core\\generic.py:730\u001b[0m, in \u001b[0;36mNDFrame._set_axis\u001b[1;34m(self, axis, labels)\u001b[0m\n\u001b[0;32m    725\u001b[0m \u001b[39m\u001b[39m\u001b[39m\"\"\"\u001b[39;00m\n\u001b[0;32m    726\u001b[0m \u001b[39mThis is called from the cython code when we set the `index` attribute\u001b[39;00m\n\u001b[0;32m    727\u001b[0m \u001b[39mdirectly, e.g. `series.index = [1, 2, 3]`.\u001b[39;00m\n\u001b[0;32m    728\u001b[0m \u001b[39m\"\"\"\u001b[39;00m\n\u001b[0;32m    729\u001b[0m labels \u001b[39m=\u001b[39m ensure_index(labels)\n\u001b[1;32m--> 730\u001b[0m \u001b[39mself\u001b[39;49m\u001b[39m.\u001b[39;49m_mgr\u001b[39m.\u001b[39;49mset_axis(axis, labels)\n\u001b[0;32m    731\u001b[0m \u001b[39mself\u001b[39m\u001b[39m.\u001b[39m_clear_item_cache()\n",
      "File \u001b[1;32mc:\\Users\\User\\AppData\\Local\\Programs\\Python\\Python311\\Lib\\site-packages\\pandas\\core\\internals\\managers.py:225\u001b[0m, in \u001b[0;36mBaseBlockManager.set_axis\u001b[1;34m(self, axis, new_labels)\u001b[0m\n\u001b[0;32m    223\u001b[0m \u001b[39mdef\u001b[39;00m \u001b[39mset_axis\u001b[39m(\u001b[39mself\u001b[39m, axis: AxisInt, new_labels: Index) \u001b[39m-\u001b[39m\u001b[39m>\u001b[39m \u001b[39mNone\u001b[39;00m:\n\u001b[0;32m    224\u001b[0m     \u001b[39m# Caller is responsible for ensuring we have an Index object.\u001b[39;00m\n\u001b[1;32m--> 225\u001b[0m     \u001b[39mself\u001b[39;49m\u001b[39m.\u001b[39;49m_validate_set_axis(axis, new_labels)\n\u001b[0;32m    226\u001b[0m     \u001b[39mself\u001b[39m\u001b[39m.\u001b[39maxes[axis] \u001b[39m=\u001b[39m new_labels\n",
      "File \u001b[1;32mc:\\Users\\User\\AppData\\Local\\Programs\\Python\\Python311\\Lib\\site-packages\\pandas\\core\\internals\\base.py:70\u001b[0m, in \u001b[0;36mDataManager._validate_set_axis\u001b[1;34m(self, axis, new_labels)\u001b[0m\n\u001b[0;32m     67\u001b[0m     \u001b[39mpass\u001b[39;00m\n\u001b[0;32m     69\u001b[0m \u001b[39melif\u001b[39;00m new_len \u001b[39m!=\u001b[39m old_len:\n\u001b[1;32m---> 70\u001b[0m     \u001b[39mraise\u001b[39;00m \u001b[39mValueError\u001b[39;00m(\n\u001b[0;32m     71\u001b[0m         \u001b[39mf\u001b[39m\u001b[39m\"\u001b[39m\u001b[39mLength mismatch: Expected axis has \u001b[39m\u001b[39m{\u001b[39;00mold_len\u001b[39m}\u001b[39;00m\u001b[39m elements, new \u001b[39m\u001b[39m\"\u001b[39m\n\u001b[0;32m     72\u001b[0m         \u001b[39mf\u001b[39m\u001b[39m\"\u001b[39m\u001b[39mvalues have \u001b[39m\u001b[39m{\u001b[39;00mnew_len\u001b[39m}\u001b[39;00m\u001b[39m elements\u001b[39m\u001b[39m\"\u001b[39m\n\u001b[0;32m     73\u001b[0m     )\n",
      "\u001b[1;31mValueError\u001b[0m: Length mismatch: Expected axis has 4 elements, new values have 5 elements"
     ]
    }
   ],
   "source": [
    "r2_df = pd.DataFrame(r2)\n",
    "r2_df = r2_df.T\n",
    "r2_df.columns = ['Extreme Fear', 'Extreme Greed', 'Fear', 'Greed', 'Neutral']\n",
    "r2_df"
   ]
  },
  {
   "cell_type": "code",
   "execution_count": null,
   "metadata": {},
   "outputs": [
    {
     "name": "stdout",
     "output_type": "stream",
     "text": [
      "Extreme Fear -0.0\n",
      "Extreme Greed -0.01\n",
      "Fear -0.01\n",
      "Greed -0.03\n",
      "Neutral -0.05\n"
     ]
    }
   ],
   "source": [
    "for col in r2_df.columns:\n",
    "    print(col, round(r2_df[col].mean(), 2))"
   ]
  }
 ],
 "metadata": {
  "kernelspec": {
   "display_name": "Python 3 (ipykernel)",
   "language": "python",
   "name": "python3"
  },
  "language_info": {
   "codemirror_mode": {
    "name": "ipython",
    "version": 3
   },
   "file_extension": ".py",
   "mimetype": "text/x-python",
   "name": "python",
   "nbconvert_exporter": "python",
   "pygments_lexer": "ipython3",
   "version": "3.11.3"
  }
 },
 "nbformat": 4,
 "nbformat_minor": 4
}
