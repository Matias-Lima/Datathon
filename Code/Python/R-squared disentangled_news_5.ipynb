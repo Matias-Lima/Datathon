{
 "cells": [
  {
   "cell_type": "markdown",
   "metadata": {},
   "source": [
    "# **R-Squared Disentangled**"
   ]
  },
  {
   "cell_type": "markdown",
   "metadata": {},
   "source": [
    "### Import Libraries"
   ]
  },
  {
   "cell_type": "code",
   "execution_count": 4,
   "metadata": {
    "tags": []
   },
   "outputs": [],
   "source": [
    "import numpy as np\n",
    "import pandas as pd\n",
    "import statsmodels.api as sm\n",
    "\n",
    "pd.set_option('display.max_columns', 500)"
   ]
  },
  {
   "cell_type": "markdown",
   "metadata": {},
   "source": [
    "### Import Data"
   ]
  },
  {
   "cell_type": "code",
   "execution_count": 5,
   "metadata": {
    "tags": []
   },
   "outputs": [
    {
     "data": {
      "text/html": [
       "<div>\n",
       "<style scoped>\n",
       "    .dataframe tbody tr th:only-of-type {\n",
       "        vertical-align: middle;\n",
       "    }\n",
       "\n",
       "    .dataframe tbody tr th {\n",
       "        vertical-align: top;\n",
       "    }\n",
       "\n",
       "    .dataframe thead th {\n",
       "        text-align: right;\n",
       "    }\n",
       "</style>\n",
       "<table border=\"1\" class=\"dataframe\">\n",
       "  <thead>\n",
       "    <tr style=\"text-align: right;\">\n",
       "      <th></th>\n",
       "      <th>Data</th>\n",
       "      <th>daily_index</th>\n",
       "      <th>Sentiment Score</th>\n",
       "      <th>PCA_Normalized</th>\n",
       "    </tr>\n",
       "  </thead>\n",
       "  <tbody>\n",
       "    <tr>\n",
       "      <th>0</th>\n",
       "      <td>2023-06-30</td>\n",
       "      <td>56</td>\n",
       "      <td>0.131037</td>\n",
       "      <td>57.099674</td>\n",
       "    </tr>\n",
       "    <tr>\n",
       "      <th>1</th>\n",
       "      <td>2023-06-29</td>\n",
       "      <td>54</td>\n",
       "      <td>0.192296</td>\n",
       "      <td>54.899763</td>\n",
       "    </tr>\n",
       "    <tr>\n",
       "      <th>2</th>\n",
       "      <td>2023-06-28</td>\n",
       "      <td>62</td>\n",
       "      <td>0.095973</td>\n",
       "      <td>63.699619</td>\n",
       "    </tr>\n",
       "    <tr>\n",
       "      <th>3</th>\n",
       "      <td>2023-06-27</td>\n",
       "      <td>59</td>\n",
       "      <td>0.139035</td>\n",
       "      <td>60.399683</td>\n",
       "    </tr>\n",
       "    <tr>\n",
       "      <th>4</th>\n",
       "      <td>2023-06-26</td>\n",
       "      <td>55</td>\n",
       "      <td>0.195269</td>\n",
       "      <td>55.999767</td>\n",
       "    </tr>\n",
       "    <tr>\n",
       "      <th>...</th>\n",
       "      <td>...</td>\n",
       "      <td>...</td>\n",
       "      <td>...</td>\n",
       "      <td>...</td>\n",
       "    </tr>\n",
       "    <tr>\n",
       "      <th>1960</th>\n",
       "      <td>2018-02-05</td>\n",
       "      <td>11</td>\n",
       "      <td>0.090658</td>\n",
       "      <td>7.599657</td>\n",
       "    </tr>\n",
       "    <tr>\n",
       "      <th>1961</th>\n",
       "      <td>2018-02-04</td>\n",
       "      <td>24</td>\n",
       "      <td>0.017391</td>\n",
       "      <td>21.899541</td>\n",
       "    </tr>\n",
       "    <tr>\n",
       "      <th>1962</th>\n",
       "      <td>2018-02-03</td>\n",
       "      <td>40</td>\n",
       "      <td>0.350227</td>\n",
       "      <td>39.500001</td>\n",
       "    </tr>\n",
       "    <tr>\n",
       "      <th>1963</th>\n",
       "      <td>2018-02-02</td>\n",
       "      <td>15</td>\n",
       "      <td>0.092335</td>\n",
       "      <td>11.999656</td>\n",
       "    </tr>\n",
       "    <tr>\n",
       "      <th>1964</th>\n",
       "      <td>2018-02-01</td>\n",
       "      <td>30</td>\n",
       "      <td>0.011285</td>\n",
       "      <td>28.499527</td>\n",
       "    </tr>\n",
       "  </tbody>\n",
       "</table>\n",
       "<p>1965 rows × 4 columns</p>\n",
       "</div>"
      ],
      "text/plain": [
       "           Data  daily_index  Sentiment Score  PCA_Normalized\n",
       "0    2023-06-30           56         0.131037       57.099674\n",
       "1    2023-06-29           54         0.192296       54.899763\n",
       "2    2023-06-28           62         0.095973       63.699619\n",
       "3    2023-06-27           59         0.139035       60.399683\n",
       "4    2023-06-26           55         0.195269       55.999767\n",
       "...         ...          ...              ...             ...\n",
       "1960 2018-02-05           11         0.090658        7.599657\n",
       "1961 2018-02-04           24         0.017391       21.899541\n",
       "1962 2018-02-03           40         0.350227       39.500001\n",
       "1963 2018-02-02           15         0.092335       11.999656\n",
       "1964 2018-02-01           30         0.011285       28.499527\n",
       "\n",
       "[1965 rows x 4 columns]"
      ]
     },
     "execution_count": 5,
     "metadata": {},
     "output_type": "execute_result"
    }
   ],
   "source": [
    "dummy = pd.read_excel('../../Dados/result_PCA_indicador_dia.xlsx')\n",
    "dummy"
   ]
  },
  {
   "cell_type": "markdown",
   "metadata": {},
   "source": [
    "## *R-Squared*"
   ]
  },
  {
   "cell_type": "code",
   "execution_count": 6,
   "metadata": {
    "tags": []
   },
   "outputs": [
    {
     "data": {
      "text/html": [
       "<div>\n",
       "<style scoped>\n",
       "    .dataframe tbody tr th:only-of-type {\n",
       "        vertical-align: middle;\n",
       "    }\n",
       "\n",
       "    .dataframe tbody tr th {\n",
       "        vertical-align: top;\n",
       "    }\n",
       "\n",
       "    .dataframe thead th {\n",
       "        text-align: right;\n",
       "    }\n",
       "</style>\n",
       "<table border=\"1\" class=\"dataframe\">\n",
       "  <thead>\n",
       "    <tr style=\"text-align: right;\">\n",
       "      <th></th>\n",
       "      <th>PCA_Normalized</th>\n",
       "      <th>weekly_mean</th>\n",
       "      <th>sentiment</th>\n",
       "    </tr>\n",
       "    <tr>\n",
       "      <th>Data</th>\n",
       "      <th></th>\n",
       "      <th></th>\n",
       "      <th></th>\n",
       "    </tr>\n",
       "  </thead>\n",
       "  <tbody>\n",
       "    <tr>\n",
       "      <th>2018-02-01</th>\n",
       "      <td>28.499527</td>\n",
       "      <td>NaN</td>\n",
       "      <td>0</td>\n",
       "    </tr>\n",
       "    <tr>\n",
       "      <th>2018-02-02</th>\n",
       "      <td>11.999656</td>\n",
       "      <td>NaN</td>\n",
       "      <td>0</td>\n",
       "    </tr>\n",
       "    <tr>\n",
       "      <th>2018-02-03</th>\n",
       "      <td>39.500001</td>\n",
       "      <td>NaN</td>\n",
       "      <td>0</td>\n",
       "    </tr>\n",
       "    <tr>\n",
       "      <th>2018-02-04</th>\n",
       "      <td>21.899541</td>\n",
       "      <td>NaN</td>\n",
       "      <td>0</td>\n",
       "    </tr>\n",
       "    <tr>\n",
       "      <th>2018-02-05</th>\n",
       "      <td>7.599657</td>\n",
       "      <td>NaN</td>\n",
       "      <td>0</td>\n",
       "    </tr>\n",
       "    <tr>\n",
       "      <th>...</th>\n",
       "      <td>...</td>\n",
       "      <td>...</td>\n",
       "      <td>...</td>\n",
       "    </tr>\n",
       "    <tr>\n",
       "      <th>2023-06-26</th>\n",
       "      <td>55.999767</td>\n",
       "      <td>61.342569</td>\n",
       "      <td>Greed</td>\n",
       "    </tr>\n",
       "    <tr>\n",
       "      <th>2023-06-27</th>\n",
       "      <td>60.399683</td>\n",
       "      <td>62.913969</td>\n",
       "      <td>Greed</td>\n",
       "    </tr>\n",
       "    <tr>\n",
       "      <th>2023-06-28</th>\n",
       "      <td>63.699619</td>\n",
       "      <td>63.385373</td>\n",
       "      <td>Greed</td>\n",
       "    </tr>\n",
       "    <tr>\n",
       "      <th>2023-06-29</th>\n",
       "      <td>54.899763</td>\n",
       "      <td>61.656829</td>\n",
       "      <td>Greed</td>\n",
       "    </tr>\n",
       "    <tr>\n",
       "      <th>2023-06-30</th>\n",
       "      <td>57.099674</td>\n",
       "      <td>60.242515</td>\n",
       "      <td>Greed</td>\n",
       "    </tr>\n",
       "  </tbody>\n",
       "</table>\n",
       "<p>1965 rows × 3 columns</p>\n",
       "</div>"
      ],
      "text/plain": [
       "            PCA_Normalized  weekly_mean sentiment\n",
       "Data                                             \n",
       "2018-02-01       28.499527          NaN         0\n",
       "2018-02-02       11.999656          NaN         0\n",
       "2018-02-03       39.500001          NaN         0\n",
       "2018-02-04       21.899541          NaN         0\n",
       "2018-02-05        7.599657          NaN         0\n",
       "...                    ...          ...       ...\n",
       "2023-06-26       55.999767    61.342569     Greed\n",
       "2023-06-27       60.399683    62.913969     Greed\n",
       "2023-06-28       63.699619    63.385373     Greed\n",
       "2023-06-29       54.899763    61.656829     Greed\n",
       "2023-06-30       57.099674    60.242515     Greed\n",
       "\n",
       "[1965 rows x 3 columns]"
      ]
     },
     "execution_count": 6,
     "metadata": {},
     "output_type": "execute_result"
    }
   ],
   "source": [
    "fg = dummy.drop(['daily_index', 'Sentiment Score'], axis=1).set_index('Data').sort_values(by='Data', ascending=True)\n",
    "fg['weekly_mean'] = fg['PCA_Normalized'].rolling(7).mean()\n",
    "fg['sentiment'] = 0\n",
    "\n",
    "fg.loc[(fg['weekly_mean'] <= 24), 'sentiment'] = 'Extreme Fear'\n",
    "fg.loc[(fg['weekly_mean'] >24) & (fg['weekly_mean'] <= 44), 'sentiment'] = 'Fear'\n",
    "fg.loc[(fg['weekly_mean'] > 44) & (fg['weekly_mean'] <= 55), 'sentiment'] = 'Neutral'\n",
    "fg.loc[(fg['weekly_mean'] > 55) & (fg['weekly_mean'] <= 75), 'sentiment'] = 'Greed'\n",
    "fg.loc[(fg['weekly_mean'] > 75), 'sentiment'] = 'Extreme Greed'\n",
    "\n",
    "# fg.loc[(fg['weekly_mean'] <= 44), 'sentiment'] = 'Fear'\n",
    "# fg.loc[(fg['weekly_mean'] > 44) & (fg['weekly_mean'] <= 55), 'sentiment'] = 'Neutral'\n",
    "# fg.loc[fg['weekly_mean'] > 55, 'sentiment'] = 'Greed'\n",
    "\n",
    "# fg.loc[(fg['weekly_mean'] <= 50), 'sentiment'] = 'Fear'\n",
    "# fg.loc[(fg['weekly_mean'] > 50), 'sentiment'] = 'Greed'\n",
    "\n",
    "# fg.loc[(fg['weekly_mean'] > 24) & (fg['weekly_mean'] <= 75), 'sentiment'] = 'Neutral'\n",
    "# fg.loc[(fg['weekly_mean'] <= 24) | (fg['weekly_mean'] > 75), 'sentiment'] = 'Extreme'\n",
    "\n",
    "fg"
   ]
  },
  {
   "cell_type": "code",
   "execution_count": 7,
   "metadata": {
    "tags": []
   },
   "outputs": [
    {
     "data": {
      "text/html": [
       "<div>\n",
       "<style scoped>\n",
       "    .dataframe tbody tr th:only-of-type {\n",
       "        vertical-align: middle;\n",
       "    }\n",
       "\n",
       "    .dataframe tbody tr th {\n",
       "        vertical-align: top;\n",
       "    }\n",
       "\n",
       "    .dataframe thead th {\n",
       "        text-align: right;\n",
       "    }\n",
       "</style>\n",
       "<table border=\"1\" class=\"dataframe\">\n",
       "  <thead>\n",
       "    <tr style=\"text-align: right;\">\n",
       "      <th></th>\n",
       "      <th>Date</th>\n",
       "      <th>Adj Close</th>\n",
       "      <th>Volume</th>\n",
       "      <th>MA_1_9</th>\n",
       "      <th>MA_1_12</th>\n",
       "      <th>MA_2_9</th>\n",
       "      <th>MA_2_12</th>\n",
       "      <th>MA_3_9</th>\n",
       "      <th>MA_3_12</th>\n",
       "      <th>MOM_9</th>\n",
       "      <th>MOM_12</th>\n",
       "      <th>VOL_1_9</th>\n",
       "      <th>VOL_1_12</th>\n",
       "      <th>VOL_2_9</th>\n",
       "      <th>VOL_2_12</th>\n",
       "      <th>VOL_3_9</th>\n",
       "      <th>VOL_3_12</th>\n",
       "    </tr>\n",
       "  </thead>\n",
       "  <tbody>\n",
       "    <tr>\n",
       "      <th>0</th>\n",
       "      <td>2015-03-02</td>\n",
       "      <td>274.354004</td>\n",
       "      <td>242425100</td>\n",
       "      <td>1</td>\n",
       "      <td>1</td>\n",
       "      <td>1</td>\n",
       "      <td>1</td>\n",
       "      <td>1</td>\n",
       "      <td>0</td>\n",
       "      <td>1</td>\n",
       "      <td>0</td>\n",
       "      <td>1</td>\n",
       "      <td>1</td>\n",
       "      <td>1</td>\n",
       "      <td>1</td>\n",
       "      <td>1</td>\n",
       "      <td>1</td>\n",
       "    </tr>\n",
       "    <tr>\n",
       "      <th>1</th>\n",
       "      <td>2015-03-09</td>\n",
       "      <td>286.393005</td>\n",
       "      <td>259502000</td>\n",
       "      <td>1</td>\n",
       "      <td>1</td>\n",
       "      <td>1</td>\n",
       "      <td>1</td>\n",
       "      <td>1</td>\n",
       "      <td>1</td>\n",
       "      <td>1</td>\n",
       "      <td>0</td>\n",
       "      <td>1</td>\n",
       "      <td>1</td>\n",
       "      <td>1</td>\n",
       "      <td>1</td>\n",
       "      <td>1</td>\n",
       "      <td>1</td>\n",
       "    </tr>\n",
       "    <tr>\n",
       "      <th>2</th>\n",
       "      <td>2015-03-16</td>\n",
       "      <td>267.959991</td>\n",
       "      <td>206778200</td>\n",
       "      <td>1</td>\n",
       "      <td>1</td>\n",
       "      <td>1</td>\n",
       "      <td>1</td>\n",
       "      <td>1</td>\n",
       "      <td>1</td>\n",
       "      <td>1</td>\n",
       "      <td>1</td>\n",
       "      <td>1</td>\n",
       "      <td>1</td>\n",
       "      <td>1</td>\n",
       "      <td>1</td>\n",
       "      <td>1</td>\n",
       "      <td>1</td>\n",
       "    </tr>\n",
       "    <tr>\n",
       "      <th>3</th>\n",
       "      <td>2015-03-23</td>\n",
       "      <td>242.712997</td>\n",
       "      <td>179497700</td>\n",
       "      <td>0</td>\n",
       "      <td>0</td>\n",
       "      <td>1</td>\n",
       "      <td>1</td>\n",
       "      <td>1</td>\n",
       "      <td>1</td>\n",
       "      <td>1</td>\n",
       "      <td>0</td>\n",
       "      <td>1</td>\n",
       "      <td>1</td>\n",
       "      <td>1</td>\n",
       "      <td>1</td>\n",
       "      <td>1</td>\n",
       "      <td>1</td>\n",
       "    </tr>\n",
       "    <tr>\n",
       "      <th>4</th>\n",
       "      <td>2015-03-30</td>\n",
       "      <td>260.597992</td>\n",
       "      <td>150120700</td>\n",
       "      <td>1</td>\n",
       "      <td>1</td>\n",
       "      <td>0</td>\n",
       "      <td>1</td>\n",
       "      <td>1</td>\n",
       "      <td>1</td>\n",
       "      <td>1</td>\n",
       "      <td>1</td>\n",
       "      <td>1</td>\n",
       "      <td>1</td>\n",
       "      <td>1</td>\n",
       "      <td>1</td>\n",
       "      <td>1</td>\n",
       "      <td>1</td>\n",
       "    </tr>\n",
       "    <tr>\n",
       "      <th>...</th>\n",
       "      <td>...</td>\n",
       "      <td>...</td>\n",
       "      <td>...</td>\n",
       "      <td>...</td>\n",
       "      <td>...</td>\n",
       "      <td>...</td>\n",
       "      <td>...</td>\n",
       "      <td>...</td>\n",
       "      <td>...</td>\n",
       "      <td>...</td>\n",
       "      <td>...</td>\n",
       "      <td>...</td>\n",
       "      <td>...</td>\n",
       "      <td>...</td>\n",
       "      <td>...</td>\n",
       "      <td>...</td>\n",
       "      <td>...</td>\n",
       "    </tr>\n",
       "    <tr>\n",
       "      <th>448</th>\n",
       "      <td>2023-10-02</td>\n",
       "      <td>27935.089844</td>\n",
       "      <td>82183775698</td>\n",
       "      <td>1</td>\n",
       "      <td>1</td>\n",
       "      <td>1</td>\n",
       "      <td>1</td>\n",
       "      <td>1</td>\n",
       "      <td>0</td>\n",
       "      <td>0</td>\n",
       "      <td>0</td>\n",
       "      <td>0</td>\n",
       "      <td>0</td>\n",
       "      <td>0</td>\n",
       "      <td>0</td>\n",
       "      <td>0</td>\n",
       "      <td>0</td>\n",
       "    </tr>\n",
       "    <tr>\n",
       "      <th>449</th>\n",
       "      <td>2023-10-09</td>\n",
       "      <td>27159.652344</td>\n",
       "      <td>72673654487</td>\n",
       "      <td>1</td>\n",
       "      <td>0</td>\n",
       "      <td>1</td>\n",
       "      <td>1</td>\n",
       "      <td>1</td>\n",
       "      <td>1</td>\n",
       "      <td>1</td>\n",
       "      <td>0</td>\n",
       "      <td>0</td>\n",
       "      <td>0</td>\n",
       "      <td>0</td>\n",
       "      <td>0</td>\n",
       "      <td>0</td>\n",
       "      <td>0</td>\n",
       "    </tr>\n",
       "    <tr>\n",
       "      <th>450</th>\n",
       "      <td>2023-10-16</td>\n",
       "      <td>29993.896484</td>\n",
       "      <td>113402383094</td>\n",
       "      <td>1</td>\n",
       "      <td>1</td>\n",
       "      <td>1</td>\n",
       "      <td>1</td>\n",
       "      <td>1</td>\n",
       "      <td>1</td>\n",
       "      <td>1</td>\n",
       "      <td>1</td>\n",
       "      <td>0</td>\n",
       "      <td>0</td>\n",
       "      <td>0</td>\n",
       "      <td>0</td>\n",
       "      <td>0</td>\n",
       "      <td>0</td>\n",
       "    </tr>\n",
       "    <tr>\n",
       "      <th>451</th>\n",
       "      <td>2023-10-23</td>\n",
       "      <td>33086.234375</td>\n",
       "      <td>38363572311</td>\n",
       "      <td>1</td>\n",
       "      <td>1</td>\n",
       "      <td>1</td>\n",
       "      <td>1</td>\n",
       "      <td>1</td>\n",
       "      <td>1</td>\n",
       "      <td>1</td>\n",
       "      <td>1</td>\n",
       "      <td>1</td>\n",
       "      <td>0</td>\n",
       "      <td>1</td>\n",
       "      <td>0</td>\n",
       "      <td>0</td>\n",
       "      <td>0</td>\n",
       "    </tr>\n",
       "    <tr>\n",
       "      <th>452</th>\n",
       "      <td>2023-10-24</td>\n",
       "      <td>33559.125000</td>\n",
       "      <td>53066547200</td>\n",
       "      <td>1</td>\n",
       "      <td>1</td>\n",
       "      <td>1</td>\n",
       "      <td>1</td>\n",
       "      <td>1</td>\n",
       "      <td>1</td>\n",
       "      <td>1</td>\n",
       "      <td>1</td>\n",
       "      <td>1</td>\n",
       "      <td>1</td>\n",
       "      <td>1</td>\n",
       "      <td>1</td>\n",
       "      <td>1</td>\n",
       "      <td>1</td>\n",
       "    </tr>\n",
       "  </tbody>\n",
       "</table>\n",
       "<p>453 rows × 17 columns</p>\n",
       "</div>"
      ],
      "text/plain": [
       "          Date     Adj Close        Volume  MA_1_9  MA_1_12  MA_2_9  MA_2_12   \n",
       "0   2015-03-02    274.354004     242425100       1        1       1        1  \\\n",
       "1   2015-03-09    286.393005     259502000       1        1       1        1   \n",
       "2   2015-03-16    267.959991     206778200       1        1       1        1   \n",
       "3   2015-03-23    242.712997     179497700       0        0       1        1   \n",
       "4   2015-03-30    260.597992     150120700       1        1       0        1   \n",
       "..         ...           ...           ...     ...      ...     ...      ...   \n",
       "448 2023-10-02  27935.089844   82183775698       1        1       1        1   \n",
       "449 2023-10-09  27159.652344   72673654487       1        0       1        1   \n",
       "450 2023-10-16  29993.896484  113402383094       1        1       1        1   \n",
       "451 2023-10-23  33086.234375   38363572311       1        1       1        1   \n",
       "452 2023-10-24  33559.125000   53066547200       1        1       1        1   \n",
       "\n",
       "     MA_3_9  MA_3_12  MOM_9  MOM_12  VOL_1_9  VOL_1_12  VOL_2_9  VOL_2_12   \n",
       "0         1        0      1       0        1         1        1         1  \\\n",
       "1         1        1      1       0        1         1        1         1   \n",
       "2         1        1      1       1        1         1        1         1   \n",
       "3         1        1      1       0        1         1        1         1   \n",
       "4         1        1      1       1        1         1        1         1   \n",
       "..      ...      ...    ...     ...      ...       ...      ...       ...   \n",
       "448       1        0      0       0        0         0        0         0   \n",
       "449       1        1      1       0        0         0        0         0   \n",
       "450       1        1      1       1        0         0        0         0   \n",
       "451       1        1      1       1        1         0        1         0   \n",
       "452       1        1      1       1        1         1        1         1   \n",
       "\n",
       "     VOL_3_9  VOL_3_12  \n",
       "0          1         1  \n",
       "1          1         1  \n",
       "2          1         1  \n",
       "3          1         1  \n",
       "4          1         1  \n",
       "..       ...       ...  \n",
       "448        0         0  \n",
       "449        0         0  \n",
       "450        0         0  \n",
       "451        0         0  \n",
       "452        1         1  \n",
       "\n",
       "[453 rows x 17 columns]"
      ]
     },
     "execution_count": 7,
     "metadata": {},
     "output_type": "execute_result"
    }
   ],
   "source": [
    "tech = pd.read_excel('../../Dados/tech_signals_w.xlsx')\n",
    "tech['Date'] = pd.to_datetime(tech['Date'])\n",
    "tech"
   ]
  },
  {
   "cell_type": "code",
   "execution_count": 8,
   "metadata": {
    "tags": []
   },
   "outputs": [
    {
     "data": {
      "text/html": [
       "<div>\n",
       "<style scoped>\n",
       "    .dataframe tbody tr th:only-of-type {\n",
       "        vertical-align: middle;\n",
       "    }\n",
       "\n",
       "    .dataframe tbody tr th {\n",
       "        vertical-align: top;\n",
       "    }\n",
       "\n",
       "    .dataframe thead th {\n",
       "        text-align: right;\n",
       "    }\n",
       "</style>\n",
       "<table border=\"1\" class=\"dataframe\">\n",
       "  <thead>\n",
       "    <tr style=\"text-align: right;\">\n",
       "      <th></th>\n",
       "      <th>Date</th>\n",
       "      <th>Adj Close</th>\n",
       "      <th>Volume</th>\n",
       "      <th>MA_1_9</th>\n",
       "      <th>MA_1_12</th>\n",
       "      <th>MA_2_9</th>\n",
       "      <th>MA_2_12</th>\n",
       "      <th>MA_3_9</th>\n",
       "      <th>MA_3_12</th>\n",
       "      <th>MOM_9</th>\n",
       "      <th>MOM_12</th>\n",
       "      <th>VOL_1_9</th>\n",
       "      <th>VOL_1_12</th>\n",
       "      <th>VOL_2_9</th>\n",
       "      <th>VOL_2_12</th>\n",
       "      <th>VOL_3_9</th>\n",
       "      <th>VOL_3_12</th>\n",
       "      <th>weekly_mean</th>\n",
       "      <th>sentiment</th>\n",
       "    </tr>\n",
       "  </thead>\n",
       "  <tbody>\n",
       "    <tr>\n",
       "      <th>154</th>\n",
       "      <td>2018-02-12</td>\n",
       "      <td>10551.799805</td>\n",
       "      <td>53626569728</td>\n",
       "      <td>0</td>\n",
       "      <td>0</td>\n",
       "      <td>0</td>\n",
       "      <td>0</td>\n",
       "      <td>0</td>\n",
       "      <td>0</td>\n",
       "      <td>0</td>\n",
       "      <td>0</td>\n",
       "      <td>0</td>\n",
       "      <td>0</td>\n",
       "      <td>0</td>\n",
       "      <td>0</td>\n",
       "      <td>0</td>\n",
       "      <td>0</td>\n",
       "      <td>33.999736</td>\n",
       "      <td>Fear</td>\n",
       "    </tr>\n",
       "    <tr>\n",
       "      <th>155</th>\n",
       "      <td>2018-02-19</td>\n",
       "      <td>9664.730469</td>\n",
       "      <td>55388419584</td>\n",
       "      <td>0</td>\n",
       "      <td>0</td>\n",
       "      <td>0</td>\n",
       "      <td>0</td>\n",
       "      <td>0</td>\n",
       "      <td>0</td>\n",
       "      <td>0</td>\n",
       "      <td>0</td>\n",
       "      <td>0</td>\n",
       "      <td>0</td>\n",
       "      <td>0</td>\n",
       "      <td>0</td>\n",
       "      <td>0</td>\n",
       "      <td>0</td>\n",
       "      <td>63.385416</td>\n",
       "      <td>Greed</td>\n",
       "    </tr>\n",
       "    <tr>\n",
       "      <th>156</th>\n",
       "      <td>2018-02-26</td>\n",
       "      <td>11512.599609</td>\n",
       "      <td>48902649856</td>\n",
       "      <td>1</td>\n",
       "      <td>0</td>\n",
       "      <td>0</td>\n",
       "      <td>0</td>\n",
       "      <td>0</td>\n",
       "      <td>0</td>\n",
       "      <td>0</td>\n",
       "      <td>0</td>\n",
       "      <td>0</td>\n",
       "      <td>0</td>\n",
       "      <td>0</td>\n",
       "      <td>0</td>\n",
       "      <td>0</td>\n",
       "      <td>0</td>\n",
       "      <td>44.528131</td>\n",
       "      <td>Neutral</td>\n",
       "    </tr>\n",
       "    <tr>\n",
       "      <th>157</th>\n",
       "      <td>2018-03-05</td>\n",
       "      <td>9578.629883</td>\n",
       "      <td>49671590400</td>\n",
       "      <td>0</td>\n",
       "      <td>0</td>\n",
       "      <td>1</td>\n",
       "      <td>0</td>\n",
       "      <td>0</td>\n",
       "      <td>0</td>\n",
       "      <td>0</td>\n",
       "      <td>0</td>\n",
       "      <td>0</td>\n",
       "      <td>0</td>\n",
       "      <td>0</td>\n",
       "      <td>0</td>\n",
       "      <td>0</td>\n",
       "      <td>0</td>\n",
       "      <td>46.570830</td>\n",
       "      <td>Neutral</td>\n",
       "    </tr>\n",
       "    <tr>\n",
       "      <th>158</th>\n",
       "      <td>2018-03-12</td>\n",
       "      <td>8223.679688</td>\n",
       "      <td>42075919360</td>\n",
       "      <td>0</td>\n",
       "      <td>0</td>\n",
       "      <td>0</td>\n",
       "      <td>0</td>\n",
       "      <td>0</td>\n",
       "      <td>0</td>\n",
       "      <td>0</td>\n",
       "      <td>0</td>\n",
       "      <td>0</td>\n",
       "      <td>0</td>\n",
       "      <td>0</td>\n",
       "      <td>0</td>\n",
       "      <td>0</td>\n",
       "      <td>0</td>\n",
       "      <td>41.385200</td>\n",
       "      <td>Fear</td>\n",
       "    </tr>\n",
       "    <tr>\n",
       "      <th>...</th>\n",
       "      <td>...</td>\n",
       "      <td>...</td>\n",
       "      <td>...</td>\n",
       "      <td>...</td>\n",
       "      <td>...</td>\n",
       "      <td>...</td>\n",
       "      <td>...</td>\n",
       "      <td>...</td>\n",
       "      <td>...</td>\n",
       "      <td>...</td>\n",
       "      <td>...</td>\n",
       "      <td>...</td>\n",
       "      <td>...</td>\n",
       "      <td>...</td>\n",
       "      <td>...</td>\n",
       "      <td>...</td>\n",
       "      <td>...</td>\n",
       "      <td>...</td>\n",
       "      <td>...</td>\n",
       "    </tr>\n",
       "    <tr>\n",
       "      <th>430</th>\n",
       "      <td>2023-05-29</td>\n",
       "      <td>27119.066406</td>\n",
       "      <td>91351657572</td>\n",
       "      <td>0</td>\n",
       "      <td>0</td>\n",
       "      <td>0</td>\n",
       "      <td>0</td>\n",
       "      <td>0</td>\n",
       "      <td>0</td>\n",
       "      <td>0</td>\n",
       "      <td>0</td>\n",
       "      <td>0</td>\n",
       "      <td>0</td>\n",
       "      <td>0</td>\n",
       "      <td>0</td>\n",
       "      <td>0</td>\n",
       "      <td>0</td>\n",
       "      <td>50.499777</td>\n",
       "      <td>Neutral</td>\n",
       "    </tr>\n",
       "    <tr>\n",
       "      <th>431</th>\n",
       "      <td>2023-06-05</td>\n",
       "      <td>25940.167969</td>\n",
       "      <td>116498927148</td>\n",
       "      <td>0</td>\n",
       "      <td>0</td>\n",
       "      <td>0</td>\n",
       "      <td>0</td>\n",
       "      <td>0</td>\n",
       "      <td>0</td>\n",
       "      <td>0</td>\n",
       "      <td>0</td>\n",
       "      <td>0</td>\n",
       "      <td>0</td>\n",
       "      <td>0</td>\n",
       "      <td>0</td>\n",
       "      <td>0</td>\n",
       "      <td>0</td>\n",
       "      <td>52.385402</td>\n",
       "      <td>Neutral</td>\n",
       "    </tr>\n",
       "    <tr>\n",
       "      <th>432</th>\n",
       "      <td>2023-06-12</td>\n",
       "      <td>26336.212891</td>\n",
       "      <td>92905085602</td>\n",
       "      <td>0</td>\n",
       "      <td>0</td>\n",
       "      <td>0</td>\n",
       "      <td>0</td>\n",
       "      <td>0</td>\n",
       "      <td>0</td>\n",
       "      <td>0</td>\n",
       "      <td>0</td>\n",
       "      <td>0</td>\n",
       "      <td>0</td>\n",
       "      <td>0</td>\n",
       "      <td>0</td>\n",
       "      <td>0</td>\n",
       "      <td>0</td>\n",
       "      <td>48.928165</td>\n",
       "      <td>Neutral</td>\n",
       "    </tr>\n",
       "    <tr>\n",
       "      <th>433</th>\n",
       "      <td>2023-06-19</td>\n",
       "      <td>30480.261719</td>\n",
       "      <td>138005623534</td>\n",
       "      <td>1</td>\n",
       "      <td>1</td>\n",
       "      <td>1</td>\n",
       "      <td>1</td>\n",
       "      <td>0</td>\n",
       "      <td>0</td>\n",
       "      <td>1</td>\n",
       "      <td>1</td>\n",
       "      <td>1</td>\n",
       "      <td>1</td>\n",
       "      <td>0</td>\n",
       "      <td>0</td>\n",
       "      <td>0</td>\n",
       "      <td>0</td>\n",
       "      <td>46.099552</td>\n",
       "      <td>Neutral</td>\n",
       "    </tr>\n",
       "    <tr>\n",
       "      <th>434</th>\n",
       "      <td>2023-06-26</td>\n",
       "      <td>30620.769531</td>\n",
       "      <td>106681707513</td>\n",
       "      <td>1</td>\n",
       "      <td>1</td>\n",
       "      <td>1</td>\n",
       "      <td>1</td>\n",
       "      <td>1</td>\n",
       "      <td>1</td>\n",
       "      <td>1</td>\n",
       "      <td>1</td>\n",
       "      <td>1</td>\n",
       "      <td>1</td>\n",
       "      <td>1</td>\n",
       "      <td>1</td>\n",
       "      <td>1</td>\n",
       "      <td>0</td>\n",
       "      <td>61.342569</td>\n",
       "      <td>Greed</td>\n",
       "    </tr>\n",
       "  </tbody>\n",
       "</table>\n",
       "<p>278 rows × 19 columns</p>\n",
       "</div>"
      ],
      "text/plain": [
       "          Date     Adj Close        Volume  MA_1_9  MA_1_12  MA_2_9  MA_2_12   \n",
       "154 2018-02-12  10551.799805   53626569728       0        0       0        0  \\\n",
       "155 2018-02-19   9664.730469   55388419584       0        0       0        0   \n",
       "156 2018-02-26  11512.599609   48902649856       1        0       0        0   \n",
       "157 2018-03-05   9578.629883   49671590400       0        0       1        0   \n",
       "158 2018-03-12   8223.679688   42075919360       0        0       0        0   \n",
       "..         ...           ...           ...     ...      ...     ...      ...   \n",
       "430 2023-05-29  27119.066406   91351657572       0        0       0        0   \n",
       "431 2023-06-05  25940.167969  116498927148       0        0       0        0   \n",
       "432 2023-06-12  26336.212891   92905085602       0        0       0        0   \n",
       "433 2023-06-19  30480.261719  138005623534       1        1       1        1   \n",
       "434 2023-06-26  30620.769531  106681707513       1        1       1        1   \n",
       "\n",
       "     MA_3_9  MA_3_12  MOM_9  MOM_12  VOL_1_9  VOL_1_12  VOL_2_9  VOL_2_12   \n",
       "154       0        0      0       0        0         0        0         0  \\\n",
       "155       0        0      0       0        0         0        0         0   \n",
       "156       0        0      0       0        0         0        0         0   \n",
       "157       0        0      0       0        0         0        0         0   \n",
       "158       0        0      0       0        0         0        0         0   \n",
       "..      ...      ...    ...     ...      ...       ...      ...       ...   \n",
       "430       0        0      0       0        0         0        0         0   \n",
       "431       0        0      0       0        0         0        0         0   \n",
       "432       0        0      0       0        0         0        0         0   \n",
       "433       0        0      1       1        1         1        0         0   \n",
       "434       1        1      1       1        1         1        1         1   \n",
       "\n",
       "     VOL_3_9  VOL_3_12  weekly_mean sentiment  \n",
       "154        0         0    33.999736      Fear  \n",
       "155        0         0    63.385416     Greed  \n",
       "156        0         0    44.528131   Neutral  \n",
       "157        0         0    46.570830   Neutral  \n",
       "158        0         0    41.385200      Fear  \n",
       "..       ...       ...          ...       ...  \n",
       "430        0         0    50.499777   Neutral  \n",
       "431        0         0    52.385402   Neutral  \n",
       "432        0         0    48.928165   Neutral  \n",
       "433        0         0    46.099552   Neutral  \n",
       "434        1         0    61.342569     Greed  \n",
       "\n",
       "[278 rows x 19 columns]"
      ]
     },
     "execution_count": 8,
     "metadata": {},
     "output_type": "execute_result"
    }
   ],
   "source": [
    "df = tech.merge(fg, how='left', left_on='Date', right_on='Data')\n",
    "df.dropna(inplace=True)\n",
    "df.drop('PCA_Normalized', axis=1, inplace=True)\n",
    "df"
   ]
  },
  {
   "cell_type": "code",
   "execution_count": 9,
   "metadata": {
    "tags": []
   },
   "outputs": [
    {
     "data": {
      "text/html": [
       "<div>\n",
       "<style scoped>\n",
       "    .dataframe tbody tr th:only-of-type {\n",
       "        vertical-align: middle;\n",
       "    }\n",
       "\n",
       "    .dataframe tbody tr th {\n",
       "        vertical-align: top;\n",
       "    }\n",
       "\n",
       "    .dataframe thead th {\n",
       "        text-align: right;\n",
       "    }\n",
       "</style>\n",
       "<table border=\"1\" class=\"dataframe\">\n",
       "  <thead>\n",
       "    <tr style=\"text-align: right;\">\n",
       "      <th></th>\n",
       "      <th>observation_date</th>\n",
       "      <th>r_free_w</th>\n",
       "    </tr>\n",
       "  </thead>\n",
       "  <tbody>\n",
       "    <tr>\n",
       "      <th>0</th>\n",
       "      <td>2018-11-06</td>\n",
       "      <td>NaN</td>\n",
       "    </tr>\n",
       "    <tr>\n",
       "      <th>1</th>\n",
       "      <td>2018-11-07</td>\n",
       "      <td>NaN</td>\n",
       "    </tr>\n",
       "    <tr>\n",
       "      <th>2</th>\n",
       "      <td>2018-11-08</td>\n",
       "      <td>NaN</td>\n",
       "    </tr>\n",
       "    <tr>\n",
       "      <th>3</th>\n",
       "      <td>2018-11-09</td>\n",
       "      <td>NaN</td>\n",
       "    </tr>\n",
       "    <tr>\n",
       "      <th>4</th>\n",
       "      <td>2018-11-12</td>\n",
       "      <td>NaN</td>\n",
       "    </tr>\n",
       "    <tr>\n",
       "      <th>5</th>\n",
       "      <td>2018-11-13</td>\n",
       "      <td>NaN</td>\n",
       "    </tr>\n",
       "    <tr>\n",
       "      <th>6</th>\n",
       "      <td>2018-11-14</td>\n",
       "      <td>0.000087</td>\n",
       "    </tr>\n",
       "    <tr>\n",
       "      <th>7</th>\n",
       "      <td>2018-11-15</td>\n",
       "      <td>0.000087</td>\n",
       "    </tr>\n",
       "    <tr>\n",
       "      <th>8</th>\n",
       "      <td>2018-11-16</td>\n",
       "      <td>0.000087</td>\n",
       "    </tr>\n",
       "    <tr>\n",
       "      <th>9</th>\n",
       "      <td>2018-11-19</td>\n",
       "      <td>0.000087</td>\n",
       "    </tr>\n",
       "  </tbody>\n",
       "</table>\n",
       "</div>"
      ],
      "text/plain": [
       "  observation_date  r_free_w\n",
       "0       2018-11-06       NaN\n",
       "1       2018-11-07       NaN\n",
       "2       2018-11-08       NaN\n",
       "3       2018-11-09       NaN\n",
       "4       2018-11-12       NaN\n",
       "5       2018-11-13       NaN\n",
       "6       2018-11-14  0.000087\n",
       "7       2018-11-15  0.000087\n",
       "8       2018-11-16  0.000087\n",
       "9       2018-11-19  0.000087"
      ]
     },
     "execution_count": 9,
     "metadata": {},
     "output_type": "execute_result"
    }
   ],
   "source": [
    "rf = pd.read_excel('../../Dados/risk_free_d.xlsx')\n",
    "rf['r_free_day'] = rf['r_free_day'].ffill()\n",
    "rf['r_free_w'] = rf['r_free_day'].rolling(7).mean()\n",
    "rf = rf[['observation_date', 'r_free_w']]\n",
    "rf['observation_date'] = pd.to_datetime(rf['observation_date'])\n",
    "rf.head(10)"
   ]
  },
  {
   "cell_type": "code",
   "execution_count": 10,
   "metadata": {
    "tags": []
   },
   "outputs": [
    {
     "data": {
      "text/html": [
       "<div>\n",
       "<style scoped>\n",
       "    .dataframe tbody tr th:only-of-type {\n",
       "        vertical-align: middle;\n",
       "    }\n",
       "\n",
       "    .dataframe tbody tr th {\n",
       "        vertical-align: top;\n",
       "    }\n",
       "\n",
       "    .dataframe thead th {\n",
       "        text-align: right;\n",
       "    }\n",
       "</style>\n",
       "<table border=\"1\" class=\"dataframe\">\n",
       "  <thead>\n",
       "    <tr style=\"text-align: right;\">\n",
       "      <th></th>\n",
       "      <th>Date</th>\n",
       "      <th>Adj Close</th>\n",
       "      <th>Volume</th>\n",
       "      <th>MA_1_9</th>\n",
       "      <th>MA_1_12</th>\n",
       "      <th>MA_2_9</th>\n",
       "      <th>MA_2_12</th>\n",
       "      <th>MA_3_9</th>\n",
       "      <th>MA_3_12</th>\n",
       "      <th>MOM_9</th>\n",
       "      <th>MOM_12</th>\n",
       "      <th>VOL_1_9</th>\n",
       "      <th>VOL_1_12</th>\n",
       "      <th>VOL_2_9</th>\n",
       "      <th>VOL_2_12</th>\n",
       "      <th>VOL_3_9</th>\n",
       "      <th>VOL_3_12</th>\n",
       "      <th>weekly_mean</th>\n",
       "      <th>Extreme Fear</th>\n",
       "      <th>Extreme Greed</th>\n",
       "      <th>Fear</th>\n",
       "      <th>Greed</th>\n",
       "      <th>Neutral</th>\n",
       "      <th>Any</th>\n",
       "      <th>Returns</th>\n",
       "      <th>r_free_w</th>\n",
       "      <th>risk_premium</th>\n",
       "    </tr>\n",
       "  </thead>\n",
       "  <tbody>\n",
       "    <tr>\n",
       "      <th>39</th>\n",
       "      <td>2018-11-19</td>\n",
       "      <td>4009.969971</td>\n",
       "      <td>42533970000</td>\n",
       "      <td>0</td>\n",
       "      <td>0</td>\n",
       "      <td>0</td>\n",
       "      <td>0</td>\n",
       "      <td>0</td>\n",
       "      <td>0</td>\n",
       "      <td>0</td>\n",
       "      <td>0</td>\n",
       "      <td>0</td>\n",
       "      <td>0</td>\n",
       "      <td>0</td>\n",
       "      <td>0</td>\n",
       "      <td>0</td>\n",
       "      <td>0</td>\n",
       "      <td>32.271121</td>\n",
       "      <td>False</td>\n",
       "      <td>False</td>\n",
       "      <td>True</td>\n",
       "      <td>False</td>\n",
       "      <td>False</td>\n",
       "      <td>True</td>\n",
       "      <td>-0.286931</td>\n",
       "      <td>0.000087</td>\n",
       "      <td>-0.287019</td>\n",
       "    </tr>\n",
       "    <tr>\n",
       "      <th>40</th>\n",
       "      <td>2018-11-26</td>\n",
       "      <td>4139.877930</td>\n",
       "      <td>42945276472</td>\n",
       "      <td>0</td>\n",
       "      <td>0</td>\n",
       "      <td>0</td>\n",
       "      <td>0</td>\n",
       "      <td>0</td>\n",
       "      <td>0</td>\n",
       "      <td>0</td>\n",
       "      <td>0</td>\n",
       "      <td>0</td>\n",
       "      <td>0</td>\n",
       "      <td>0</td>\n",
       "      <td>0</td>\n",
       "      <td>0</td>\n",
       "      <td>0</td>\n",
       "      <td>11.685265</td>\n",
       "      <td>True</td>\n",
       "      <td>False</td>\n",
       "      <td>False</td>\n",
       "      <td>False</td>\n",
       "      <td>False</td>\n",
       "      <td>True</td>\n",
       "      <td>0.032396</td>\n",
       "      <td>0.000088</td>\n",
       "      <td>0.032308</td>\n",
       "    </tr>\n",
       "    <tr>\n",
       "      <th>41</th>\n",
       "      <td>2018-12-03</td>\n",
       "      <td>3614.234375</td>\n",
       "      <td>38386467708</td>\n",
       "      <td>0</td>\n",
       "      <td>0</td>\n",
       "      <td>0</td>\n",
       "      <td>0</td>\n",
       "      <td>0</td>\n",
       "      <td>0</td>\n",
       "      <td>0</td>\n",
       "      <td>0</td>\n",
       "      <td>0</td>\n",
       "      <td>0</td>\n",
       "      <td>0</td>\n",
       "      <td>0</td>\n",
       "      <td>0</td>\n",
       "      <td>0</td>\n",
       "      <td>12.313996</td>\n",
       "      <td>True</td>\n",
       "      <td>False</td>\n",
       "      <td>False</td>\n",
       "      <td>False</td>\n",
       "      <td>False</td>\n",
       "      <td>True</td>\n",
       "      <td>-0.126971</td>\n",
       "      <td>0.000090</td>\n",
       "      <td>-0.127061</td>\n",
       "    </tr>\n",
       "    <tr>\n",
       "      <th>42</th>\n",
       "      <td>2018-12-10</td>\n",
       "      <td>3252.839111</td>\n",
       "      <td>29869247431</td>\n",
       "      <td>0</td>\n",
       "      <td>0</td>\n",
       "      <td>0</td>\n",
       "      <td>0</td>\n",
       "      <td>0</td>\n",
       "      <td>0</td>\n",
       "      <td>0</td>\n",
       "      <td>0</td>\n",
       "      <td>0</td>\n",
       "      <td>0</td>\n",
       "      <td>0</td>\n",
       "      <td>0</td>\n",
       "      <td>0</td>\n",
       "      <td>0</td>\n",
       "      <td>11.056732</td>\n",
       "      <td>True</td>\n",
       "      <td>False</td>\n",
       "      <td>False</td>\n",
       "      <td>False</td>\n",
       "      <td>False</td>\n",
       "      <td>True</td>\n",
       "      <td>-0.099992</td>\n",
       "      <td>0.000092</td>\n",
       "      <td>-0.100084</td>\n",
       "    </tr>\n",
       "    <tr>\n",
       "      <th>43</th>\n",
       "      <td>2018-12-17</td>\n",
       "      <td>3998.980225</td>\n",
       "      <td>46021506218</td>\n",
       "      <td>0</td>\n",
       "      <td>0</td>\n",
       "      <td>0</td>\n",
       "      <td>0</td>\n",
       "      <td>0</td>\n",
       "      <td>0</td>\n",
       "      <td>0</td>\n",
       "      <td>0</td>\n",
       "      <td>0</td>\n",
       "      <td>0</td>\n",
       "      <td>0</td>\n",
       "      <td>0</td>\n",
       "      <td>0</td>\n",
       "      <td>0</td>\n",
       "      <td>10.270987</td>\n",
       "      <td>True</td>\n",
       "      <td>False</td>\n",
       "      <td>False</td>\n",
       "      <td>False</td>\n",
       "      <td>False</td>\n",
       "      <td>True</td>\n",
       "      <td>0.229381</td>\n",
       "      <td>0.000091</td>\n",
       "      <td>0.229290</td>\n",
       "    </tr>\n",
       "    <tr>\n",
       "      <th>44</th>\n",
       "      <td>2018-12-24</td>\n",
       "      <td>3865.952637</td>\n",
       "      <td>39249734918</td>\n",
       "      <td>0</td>\n",
       "      <td>0</td>\n",
       "      <td>0</td>\n",
       "      <td>0</td>\n",
       "      <td>0</td>\n",
       "      <td>0</td>\n",
       "      <td>0</td>\n",
       "      <td>0</td>\n",
       "      <td>0</td>\n",
       "      <td>0</td>\n",
       "      <td>0</td>\n",
       "      <td>0</td>\n",
       "      <td>0</td>\n",
       "      <td>0</td>\n",
       "      <td>25.356855</td>\n",
       "      <td>False</td>\n",
       "      <td>False</td>\n",
       "      <td>True</td>\n",
       "      <td>False</td>\n",
       "      <td>False</td>\n",
       "      <td>True</td>\n",
       "      <td>-0.033265</td>\n",
       "      <td>0.000093</td>\n",
       "      <td>-0.033359</td>\n",
       "    </tr>\n",
       "    <tr>\n",
       "      <th>45</th>\n",
       "      <td>2018-12-31</td>\n",
       "      <td>4076.632568</td>\n",
       "      <td>34343716582</td>\n",
       "      <td>0</td>\n",
       "      <td>0</td>\n",
       "      <td>0</td>\n",
       "      <td>0</td>\n",
       "      <td>0</td>\n",
       "      <td>0</td>\n",
       "      <td>0</td>\n",
       "      <td>0</td>\n",
       "      <td>0</td>\n",
       "      <td>0</td>\n",
       "      <td>0</td>\n",
       "      <td>0</td>\n",
       "      <td>0</td>\n",
       "      <td>0</td>\n",
       "      <td>24.099564</td>\n",
       "      <td>False</td>\n",
       "      <td>False</td>\n",
       "      <td>True</td>\n",
       "      <td>False</td>\n",
       "      <td>False</td>\n",
       "      <td>True</td>\n",
       "      <td>0.054496</td>\n",
       "      <td>0.000095</td>\n",
       "      <td>0.054401</td>\n",
       "    </tr>\n",
       "    <tr>\n",
       "      <th>46</th>\n",
       "      <td>2019-01-07</td>\n",
       "      <td>3552.953125</td>\n",
       "      <td>37523454177</td>\n",
       "      <td>0</td>\n",
       "      <td>0</td>\n",
       "      <td>0</td>\n",
       "      <td>0</td>\n",
       "      <td>0</td>\n",
       "      <td>0</td>\n",
       "      <td>0</td>\n",
       "      <td>0</td>\n",
       "      <td>0</td>\n",
       "      <td>0</td>\n",
       "      <td>0</td>\n",
       "      <td>0</td>\n",
       "      <td>0</td>\n",
       "      <td>0</td>\n",
       "      <td>33.371148</td>\n",
       "      <td>False</td>\n",
       "      <td>False</td>\n",
       "      <td>True</td>\n",
       "      <td>False</td>\n",
       "      <td>False</td>\n",
       "      <td>True</td>\n",
       "      <td>-0.128459</td>\n",
       "      <td>0.000095</td>\n",
       "      <td>-0.128554</td>\n",
       "    </tr>\n",
       "    <tr>\n",
       "      <th>47</th>\n",
       "      <td>2019-01-14</td>\n",
       "      <td>3601.013672</td>\n",
       "      <td>38588596987</td>\n",
       "      <td>0</td>\n",
       "      <td>0</td>\n",
       "      <td>0</td>\n",
       "      <td>0</td>\n",
       "      <td>0</td>\n",
       "      <td>0</td>\n",
       "      <td>0</td>\n",
       "      <td>0</td>\n",
       "      <td>1</td>\n",
       "      <td>0</td>\n",
       "      <td>0</td>\n",
       "      <td>0</td>\n",
       "      <td>0</td>\n",
       "      <td>0</td>\n",
       "      <td>26.299654</td>\n",
       "      <td>False</td>\n",
       "      <td>False</td>\n",
       "      <td>True</td>\n",
       "      <td>False</td>\n",
       "      <td>False</td>\n",
       "      <td>True</td>\n",
       "      <td>0.013527</td>\n",
       "      <td>0.000095</td>\n",
       "      <td>0.013432</td>\n",
       "    </tr>\n",
       "    <tr>\n",
       "      <th>48</th>\n",
       "      <td>2019-01-21</td>\n",
       "      <td>3583.965820</td>\n",
       "      <td>36949379050</td>\n",
       "      <td>0</td>\n",
       "      <td>0</td>\n",
       "      <td>0</td>\n",
       "      <td>0</td>\n",
       "      <td>0</td>\n",
       "      <td>0</td>\n",
       "      <td>0</td>\n",
       "      <td>0</td>\n",
       "      <td>0</td>\n",
       "      <td>0</td>\n",
       "      <td>0</td>\n",
       "      <td>0</td>\n",
       "      <td>0</td>\n",
       "      <td>0</td>\n",
       "      <td>27.556807</td>\n",
       "      <td>False</td>\n",
       "      <td>False</td>\n",
       "      <td>True</td>\n",
       "      <td>False</td>\n",
       "      <td>False</td>\n",
       "      <td>True</td>\n",
       "      <td>-0.004734</td>\n",
       "      <td>0.000094</td>\n",
       "      <td>-0.004829</td>\n",
       "    </tr>\n",
       "  </tbody>\n",
       "</table>\n",
       "</div>"
      ],
      "text/plain": [
       "         Date    Adj Close       Volume  MA_1_9  MA_1_12  MA_2_9  MA_2_12   \n",
       "39 2018-11-19  4009.969971  42533970000       0        0       0        0  \\\n",
       "40 2018-11-26  4139.877930  42945276472       0        0       0        0   \n",
       "41 2018-12-03  3614.234375  38386467708       0        0       0        0   \n",
       "42 2018-12-10  3252.839111  29869247431       0        0       0        0   \n",
       "43 2018-12-17  3998.980225  46021506218       0        0       0        0   \n",
       "44 2018-12-24  3865.952637  39249734918       0        0       0        0   \n",
       "45 2018-12-31  4076.632568  34343716582       0        0       0        0   \n",
       "46 2019-01-07  3552.953125  37523454177       0        0       0        0   \n",
       "47 2019-01-14  3601.013672  38588596987       0        0       0        0   \n",
       "48 2019-01-21  3583.965820  36949379050       0        0       0        0   \n",
       "\n",
       "    MA_3_9  MA_3_12  MOM_9  MOM_12  VOL_1_9  VOL_1_12  VOL_2_9  VOL_2_12   \n",
       "39       0        0      0       0        0         0        0         0  \\\n",
       "40       0        0      0       0        0         0        0         0   \n",
       "41       0        0      0       0        0         0        0         0   \n",
       "42       0        0      0       0        0         0        0         0   \n",
       "43       0        0      0       0        0         0        0         0   \n",
       "44       0        0      0       0        0         0        0         0   \n",
       "45       0        0      0       0        0         0        0         0   \n",
       "46       0        0      0       0        0         0        0         0   \n",
       "47       0        0      0       0        1         0        0         0   \n",
       "48       0        0      0       0        0         0        0         0   \n",
       "\n",
       "    VOL_3_9  VOL_3_12  weekly_mean  Extreme Fear  Extreme Greed   Fear  Greed   \n",
       "39        0         0    32.271121         False          False   True  False  \\\n",
       "40        0         0    11.685265          True          False  False  False   \n",
       "41        0         0    12.313996          True          False  False  False   \n",
       "42        0         0    11.056732          True          False  False  False   \n",
       "43        0         0    10.270987          True          False  False  False   \n",
       "44        0         0    25.356855         False          False   True  False   \n",
       "45        0         0    24.099564         False          False   True  False   \n",
       "46        0         0    33.371148         False          False   True  False   \n",
       "47        0         0    26.299654         False          False   True  False   \n",
       "48        0         0    27.556807         False          False   True  False   \n",
       "\n",
       "    Neutral   Any   Returns  r_free_w  risk_premium  \n",
       "39    False  True -0.286931  0.000087     -0.287019  \n",
       "40    False  True  0.032396  0.000088      0.032308  \n",
       "41    False  True -0.126971  0.000090     -0.127061  \n",
       "42    False  True -0.099992  0.000092     -0.100084  \n",
       "43    False  True  0.229381  0.000091      0.229290  \n",
       "44    False  True -0.033265  0.000093     -0.033359  \n",
       "45    False  True  0.054496  0.000095      0.054401  \n",
       "46    False  True -0.128459  0.000095     -0.128554  \n",
       "47    False  True  0.013527  0.000095      0.013432  \n",
       "48    False  True -0.004734  0.000094     -0.004829  "
      ]
     },
     "execution_count": 10,
     "metadata": {},
     "output_type": "execute_result"
    }
   ],
   "source": [
    "dummies = pd.get_dummies(df['sentiment'])\n",
    "df = pd.concat([df.drop('sentiment', axis=1), dummies], axis=1)\n",
    "df['Any'] = [True]*len(df)\n",
    "df['Returns'] = df['Adj Close'].pct_change()\n",
    "df = df.merge(rf, how='left', left_on='Date', right_on='observation_date').dropna()\n",
    "df.drop('observation_date', axis=1, inplace=True)\n",
    "df['risk_premium'] = df['Returns'] - df['r_free_w']\n",
    "df.head(10)"
   ]
  },
  {
   "cell_type": "code",
   "execution_count": 11,
   "metadata": {
    "tags": []
   },
   "outputs": [
    {
     "name": "stdout",
     "output_type": "stream",
     "text": [
      "Out-of-Sample R² for technical indicator MA_1_9 - Extreme Fear: 0.01527558467446788\n",
      "Out-of-Sample R² for technical indicator MA_1_9 - Extreme Greed: 0.021713576955717517\n",
      "Out-of-Sample R² for technical indicator MA_1_9 - Fear: 0.02959974777627039\n",
      "Out-of-Sample R² for technical indicator MA_1_9 - Greed: 0.0023880331432962754\n",
      "Out-of-Sample R² for technical indicator MA_1_9 - Neutral: 0.006230500879124912\n",
      "Out-of-Sample R² for technical indicator MA_1_9 - Any: 0.018715961292381622\n",
      "Out-of-Sample R² for technical indicator MA_1_12 - Extreme Fear: -0.030191566502423495\n",
      "Out-of-Sample R² for technical indicator MA_1_12 - Extreme Greed: 0.018114223354213643\n",
      "Out-of-Sample R² for technical indicator MA_1_12 - Fear: 0.026997556568491787\n",
      "Out-of-Sample R² for technical indicator MA_1_12 - Greed: 0.005873355036004835\n",
      "Out-of-Sample R² for technical indicator MA_1_12 - Neutral: 0.012831441473882488\n",
      "Out-of-Sample R² for technical indicator MA_1_12 - Any: 0.010001407182678501\n",
      "Out-of-Sample R² for technical indicator MA_2_9 - Extreme Fear: -0.002302221450501296\n",
      "Out-of-Sample R² for technical indicator MA_2_9 - Extreme Greed: 0.017426017071541455\n",
      "Out-of-Sample R² for technical indicator MA_2_9 - Fear: 0.010526729655406575\n",
      "Out-of-Sample R² for technical indicator MA_2_9 - Greed: 0.003352082519986199\n",
      "Out-of-Sample R² for technical indicator MA_2_9 - Neutral: 0.01044165349582038\n",
      "Out-of-Sample R² for technical indicator MA_2_9 - Any: 0.008623283984423136\n",
      "Out-of-Sample R² for technical indicator MA_2_12 - Extreme Fear: -0.01760960790970323\n",
      "Out-of-Sample R² for technical indicator MA_2_12 - Extreme Greed: 0.01679725834465473\n",
      "Out-of-Sample R² for technical indicator MA_2_12 - Fear: 0.0199787573814596\n",
      "Out-of-Sample R² for technical indicator MA_2_12 - Greed: 0.003568837643563527\n",
      "Out-of-Sample R² for technical indicator MA_2_12 - Neutral: 0.00442172092395543\n",
      "Out-of-Sample R² for technical indicator MA_2_12 - Any: 0.00830409021493117\n",
      "Out-of-Sample R² for technical indicator MA_3_9 - Extreme Fear: -0.007476836549235033\n",
      "Out-of-Sample R² for technical indicator MA_3_9 - Extreme Greed: 0.01817430725203706\n",
      "Out-of-Sample R² for technical indicator MA_3_9 - Fear: 0.0010474184689037713\n",
      "Out-of-Sample R² for technical indicator MA_3_9 - Greed: 0.030745078710679663\n",
      "Out-of-Sample R² for technical indicator MA_3_9 - Neutral: 0.024402236366321106\n",
      "Out-of-Sample R² for technical indicator MA_3_9 - Any: 0.010101874285691537\n",
      "Out-of-Sample R² for technical indicator MA_3_12 - Extreme Fear: -0.01507359196120639\n",
      "Out-of-Sample R² for technical indicator MA_3_12 - Extreme Greed: 0.016068287263638736\n",
      "Out-of-Sample R² for technical indicator MA_3_12 - Fear: 0.001234937933293434\n",
      "Out-of-Sample R² for technical indicator MA_3_12 - Greed: 0.027326329843648356\n",
      "Out-of-Sample R² for technical indicator MA_3_12 - Neutral: 0.017909249418199824\n",
      "Out-of-Sample R² for technical indicator MA_3_12 - Any: 0.007097607358768077\n",
      "Out-of-Sample R² for technical indicator MOM_9 - Extreme Fear: -0.0761771797300983\n",
      "Out-of-Sample R² for technical indicator MOM_9 - Extreme Greed: 0.039097001942816734\n",
      "Out-of-Sample R² for technical indicator MOM_9 - Fear: 0.05584448956539845\n",
      "Out-of-Sample R² for technical indicator MOM_9 - Greed: 0.017248913786049425\n",
      "Out-of-Sample R² for technical indicator MOM_9 - Neutral: 0.04211352719758321\n",
      "Out-of-Sample R² for technical indicator MOM_9 - Any: 0.021037826418449646\n",
      "Out-of-Sample R² for technical indicator MOM_12 - Extreme Fear: -0.021417038805251032\n",
      "Out-of-Sample R² for technical indicator MOM_12 - Extreme Greed: 0.012365651649622555\n",
      "Out-of-Sample R² for technical indicator MOM_12 - Fear: 0.01359441354964186\n",
      "Out-of-Sample R² for technical indicator MOM_12 - Greed: 0.005593495458384501\n",
      "Out-of-Sample R² for technical indicator MOM_12 - Neutral: -0.0026219982951707355\n",
      "Out-of-Sample R² for technical indicator MOM_12 - Any: 0.003945619605102424\n",
      "Out-of-Sample R² for technical indicator VOL_1_9 - Extreme Fear: -0.0062372041273621726\n",
      "Out-of-Sample R² for technical indicator VOL_1_9 - Extreme Greed: 0.036653277513614024\n",
      "Out-of-Sample R² for technical indicator VOL_1_9 - Fear: 0.011317602637882396\n",
      "Out-of-Sample R² for technical indicator VOL_1_9 - Greed: 0.00360986230492788\n",
      "Out-of-Sample R² for technical indicator VOL_1_9 - Neutral: 0.056973291254930336\n",
      "Out-of-Sample R² for technical indicator VOL_1_9 - Any: 0.01763253464051917\n",
      "Out-of-Sample R² for technical indicator VOL_1_12 - Extreme Fear: -0.01709986509276562\n",
      "Out-of-Sample R² for technical indicator VOL_1_12 - Extreme Greed: 0.017060024335035617\n",
      "Out-of-Sample R² for technical indicator VOL_1_12 - Fear: 0.013019263067501896\n",
      "Out-of-Sample R² for technical indicator VOL_1_12 - Greed: 0.00018469902728723842\n",
      "Out-of-Sample R² for technical indicator VOL_1_12 - Neutral: 0.03716713071693423\n",
      "Out-of-Sample R² for technical indicator VOL_1_12 - Any: 0.009286978977534499\n",
      "Out-of-Sample R² for technical indicator VOL_2_9 - Extreme Fear: -0.003071061472639025\n",
      "Out-of-Sample R² for technical indicator VOL_2_9 - Extreme Greed: 0.005926984134660862\n",
      "Out-of-Sample R² for technical indicator VOL_2_9 - Fear: -0.0014253347035491082\n",
      "Out-of-Sample R² for technical indicator VOL_2_9 - Greed: 0.003100079791551913\n",
      "Out-of-Sample R² for technical indicator VOL_2_9 - Neutral: 0.0010435491672134978\n",
      "Out-of-Sample R² for technical indicator VOL_2_9 - Any: 0.0007851082008647481\n",
      "Out-of-Sample R² for technical indicator VOL_2_12 - Extreme Fear: -0.007290979979661438\n",
      "Out-of-Sample R² for technical indicator VOL_2_12 - Extreme Greed: 0.010932393713444566\n",
      "Out-of-Sample R² for technical indicator VOL_2_12 - Fear: -0.00021341421085030454\n",
      "Out-of-Sample R² for technical indicator VOL_2_12 - Greed: 0.002928246896235276\n",
      "Out-of-Sample R² for technical indicator VOL_2_12 - Neutral: 0.013845492053284891\n",
      "Out-of-Sample R² for technical indicator VOL_2_12 - Any: 0.0029384301586810047\n",
      "Out-of-Sample R² for technical indicator VOL_3_9 - Extreme Fear: 0.0004775893718059754\n",
      "Out-of-Sample R² for technical indicator VOL_3_9 - Extreme Greed: 0.008980571585008201\n",
      "Out-of-Sample R² for technical indicator VOL_3_9 - Fear: -0.00209355165887648\n",
      "Out-of-Sample R² for technical indicator VOL_3_9 - Greed: 0.007238231036317266\n",
      "Out-of-Sample R² for technical indicator VOL_3_9 - Neutral: -0.008495432261666824\n",
      "Out-of-Sample R² for technical indicator VOL_3_9 - Any: 0.0013690981878704545\n",
      "Out-of-Sample R² for technical indicator VOL_3_12 - Extreme Fear: 0.002446397420033275\n",
      "Out-of-Sample R² for technical indicator VOL_3_12 - Extreme Greed: 0.012386018250340802\n",
      "Out-of-Sample R² for technical indicator VOL_3_12 - Fear: 0.009359324129771807\n",
      "Out-of-Sample R² for technical indicator VOL_3_12 - Greed: 0.01139650420845606\n",
      "Out-of-Sample R² for technical indicator VOL_3_12 - Neutral: -0.011644842942904576\n",
      "Out-of-Sample R² for technical indicator VOL_3_12 - Any: 0.0066529959990014875\n"
     ]
    }
   ],
   "source": [
    "r2 = {}\n",
    "\n",
    "for i in range(3, 17):\n",
    "    y = df['risk_premium'][1:df.shape[0]].values\n",
    "    x = df.iloc[0:df.shape[0]-1, i].values\n",
    "    x = sm.add_constant(x)  \n",
    "    model = sm.OLS(y, x).fit()\n",
    "    e = model.resid\n",
    "    Ic = []\n",
    "    for j in range(18, 24):\n",
    "        r_squared = 1 - (np.sum(df.iloc[1:df.shape[0], j] * e**2) / np.sum(df.iloc[1:df.shape[0], j] * ((y - np.mean(y))**2)))\n",
    "        print(f\"Out-of-Sample R² for technical indicator {df.columns[i]} - {df.columns[j]}: {r_squared}\")\n",
    "\n",
    "        Ic.append(r_squared)\n",
    "    r2[df.columns[i]] = Ic"
   ]
  },
  {
   "cell_type": "code",
   "execution_count": 12,
   "metadata": {
    "tags": []
   },
   "outputs": [
    {
     "data": {
      "text/html": [
       "<div>\n",
       "<style scoped>\n",
       "    .dataframe tbody tr th:only-of-type {\n",
       "        vertical-align: middle;\n",
       "    }\n",
       "\n",
       "    .dataframe tbody tr th {\n",
       "        vertical-align: top;\n",
       "    }\n",
       "\n",
       "    .dataframe thead th {\n",
       "        text-align: right;\n",
       "    }\n",
       "</style>\n",
       "<table border=\"1\" class=\"dataframe\">\n",
       "  <thead>\n",
       "    <tr style=\"text-align: right;\">\n",
       "      <th></th>\n",
       "      <th>Extreme Fear</th>\n",
       "      <th>Extreme Greed</th>\n",
       "      <th>Fear</th>\n",
       "      <th>Greed</th>\n",
       "      <th>Neutral</th>\n",
       "      <th>Any</th>\n",
       "    </tr>\n",
       "  </thead>\n",
       "  <tbody>\n",
       "    <tr>\n",
       "      <th>MA_1_9</th>\n",
       "      <td>0.015276</td>\n",
       "      <td>0.021714</td>\n",
       "      <td>0.029600</td>\n",
       "      <td>0.002388</td>\n",
       "      <td>0.006231</td>\n",
       "      <td>0.018716</td>\n",
       "    </tr>\n",
       "    <tr>\n",
       "      <th>MA_1_12</th>\n",
       "      <td>-0.030192</td>\n",
       "      <td>0.018114</td>\n",
       "      <td>0.026998</td>\n",
       "      <td>0.005873</td>\n",
       "      <td>0.012831</td>\n",
       "      <td>0.010001</td>\n",
       "    </tr>\n",
       "    <tr>\n",
       "      <th>MA_2_9</th>\n",
       "      <td>-0.002302</td>\n",
       "      <td>0.017426</td>\n",
       "      <td>0.010527</td>\n",
       "      <td>0.003352</td>\n",
       "      <td>0.010442</td>\n",
       "      <td>0.008623</td>\n",
       "    </tr>\n",
       "    <tr>\n",
       "      <th>MA_2_12</th>\n",
       "      <td>-0.017610</td>\n",
       "      <td>0.016797</td>\n",
       "      <td>0.019979</td>\n",
       "      <td>0.003569</td>\n",
       "      <td>0.004422</td>\n",
       "      <td>0.008304</td>\n",
       "    </tr>\n",
       "    <tr>\n",
       "      <th>MA_3_9</th>\n",
       "      <td>-0.007477</td>\n",
       "      <td>0.018174</td>\n",
       "      <td>0.001047</td>\n",
       "      <td>0.030745</td>\n",
       "      <td>0.024402</td>\n",
       "      <td>0.010102</td>\n",
       "    </tr>\n",
       "    <tr>\n",
       "      <th>MA_3_12</th>\n",
       "      <td>-0.015074</td>\n",
       "      <td>0.016068</td>\n",
       "      <td>0.001235</td>\n",
       "      <td>0.027326</td>\n",
       "      <td>0.017909</td>\n",
       "      <td>0.007098</td>\n",
       "    </tr>\n",
       "    <tr>\n",
       "      <th>MOM_9</th>\n",
       "      <td>-0.076177</td>\n",
       "      <td>0.039097</td>\n",
       "      <td>0.055844</td>\n",
       "      <td>0.017249</td>\n",
       "      <td>0.042114</td>\n",
       "      <td>0.021038</td>\n",
       "    </tr>\n",
       "    <tr>\n",
       "      <th>MOM_12</th>\n",
       "      <td>-0.021417</td>\n",
       "      <td>0.012366</td>\n",
       "      <td>0.013594</td>\n",
       "      <td>0.005593</td>\n",
       "      <td>-0.002622</td>\n",
       "      <td>0.003946</td>\n",
       "    </tr>\n",
       "    <tr>\n",
       "      <th>VOL_1_9</th>\n",
       "      <td>-0.006237</td>\n",
       "      <td>0.036653</td>\n",
       "      <td>0.011318</td>\n",
       "      <td>0.003610</td>\n",
       "      <td>0.056973</td>\n",
       "      <td>0.017633</td>\n",
       "    </tr>\n",
       "    <tr>\n",
       "      <th>VOL_1_12</th>\n",
       "      <td>-0.017100</td>\n",
       "      <td>0.017060</td>\n",
       "      <td>0.013019</td>\n",
       "      <td>0.000185</td>\n",
       "      <td>0.037167</td>\n",
       "      <td>0.009287</td>\n",
       "    </tr>\n",
       "    <tr>\n",
       "      <th>VOL_2_9</th>\n",
       "      <td>-0.003071</td>\n",
       "      <td>0.005927</td>\n",
       "      <td>-0.001425</td>\n",
       "      <td>0.003100</td>\n",
       "      <td>0.001044</td>\n",
       "      <td>0.000785</td>\n",
       "    </tr>\n",
       "    <tr>\n",
       "      <th>VOL_2_12</th>\n",
       "      <td>-0.007291</td>\n",
       "      <td>0.010932</td>\n",
       "      <td>-0.000213</td>\n",
       "      <td>0.002928</td>\n",
       "      <td>0.013845</td>\n",
       "      <td>0.002938</td>\n",
       "    </tr>\n",
       "    <tr>\n",
       "      <th>VOL_3_9</th>\n",
       "      <td>0.000478</td>\n",
       "      <td>0.008981</td>\n",
       "      <td>-0.002094</td>\n",
       "      <td>0.007238</td>\n",
       "      <td>-0.008495</td>\n",
       "      <td>0.001369</td>\n",
       "    </tr>\n",
       "    <tr>\n",
       "      <th>VOL_3_12</th>\n",
       "      <td>0.002446</td>\n",
       "      <td>0.012386</td>\n",
       "      <td>0.009359</td>\n",
       "      <td>0.011397</td>\n",
       "      <td>-0.011645</td>\n",
       "      <td>0.006653</td>\n",
       "    </tr>\n",
       "  </tbody>\n",
       "</table>\n",
       "</div>"
      ],
      "text/plain": [
       "          Extreme Fear  Extreme Greed      Fear     Greed   Neutral       Any\n",
       "MA_1_9        0.015276       0.021714  0.029600  0.002388  0.006231  0.018716\n",
       "MA_1_12      -0.030192       0.018114  0.026998  0.005873  0.012831  0.010001\n",
       "MA_2_9       -0.002302       0.017426  0.010527  0.003352  0.010442  0.008623\n",
       "MA_2_12      -0.017610       0.016797  0.019979  0.003569  0.004422  0.008304\n",
       "MA_3_9       -0.007477       0.018174  0.001047  0.030745  0.024402  0.010102\n",
       "MA_3_12      -0.015074       0.016068  0.001235  0.027326  0.017909  0.007098\n",
       "MOM_9        -0.076177       0.039097  0.055844  0.017249  0.042114  0.021038\n",
       "MOM_12       -0.021417       0.012366  0.013594  0.005593 -0.002622  0.003946\n",
       "VOL_1_9      -0.006237       0.036653  0.011318  0.003610  0.056973  0.017633\n",
       "VOL_1_12     -0.017100       0.017060  0.013019  0.000185  0.037167  0.009287\n",
       "VOL_2_9      -0.003071       0.005927 -0.001425  0.003100  0.001044  0.000785\n",
       "VOL_2_12     -0.007291       0.010932 -0.000213  0.002928  0.013845  0.002938\n",
       "VOL_3_9       0.000478       0.008981 -0.002094  0.007238 -0.008495  0.001369\n",
       "VOL_3_12      0.002446       0.012386  0.009359  0.011397 -0.011645  0.006653"
      ]
     },
     "execution_count": 12,
     "metadata": {},
     "output_type": "execute_result"
    }
   ],
   "source": [
    "r2_df = pd.DataFrame(r2)\n",
    "r2_df = r2_df.T \n",
    "r2_df.columns = ['Extreme Fear', 'Extreme Greed', 'Fear', 'Greed', 'Neutral', 'Any']\n",
    "r2_df"
   ]
  },
  {
   "cell_type": "code",
   "execution_count": 13,
   "metadata": {},
   "outputs": [],
   "source": [
    "import plotly.express as px"
   ]
  },
  {
   "cell_type": "code",
   "execution_count": 14,
   "metadata": {},
   "outputs": [
    {
     "data": {
      "application/vnd.plotly.v1+json": {
       "config": {
        "plotlyServerURL": "https://plot.ly"
       },
       "data": [
        {
         "alignmentgroup": "True",
         "hovertemplate": "=%{x}<br>R² (%)=%{y}<extra></extra>",
         "legendgroup": "Extreme Fear",
         "marker": {
          "color": "#B82E2E",
          "pattern": {
           "shape": ""
          }
         },
         "name": "Extreme Fear",
         "offsetgroup": "Extreme Fear",
         "orientation": "v",
         "showlegend": true,
         "textposition": "auto",
         "type": "bar",
         "x": [
          "MA(1,9)",
          "MA(1,12)",
          "MA(2,9)",
          "MA(2,12)",
          "MA(3,9)",
          "MA(3,12)",
          "MOM(9)",
          "MOM(12)",
          "VOL(1,9)",
          "VOL(1,12)",
          "VOL(2,9)",
          "VOL(2,12)",
          "VOL(3,9)",
          "VOL(3,12)"
         ],
         "xaxis": "x",
         "y": [
          1.527558467446788,
          -3.0191566502423495,
          -0.2302221450501296,
          -1.7609607909703229,
          -0.7476836549235033,
          -1.507359196120639,
          -7.61771797300983,
          -2.141703880525103,
          -0.6237204127362173,
          -1.709986509276562,
          -0.3071061472639025,
          -0.7290979979661438,
          0.04775893718059754,
          0.2446397420033275
         ],
         "yaxis": "y"
        },
        {
         "alignmentgroup": "True",
         "hovertemplate": "=%{x}<br>R² (%)=%{y}<extra></extra>",
         "legendgroup": "Fear",
         "marker": {
          "color": "rgb(255,127,0)",
          "pattern": {
           "shape": ""
          }
         },
         "name": "Fear",
         "offsetgroup": "Fear",
         "orientation": "v",
         "showlegend": true,
         "textposition": "auto",
         "type": "bar",
         "x": [
          "MA(1,9)",
          "MA(1,12)",
          "MA(2,9)",
          "MA(2,12)",
          "MA(3,9)",
          "MA(3,12)",
          "MOM(9)",
          "MOM(12)",
          "VOL(1,9)",
          "VOL(1,12)",
          "VOL(2,9)",
          "VOL(2,12)",
          "VOL(3,9)",
          "VOL(3,12)"
         ],
         "xaxis": "x",
         "y": [
          2.959974777627039,
          2.6997556568491787,
          1.0526729655406575,
          1.99787573814596,
          0.10474184689037713,
          0.1234937933293434,
          5.584448956539845,
          1.359441354964186,
          1.1317602637882396,
          1.3019263067501896,
          -0.14253347035491082,
          -0.021341421085030454,
          -0.20935516588764802,
          0.9359324129771807
         ],
         "yaxis": "y"
        },
        {
         "alignmentgroup": "True",
         "hovertemplate": "=%{x}<br>R² (%)=%{y}<extra></extra>",
         "legendgroup": "Neutral",
         "marker": {
          "color": "#FECB52",
          "pattern": {
           "shape": ""
          }
         },
         "name": "Neutral",
         "offsetgroup": "Neutral",
         "orientation": "v",
         "showlegend": true,
         "textposition": "auto",
         "type": "bar",
         "x": [
          "MA(1,9)",
          "MA(1,12)",
          "MA(2,9)",
          "MA(2,12)",
          "MA(3,9)",
          "MA(3,12)",
          "MOM(9)",
          "MOM(12)",
          "VOL(1,9)",
          "VOL(1,12)",
          "VOL(2,9)",
          "VOL(2,12)",
          "VOL(3,9)",
          "VOL(3,12)"
         ],
         "xaxis": "x",
         "y": [
          0.6230500879124912,
          1.2831441473882488,
          1.044165349582038,
          0.442172092395543,
          2.4402236366321106,
          1.7909249418199824,
          4.211352719758321,
          -0.26219982951707355,
          5.697329125493034,
          3.7167130716934227,
          0.10435491672134978,
          1.3845492053284891,
          -0.8495432261666824,
          -1.1644842942904576
         ],
         "yaxis": "y"
        },
        {
         "alignmentgroup": "True",
         "hovertemplate": "=%{x}<br>R² (%)=%{y}<extra></extra>",
         "legendgroup": "Greed",
         "marker": {
          "color": "#66AA00",
          "pattern": {
           "shape": ""
          }
         },
         "name": "Greed",
         "offsetgroup": "Greed",
         "orientation": "v",
         "showlegend": true,
         "textposition": "auto",
         "type": "bar",
         "x": [
          "MA(1,9)",
          "MA(1,12)",
          "MA(2,9)",
          "MA(2,12)",
          "MA(3,9)",
          "MA(3,12)",
          "MOM(9)",
          "MOM(12)",
          "VOL(1,9)",
          "VOL(1,12)",
          "VOL(2,9)",
          "VOL(2,12)",
          "VOL(3,9)",
          "VOL(3,12)"
         ],
         "xaxis": "x",
         "y": [
          0.23880331432962754,
          0.5873355036004835,
          0.3352082519986199,
          0.3568837643563527,
          3.0745078710679663,
          2.7326329843648356,
          1.7248913786049425,
          0.5593495458384501,
          0.360986230492788,
          0.01846990272872384,
          0.3100079791551913,
          0.2928246896235276,
          0.7238231036317266,
          1.139650420845606
         ],
         "yaxis": "y"
        },
        {
         "alignmentgroup": "True",
         "hovertemplate": "=%{x}<br>R² (%)=%{y}<extra></extra>",
         "legendgroup": "Extreme Greed",
         "marker": {
          "color": "rgb(17, 119, 51)",
          "pattern": {
           "shape": ""
          }
         },
         "name": "Extreme Greed",
         "offsetgroup": "Extreme Greed",
         "orientation": "v",
         "showlegend": true,
         "textposition": "auto",
         "type": "bar",
         "x": [
          "MA(1,9)",
          "MA(1,12)",
          "MA(2,9)",
          "MA(2,12)",
          "MA(3,9)",
          "MA(3,12)",
          "MOM(9)",
          "MOM(12)",
          "VOL(1,9)",
          "VOL(1,12)",
          "VOL(2,9)",
          "VOL(2,12)",
          "VOL(3,9)",
          "VOL(3,12)"
         ],
         "xaxis": "x",
         "y": [
          2.1713576955717517,
          1.8114223354213643,
          1.7426017071541455,
          1.679725834465473,
          1.8174307252037059,
          1.6068287263638736,
          3.9097001942816734,
          1.2365651649622555,
          3.6653277513614024,
          1.7060024335035617,
          0.5926984134660862,
          1.0932393713444566,
          0.8980571585008201,
          1.2386018250340802
         ],
         "yaxis": "y"
        }
       ],
       "layout": {
        "bargap": 0.4,
        "bargroupgap": 0,
        "barmode": "group",
        "height": 400,
        "legend": {
         "title": {
          "text": ""
         },
         "tracegroupgap": 0
        },
        "shapes": [
         {
          "line": {
           "color": "red",
           "dash": "dash",
           "width": 1.2
          },
          "type": "line",
          "x0": 0,
          "x1": 1,
          "xref": "x domain",
          "y0": 0.5,
          "y1": 0.5,
          "yref": "y"
         }
        ],
        "template": {
         "data": {
          "bar": [
           {
            "error_x": {
             "color": "#2a3f5f"
            },
            "error_y": {
             "color": "#2a3f5f"
            },
            "marker": {
             "line": {
              "color": "#E5ECF6",
              "width": 0.5
             },
             "pattern": {
              "fillmode": "overlay",
              "size": 10,
              "solidity": 0.2
             }
            },
            "type": "bar"
           }
          ],
          "barpolar": [
           {
            "marker": {
             "line": {
              "color": "#E5ECF6",
              "width": 0.5
             },
             "pattern": {
              "fillmode": "overlay",
              "size": 10,
              "solidity": 0.2
             }
            },
            "type": "barpolar"
           }
          ],
          "carpet": [
           {
            "aaxis": {
             "endlinecolor": "#2a3f5f",
             "gridcolor": "white",
             "linecolor": "white",
             "minorgridcolor": "white",
             "startlinecolor": "#2a3f5f"
            },
            "baxis": {
             "endlinecolor": "#2a3f5f",
             "gridcolor": "white",
             "linecolor": "white",
             "minorgridcolor": "white",
             "startlinecolor": "#2a3f5f"
            },
            "type": "carpet"
           }
          ],
          "choropleth": [
           {
            "colorbar": {
             "outlinewidth": 0,
             "ticks": ""
            },
            "type": "choropleth"
           }
          ],
          "contour": [
           {
            "colorbar": {
             "outlinewidth": 0,
             "ticks": ""
            },
            "colorscale": [
             [
              0,
              "#0d0887"
             ],
             [
              0.1111111111111111,
              "#46039f"
             ],
             [
              0.2222222222222222,
              "#7201a8"
             ],
             [
              0.3333333333333333,
              "#9c179e"
             ],
             [
              0.4444444444444444,
              "#bd3786"
             ],
             [
              0.5555555555555556,
              "#d8576b"
             ],
             [
              0.6666666666666666,
              "#ed7953"
             ],
             [
              0.7777777777777778,
              "#fb9f3a"
             ],
             [
              0.8888888888888888,
              "#fdca26"
             ],
             [
              1,
              "#f0f921"
             ]
            ],
            "type": "contour"
           }
          ],
          "contourcarpet": [
           {
            "colorbar": {
             "outlinewidth": 0,
             "ticks": ""
            },
            "type": "contourcarpet"
           }
          ],
          "heatmap": [
           {
            "colorbar": {
             "outlinewidth": 0,
             "ticks": ""
            },
            "colorscale": [
             [
              0,
              "#0d0887"
             ],
             [
              0.1111111111111111,
              "#46039f"
             ],
             [
              0.2222222222222222,
              "#7201a8"
             ],
             [
              0.3333333333333333,
              "#9c179e"
             ],
             [
              0.4444444444444444,
              "#bd3786"
             ],
             [
              0.5555555555555556,
              "#d8576b"
             ],
             [
              0.6666666666666666,
              "#ed7953"
             ],
             [
              0.7777777777777778,
              "#fb9f3a"
             ],
             [
              0.8888888888888888,
              "#fdca26"
             ],
             [
              1,
              "#f0f921"
             ]
            ],
            "type": "heatmap"
           }
          ],
          "heatmapgl": [
           {
            "colorbar": {
             "outlinewidth": 0,
             "ticks": ""
            },
            "colorscale": [
             [
              0,
              "#0d0887"
             ],
             [
              0.1111111111111111,
              "#46039f"
             ],
             [
              0.2222222222222222,
              "#7201a8"
             ],
             [
              0.3333333333333333,
              "#9c179e"
             ],
             [
              0.4444444444444444,
              "#bd3786"
             ],
             [
              0.5555555555555556,
              "#d8576b"
             ],
             [
              0.6666666666666666,
              "#ed7953"
             ],
             [
              0.7777777777777778,
              "#fb9f3a"
             ],
             [
              0.8888888888888888,
              "#fdca26"
             ],
             [
              1,
              "#f0f921"
             ]
            ],
            "type": "heatmapgl"
           }
          ],
          "histogram": [
           {
            "marker": {
             "pattern": {
              "fillmode": "overlay",
              "size": 10,
              "solidity": 0.2
             }
            },
            "type": "histogram"
           }
          ],
          "histogram2d": [
           {
            "colorbar": {
             "outlinewidth": 0,
             "ticks": ""
            },
            "colorscale": [
             [
              0,
              "#0d0887"
             ],
             [
              0.1111111111111111,
              "#46039f"
             ],
             [
              0.2222222222222222,
              "#7201a8"
             ],
             [
              0.3333333333333333,
              "#9c179e"
             ],
             [
              0.4444444444444444,
              "#bd3786"
             ],
             [
              0.5555555555555556,
              "#d8576b"
             ],
             [
              0.6666666666666666,
              "#ed7953"
             ],
             [
              0.7777777777777778,
              "#fb9f3a"
             ],
             [
              0.8888888888888888,
              "#fdca26"
             ],
             [
              1,
              "#f0f921"
             ]
            ],
            "type": "histogram2d"
           }
          ],
          "histogram2dcontour": [
           {
            "colorbar": {
             "outlinewidth": 0,
             "ticks": ""
            },
            "colorscale": [
             [
              0,
              "#0d0887"
             ],
             [
              0.1111111111111111,
              "#46039f"
             ],
             [
              0.2222222222222222,
              "#7201a8"
             ],
             [
              0.3333333333333333,
              "#9c179e"
             ],
             [
              0.4444444444444444,
              "#bd3786"
             ],
             [
              0.5555555555555556,
              "#d8576b"
             ],
             [
              0.6666666666666666,
              "#ed7953"
             ],
             [
              0.7777777777777778,
              "#fb9f3a"
             ],
             [
              0.8888888888888888,
              "#fdca26"
             ],
             [
              1,
              "#f0f921"
             ]
            ],
            "type": "histogram2dcontour"
           }
          ],
          "mesh3d": [
           {
            "colorbar": {
             "outlinewidth": 0,
             "ticks": ""
            },
            "type": "mesh3d"
           }
          ],
          "parcoords": [
           {
            "line": {
             "colorbar": {
              "outlinewidth": 0,
              "ticks": ""
             }
            },
            "type": "parcoords"
           }
          ],
          "pie": [
           {
            "automargin": true,
            "type": "pie"
           }
          ],
          "scatter": [
           {
            "fillpattern": {
             "fillmode": "overlay",
             "size": 10,
             "solidity": 0.2
            },
            "type": "scatter"
           }
          ],
          "scatter3d": [
           {
            "line": {
             "colorbar": {
              "outlinewidth": 0,
              "ticks": ""
             }
            },
            "marker": {
             "colorbar": {
              "outlinewidth": 0,
              "ticks": ""
             }
            },
            "type": "scatter3d"
           }
          ],
          "scattercarpet": [
           {
            "marker": {
             "colorbar": {
              "outlinewidth": 0,
              "ticks": ""
             }
            },
            "type": "scattercarpet"
           }
          ],
          "scattergeo": [
           {
            "marker": {
             "colorbar": {
              "outlinewidth": 0,
              "ticks": ""
             }
            },
            "type": "scattergeo"
           }
          ],
          "scattergl": [
           {
            "marker": {
             "colorbar": {
              "outlinewidth": 0,
              "ticks": ""
             }
            },
            "type": "scattergl"
           }
          ],
          "scattermapbox": [
           {
            "marker": {
             "colorbar": {
              "outlinewidth": 0,
              "ticks": ""
             }
            },
            "type": "scattermapbox"
           }
          ],
          "scatterpolar": [
           {
            "marker": {
             "colorbar": {
              "outlinewidth": 0,
              "ticks": ""
             }
            },
            "type": "scatterpolar"
           }
          ],
          "scatterpolargl": [
           {
            "marker": {
             "colorbar": {
              "outlinewidth": 0,
              "ticks": ""
             }
            },
            "type": "scatterpolargl"
           }
          ],
          "scatterternary": [
           {
            "marker": {
             "colorbar": {
              "outlinewidth": 0,
              "ticks": ""
             }
            },
            "type": "scatterternary"
           }
          ],
          "surface": [
           {
            "colorbar": {
             "outlinewidth": 0,
             "ticks": ""
            },
            "colorscale": [
             [
              0,
              "#0d0887"
             ],
             [
              0.1111111111111111,
              "#46039f"
             ],
             [
              0.2222222222222222,
              "#7201a8"
             ],
             [
              0.3333333333333333,
              "#9c179e"
             ],
             [
              0.4444444444444444,
              "#bd3786"
             ],
             [
              0.5555555555555556,
              "#d8576b"
             ],
             [
              0.6666666666666666,
              "#ed7953"
             ],
             [
              0.7777777777777778,
              "#fb9f3a"
             ],
             [
              0.8888888888888888,
              "#fdca26"
             ],
             [
              1,
              "#f0f921"
             ]
            ],
            "type": "surface"
           }
          ],
          "table": [
           {
            "cells": {
             "fill": {
              "color": "#EBF0F8"
             },
             "line": {
              "color": "white"
             }
            },
            "header": {
             "fill": {
              "color": "#C8D4E3"
             },
             "line": {
              "color": "white"
             }
            },
            "type": "table"
           }
          ]
         },
         "layout": {
          "annotationdefaults": {
           "arrowcolor": "#2a3f5f",
           "arrowhead": 0,
           "arrowwidth": 1
          },
          "autotypenumbers": "strict",
          "coloraxis": {
           "colorbar": {
            "outlinewidth": 0,
            "ticks": ""
           }
          },
          "colorscale": {
           "diverging": [
            [
             0,
             "#8e0152"
            ],
            [
             0.1,
             "#c51b7d"
            ],
            [
             0.2,
             "#de77ae"
            ],
            [
             0.3,
             "#f1b6da"
            ],
            [
             0.4,
             "#fde0ef"
            ],
            [
             0.5,
             "#f7f7f7"
            ],
            [
             0.6,
             "#e6f5d0"
            ],
            [
             0.7,
             "#b8e186"
            ],
            [
             0.8,
             "#7fbc41"
            ],
            [
             0.9,
             "#4d9221"
            ],
            [
             1,
             "#276419"
            ]
           ],
           "sequential": [
            [
             0,
             "#0d0887"
            ],
            [
             0.1111111111111111,
             "#46039f"
            ],
            [
             0.2222222222222222,
             "#7201a8"
            ],
            [
             0.3333333333333333,
             "#9c179e"
            ],
            [
             0.4444444444444444,
             "#bd3786"
            ],
            [
             0.5555555555555556,
             "#d8576b"
            ],
            [
             0.6666666666666666,
             "#ed7953"
            ],
            [
             0.7777777777777778,
             "#fb9f3a"
            ],
            [
             0.8888888888888888,
             "#fdca26"
            ],
            [
             1,
             "#f0f921"
            ]
           ],
           "sequentialminus": [
            [
             0,
             "#0d0887"
            ],
            [
             0.1111111111111111,
             "#46039f"
            ],
            [
             0.2222222222222222,
             "#7201a8"
            ],
            [
             0.3333333333333333,
             "#9c179e"
            ],
            [
             0.4444444444444444,
             "#bd3786"
            ],
            [
             0.5555555555555556,
             "#d8576b"
            ],
            [
             0.6666666666666666,
             "#ed7953"
            ],
            [
             0.7777777777777778,
             "#fb9f3a"
            ],
            [
             0.8888888888888888,
             "#fdca26"
            ],
            [
             1,
             "#f0f921"
            ]
           ]
          },
          "colorway": [
           "#636efa",
           "#EF553B",
           "#00cc96",
           "#ab63fa",
           "#FFA15A",
           "#19d3f3",
           "#FF6692",
           "#B6E880",
           "#FF97FF",
           "#FECB52"
          ],
          "font": {
           "color": "#2a3f5f"
          },
          "geo": {
           "bgcolor": "white",
           "lakecolor": "white",
           "landcolor": "#E5ECF6",
           "showlakes": true,
           "showland": true,
           "subunitcolor": "white"
          },
          "hoverlabel": {
           "align": "left"
          },
          "hovermode": "closest",
          "mapbox": {
           "style": "light"
          },
          "paper_bgcolor": "white",
          "plot_bgcolor": "#E5ECF6",
          "polar": {
           "angularaxis": {
            "gridcolor": "white",
            "linecolor": "white",
            "ticks": ""
           },
           "bgcolor": "#E5ECF6",
           "radialaxis": {
            "gridcolor": "white",
            "linecolor": "white",
            "ticks": ""
           }
          },
          "scene": {
           "xaxis": {
            "backgroundcolor": "#E5ECF6",
            "gridcolor": "white",
            "gridwidth": 2,
            "linecolor": "white",
            "showbackground": true,
            "ticks": "",
            "zerolinecolor": "white"
           },
           "yaxis": {
            "backgroundcolor": "#E5ECF6",
            "gridcolor": "white",
            "gridwidth": 2,
            "linecolor": "white",
            "showbackground": true,
            "ticks": "",
            "zerolinecolor": "white"
           },
           "zaxis": {
            "backgroundcolor": "#E5ECF6",
            "gridcolor": "white",
            "gridwidth": 2,
            "linecolor": "white",
            "showbackground": true,
            "ticks": "",
            "zerolinecolor": "white"
           }
          },
          "shapedefaults": {
           "line": {
            "color": "#2a3f5f"
           }
          },
          "ternary": {
           "aaxis": {
            "gridcolor": "white",
            "linecolor": "white",
            "ticks": ""
           },
           "baxis": {
            "gridcolor": "white",
            "linecolor": "white",
            "ticks": ""
           },
           "bgcolor": "#E5ECF6",
           "caxis": {
            "gridcolor": "white",
            "linecolor": "white",
            "ticks": ""
           }
          },
          "title": {
           "x": 0.05
          },
          "xaxis": {
           "automargin": true,
           "gridcolor": "white",
           "linecolor": "white",
           "ticks": "",
           "title": {
            "standoff": 15
           },
           "zerolinecolor": "white",
           "zerolinewidth": 2
          },
          "yaxis": {
           "automargin": true,
           "gridcolor": "white",
           "linecolor": "white",
           "ticks": "",
           "title": {
            "standoff": 15
           },
           "zerolinecolor": "white",
           "zerolinewidth": 2
          }
         }
        },
        "title": {
         "text": "Figura 1. In-sample R² disentangled.",
         "x": 0.05,
         "y": 0.03
        },
        "width": 1200,
        "xaxis": {
         "anchor": "y",
         "domain": [
          0,
          1
         ],
         "tickangle": 25,
         "title": {
          "text": ""
         }
        },
        "yaxis": {
         "anchor": "x",
         "domain": [
          0,
          1
         ],
         "title": {
          "text": "R² (%)"
         }
        }
       }
      }
     },
     "metadata": {},
     "output_type": "display_data"
    }
   ],
   "source": [
    "r2_df.index = ['MA(1,9)','MA(1,12)','MA(2,9)','MA(2,12)','MA(3,9)','MA(3,12)','MOM(9)','MOM(12)','VOL(1,9)','VOL(1,12)','VOL(2,9)','VOL(2,12)','VOL(3,9)','VOL(3,12)']\n",
    "\n",
    "cores2 = [px.colors.qualitative.G10[8], px.colors.qualitative.Set1[4], \n",
    "          px.colors.qualitative.Plotly[9], px.colors.qualitative.G10[7], px.colors.qualitative.Safe[3]]\n",
    "\n",
    "fig = px.bar(r2_df*100, r2_df.index, [\"Extreme Fear\", \"Fear\", \"Neutral\", \"Greed\", \"Extreme Greed\"], \n",
    "             title=\"Figura 1. In-sample R² disentangled.\", color_discrete_sequence=cores2,\n",
    "             labels={\"value\": \"R² (%)\", \"index\": \"\", \"variable\": \"\"})\n",
    "fig.add_hline(y=0.5, line_width=1.2, line_dash=\"dash\", line_color=\"red\")\n",
    "fig.update_layout(barmode='group',bargroupgap=0, bargap=0.4, width=1200, height=400, title_x=0.05, title_y=0.03)\n",
    "fig.update_xaxes(tickangle=25)\n",
    "fig.show()"
   ]
  }
 ],
 "metadata": {
  "kernelspec": {
   "display_name": "Python 3 (ipykernel)",
   "language": "python",
   "name": "python3"
  },
  "language_info": {
   "codemirror_mode": {
    "name": "ipython",
    "version": 3
   },
   "file_extension": ".py",
   "mimetype": "text/x-python",
   "name": "python",
   "nbconvert_exporter": "python",
   "pygments_lexer": "ipython3",
   "version": "3.11.3"
  }
 },
 "nbformat": 4,
 "nbformat_minor": 4
}
